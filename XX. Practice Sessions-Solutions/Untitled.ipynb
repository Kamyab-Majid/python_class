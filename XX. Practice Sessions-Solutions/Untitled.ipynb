{
 "cells": [
  {
   "cell_type": "code",
   "execution_count": 374,
   "id": "00e26a21",
   "metadata": {},
   "outputs": [],
   "source": [
    "class Point:\n",
    "    def __init__(self, x, y):\n",
    "        self.x = x\n",
    "        self.y = y\n",
    "\n",
    "    def __repr__(self):\n",
    "        return f\"Point({self.x}, {self.y})\"\n",
    "    \n",
    "    def __abs__(self):\n",
    "        return (self.x ** 2 + self.y ** 2) ** 0.5\n",
    "    \n",
    "    def __gt__(self, obj):\n",
    "        return abs(self) > abs(obj)"
   ]
  },
  {
   "cell_type": "code",
   "execution_count": 375,
   "id": "4451d5ca",
   "metadata": {},
   "outputs": [],
   "source": [
    "my_points = [Point(3, 4), Point(6, 8), Point(2, 2), Point(9, 11)]"
   ]
  },
  {
   "cell_type": "code",
   "execution_count": 377,
   "id": "7a803a94",
   "metadata": {},
   "outputs": [
    {
     "data": {
      "text/plain": [
       "[Point(2, 2), Point(3, 4), Point(6, 8), Point(9, 11)]"
      ]
     },
     "execution_count": 377,
     "metadata": {},
     "output_type": "execute_result"
    }
   ],
   "source": [
    "sorted(my_points)"
   ]
  },
  {
   "cell_type": "code",
   "execution_count": null,
   "id": "ac9197f9",
   "metadata": {},
   "outputs": [],
   "source": []
  },
  {
   "cell_type": "code",
   "execution_count": null,
   "id": "446c0437",
   "metadata": {},
   "outputs": [],
   "source": []
  },
  {
   "cell_type": "code",
   "execution_count": null,
   "id": "2f586655",
   "metadata": {},
   "outputs": [],
   "source": []
  }
 ],
 "metadata": {
  "kernelspec": {
   "display_name": "Python 3 (ipykernel)",
   "language": "python",
   "name": "python3"
  },
  "language_info": {
   "codemirror_mode": {
    "name": "ipython",
    "version": 3
   },
   "file_extension": ".py",
   "mimetype": "text/x-python",
   "name": "python",
   "nbconvert_exporter": "python",
   "pygments_lexer": "ipython3",
   "version": "3.7.10"
  }
 },
 "nbformat": 4,
 "nbformat_minor": 5
}

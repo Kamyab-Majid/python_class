{
 "cells": [
  {
   "cell_type": "markdown",
   "metadata": {},
   "source": [
    "# 01. Practice Session\n",
    "\n",
    "> Covering Data Types, Functions, and IO."
   ]
  },
  {
   "cell_type": "markdown",
   "metadata": {},
   "source": [
    "### 1. `print` output?\n",
    "\n",
    "```python\n",
    ">>> x, y = [1, 2, 3], ['1', '2', '3']\n",
    ">>> print(x*3, y*3)\n",
    "```\n",
    "\n",
    "---"
   ]
  },
  {
   "cell_type": "markdown",
   "metadata": {},
   "source": [
    "### 2. Type of `*args` and `**kwargs`?\n",
    "\n",
    "```python\n",
    "def func(a, b, c, ..., *args, **kwargs):\n",
    "```\n",
    "\n",
    "---"
   ]
  },
  {
   "cell_type": "markdown",
   "metadata": {},
   "source": [
    "|Type|Example|\n",
    "|:--|:--|\n",
    "|Positional Argument|`func(1, 2)`|\n",
    "|Keyword Argument|`func(a=1, b=2)`|\n",
    "|Infinite Positional Argument|`def func(*args):`|\n",
    "|Infinite Keyword Argument|`def func(**kwargs):`|\n",
    "|Optional Argument|`def func(a=1, b=2):`|\n",
    "|Required Argument|`def func(a, b):`|"
   ]
  },
  {
   "cell_type": "markdown",
   "metadata": {},
   "source": [
    "### 3. Define a `tuple` with length = 1.\n",
    "\n",
    "```python\n",
    ">>> mytuple = # code here\n",
    "```\n",
    "\n",
    "---"
   ]
  },
  {
   "cell_type": "markdown",
   "metadata": {},
   "source": [
    "### 4. What is the output where indicated with `# ?`?\n",
    "\n",
    "```python\n",
    ">>> x = ['1', '2', '3']\n",
    ">>> y = ''.join(x) # ?\n",
    ">>> x = ['1', '2', 3]\n",
    ">>> y = ''.join(x) # ?\n",
    ">>> y.find(\"1\")\n",
    ">>> '1' in x # ?\n",
    ">>> '1' in y # ?\n",
    ">>> type(x) # ?\n",
    ">>> type(y) # ?\n",
    ">>> z = x\n",
    ">>> z *= 2\n",
    ">>> x[0] = 0\n",
    ">>> x # ?\n",
    ">>> z # ?\n",
    ">>> s1 = 'Ali'\n",
    ">>> L1 = list(s1) # ?\n",
    "```\n",
    "\n",
    "---"
   ]
  },
  {
   "cell_type": "markdown",
   "metadata": {},
   "source": [
    "### 5. Write down the variable value in each line:\n",
    "\n",
    "```python\n",
    ">>> x = [i + 1 for i in range(10)]\n",
    ">>> y = [i * 2 for i in x if i > 5]\n",
    ">>> z = [(i, i + 1) for i in range(-2, 2) if i % 2 == 0]\n",
    "```"
   ]
  },
  {
   "cell_type": "markdown",
   "metadata": {},
   "source": [
    "```python\n",
    ">>> A0 = dict(zip(('a','b','c','d','e'), (1,2,3,4,5)))\n",
    ">>> A1 = range(10)\n",
    ">>> A2 = [i for i in A1 if i in A0]\n",
    ">>> A3 = sorted([A0[s] for s in A0])\n",
    ">>> A4 = [i for i in A1 if i in A3]\n",
    ">>> A5 = {i:i*i for i in A1}\n",
    ">>> A6 = [[i,i*i] for i in A1]\n",
    "```\n",
    "\n",
    "---"
   ]
  },
  {
   "cell_type": "markdown",
   "metadata": {},
   "source": [
    "### 6. Let `x = [1, 2, 3, 4]`, `y = [2, 2, 3, 4]`. How do you produce `z = [1, 4, 9, 16]` with list comprehension?\n",
    "\n",
    "```python\n",
    ">>> x = [1, 2, 3, 4]\n",
    ">>> y = [1, 2, 3, 4]\n",
    "\n",
    "z = # code here\n",
    "```\n",
    "\n",
    "---"
   ]
  },
  {
   "cell_type": "markdown",
   "metadata": {},
   "source": [
    "### 7. `print` output?\n",
    "\n",
    "```python\n",
    ">>> x = ['foo', [1, 2, 3], 10.4]\n",
    ">>> y = x[:]\n",
    ">>> y[0] = 'fooooooo'\n",
    ">>> y[1][0] = 4\n",
    "\n",
    ">>> print(x, y, end = '*')\n",
    "```\n",
    "---"
   ]
  },
  {
   "cell_type": "markdown",
   "metadata": {},
   "source": [
    "### 8. Output where indicated with `# ?`.\n",
    "\n",
    "```python\n",
    "def f(*args, **kwargs):\n",
    "    print(args, kwargs)\n",
    "\n",
    ">>> l = [1, 2, 3]\n",
    ">>> t = (4, 5, 6)\n",
    ">>> d = {'a':7, 'b':8, 'c':9}\n",
    "\n",
    ">>> f() # ?\n",
    ">>> f(1, 2, 3) # ?\n",
    ">>> f(1, 2, 3, \"groovy\") # ?\n",
    ">>> f(a=1, b=2, c=3) # ?\n",
    "\n",
    ">>> f(a=1, b=2, c=3, zzz=\"hi\") # ?\n",
    ">>> f(1, 2, 3, a=1, b=2, c=3) # ?\n",
    ">>> f(*l, **d) # ?\n",
    ">>> f(*t, **d) # ?\n",
    ">>> f(1, 2, *t) # ?\n",
    ">>> f(q=\"winning\", **d)  # ?\n",
    ">>> f(1, 2, *t, q=\"winning\", **d) # ?\n",
    "```\n",
    "\n",
    "---"
   ]
  },
  {
   "cell_type": "markdown",
   "metadata": {},
   "source": [
    "### 9. Output where indicated with `# ?`.\n",
    "\n",
    "```python\n",
    "def f2(arg1, arg2, *args, **kwargs):\n",
    "    print(arg1, arg2, args, kwargs)\n",
    "\n",
    ">>> f2(1, 2, 3) # ?\n",
    ">>> f2(1, 2, 3, \"groovy\") # ?\n",
    ">>> f2(arg1=1, arg2=2, c=3) # ?\n",
    ">>> f2(arg1=1, arg2=2, c=3, zzz=\"hi\") # ?\n",
    ">>> f2(1, 2, 3, a=1, b=2, c=3) # ?\n",
    ">>> f2(*l, **d) # ?\n",
    ">>> f2(*t, **d) # ?\n",
    ">>> f2(1, 2, *t) # ?\n",
    ">>> f2(1, 1, q=\"winning\", **d) # ?\n",
    ">>> f2(1, 2, *t, q=\"winning\", **d) # ?\n",
    "```\n",
    "\n",
    "---"
   ]
  },
  {
   "cell_type": "markdown",
   "metadata": {},
   "source": [
    "### 9. Decode Nazis Messages\n",
    "\n",
    "German Nazis are using a system (Enigma) to encode their messages through transmission. We know that the system shifts every character with a constant number and all chracters are ASCII. For example with a `shift = 2`: \"abcde\" is encrypted to \"cdefg\"\n",
    "\n",
    "We also know that Germans put the phrase \"Heil Hitler\" in every encrypted message.\n",
    "\n",
    "1. Write a function that can decode a German message provided a constant shift. Write the decoded message in a `decoded.txt` file.\n",
    "2. What is the time and space complexity of decode function? what about your final code?"
   ]
  }
 ],
 "metadata": {
  "kernelspec": {
   "display_name": "Python 3 (ipykernel)",
   "language": "python",
   "name": "python3"
  },
  "language_info": {
   "codemirror_mode": {
    "name": "ipython",
    "version": 3
   },
   "file_extension": ".py",
   "mimetype": "text/x-python",
   "name": "python",
   "nbconvert_exporter": "python",
   "pygments_lexer": "ipython3",
   "version": "3.7.10"
  }
 },
 "nbformat": 4,
 "nbformat_minor": 4
}

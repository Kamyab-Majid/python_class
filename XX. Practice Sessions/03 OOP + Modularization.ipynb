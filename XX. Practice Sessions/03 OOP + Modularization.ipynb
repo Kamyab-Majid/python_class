{
 "cells": [
  {
   "cell_type": "markdown",
   "id": "moved-visibility",
   "metadata": {},
   "source": [
    "# OOP and Modularization"
   ]
  },
  {
   "cell_type": "markdown",
   "id": "supreme-discovery",
   "metadata": {},
   "source": [
    "1. Given an list of points where `points[i] = (xi, yi)` sort all points based on its distance from origin (0,0).\n",
    "\n",
    "```python\n",
    "\n",
    "([(1,2),(3,4),(5,6),(7,8)] , 2) => [(1,2),(3,4)]\n",
    "\n",
    "```\n",
    "Use a class for points. \n",
    "use a \n",
    "The distance between two points on the X-Y plane is the Euclidean distance (i.e, $\\sqrt{x_1^2 + y_1^2)}$.\n",
    "\n",
    "```python\n",
    "class Point:\n",
    "    pass\n",
    "\n",
    "mylist = [Point(3, 4), Point(6, 8), Point(2, 2), Point(9, 11)]\n",
    "```"
   ]
  },
  {
   "cell_type": "code",
   "execution_count": 14,
   "id": "3516d42e-3638-4b0f-84d2-c2390a66996d",
   "metadata": {
    "jupyter": {
     "source_hidden": true
    },
    "tags": []
   },
   "outputs": [],
   "source": [
    "class Points:\n",
    "    def __init__(self,x,y):\n",
    "        self.x = x\n",
    "        self.y = y\n",
    "    def __lt__(self, other):\n",
    "            return (self.x**2+self.y**2) < (other.x**2+other.y**2)\n",
    "    def __repr__(self):\n",
    "        return f'({self.x},{self.y})'"
   ]
  },
  {
   "cell_type": "code",
   "execution_count": 17,
   "id": "86be1e9a-682e-4c4b-ad84-6bbbb64c4b43",
   "metadata": {
    "jupyter": {
     "source_hidden": true
    },
    "tags": []
   },
   "outputs": [
    {
     "data": {
      "text/plain": [
       "[(1,2), (3,4), (5,6), (7,8)]"
      ]
     },
     "execution_count": 17,
     "metadata": {},
     "output_type": "execute_result"
    }
   ],
   "source": [
    "new_list=[]\n",
    "for i in [(3,4),(1,2),(7,8),(5,6)]:\n",
    "    new_list.append(Points(*i))\n",
    "sorted(new_list)"
   ]
  },
  {
   "cell_type": "markdown",
   "id": "public-fusion",
   "metadata": {},
   "source": [
    "2. Define `__str__` and `__repr__` dunder methods."
   ]
  },
  {
   "cell_type": "markdown",
   "id": "demonstrated-constitution",
   "metadata": {},
   "source": [
    "Read [Python String Conversion 101: Why Every Class Needs a “repr”](https://dbader.org/blog/python-repr-vs-str) for a complete tutorial on `__repr__` and the difference between `__repr__` and `__str__`."
   ]
  },
  {
   "cell_type": "markdown",
   "id": "renewable-estonia",
   "metadata": {},
   "source": [
    "3. Extend your class to `n` dimensions ($\\sqrt[2]{x_1^2 + x_2^2 + ... + x_n^2}$)"
   ]
  },
  {
   "cell_type": "markdown",
   "id": "warming-neighborhood",
   "metadata": {},
   "source": [
    "4. Write your class in a module named `geo.py` and import it."
   ]
  },
  {
   "cell_type": "code",
   "execution_count": null,
   "id": "b84d51d2-b395-4d13-9f47-dff5240869d6",
   "metadata": {},
   "outputs": [],
   "source": []
  }
 ],
 "metadata": {
  "kernelspec": {
   "display_name": "Python 3 (ipykernel)",
   "language": "python",
   "name": "python3"
  },
  "language_info": {
   "codemirror_mode": {
    "name": "ipython",
    "version": 3
   },
   "file_extension": ".py",
   "mimetype": "text/x-python",
   "name": "python",
   "nbconvert_exporter": "python",
   "pygments_lexer": "ipython3",
   "version": "3.8.12"
  }
 },
 "nbformat": 4,
 "nbformat_minor": 5
}

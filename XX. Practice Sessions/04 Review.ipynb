{
 "cells": [
  {
   "cell_type": "markdown",
   "id": "adopted-latino",
   "metadata": {},
   "source": [
    "# 05. Review"
   ]
  },
  {
   "cell_type": "markdown",
   "id": "regulation-passport",
   "metadata": {},
   "source": [
    "### 1. Write a function that receives an iterable and an item, returns `True` if the item exists in iterable, `False` if it does not.\n",
    "\n",
    "**Note:** You should not use `item in mylist`. Use a for loop instead.\n",
    "\n",
    "```python\n",
    "def search(iterable, item):\n",
    "    # code here\n",
    "```"
   ]
  },
  {
   "cell_type": "markdown",
   "id": "chinese-surprise",
   "metadata": {},
   "source": [
    "### 2. Write the previous function with `for else`."
   ]
  },
  {
   "cell_type": "markdown",
   "id": "dense-italian",
   "metadata": {},
   "source": [
    "### 3. Which one is more efficient? Why?\n",
    "\n",
    "1.\n",
    "```python\n",
    "for key in mydict:\n",
    "    print(key, mydict[key])\n",
    "```\n",
    "\n",
    "2.\n",
    "```python\n",
    "for key, value in mydict:\n",
    "    print(key, value)\n",
    "```"
   ]
  },
  {
   "cell_type": "markdown",
   "id": "mineral-proof",
   "metadata": {},
   "source": [
    "### 4. Write a code that counts the number of items in an iterable.\n",
    "\n",
    "```python\n",
    "mylist = ['red', 'green', 'red', 'blue', 'green', 'red', 'red', 'red', 'blue', 'blue']\n",
    "```\n",
    "\n",
    "Output should look like this:\n",
    "```python\n",
    "{\n",
    "    'red': 5,\n",
    "    'green': 2,\n",
    "    'blue': 3'\n",
    "}\n",
    "```"
   ]
  },
  {
   "cell_type": "markdown",
   "id": "raising-mercy",
   "metadata": {},
   "source": [
    "### 5. Write a function that generates passwords and a function that checks if a password is valid.\n",
    "\n",
    "Password requirements:\n",
    "- Length > 8\n",
    "- Have at least 1 capital letter.\n",
    "- Have at least 1 non numeric/alphabetic characters.\n",
    "\n",
    "```python\n",
    "def generate_password():\n",
    "    # code here\n",
    "\n",
    "def check_password(password):\n",
    "    # code here\n",
    "```"
   ]
  },
  {
   "cell_type": "markdown",
   "id": "specific-pride",
   "metadata": {},
   "source": [
    "### 6. What is the output in lines indicated by `#?`? Why?\n",
    "\n",
    "```python\n",
    "def add_employee(emp, emp_list=[]):\n",
    "    emp_list.append(emp)\n",
    "    \n",
    "    return emp_list\n",
    "\n",
    "add_employee(\"Name 1\") #?\n",
    "add_employee(\"Name 2\") #?\n",
    "add_employee(\"Name 3\") #?\n",
    "```\n",
    "\n",
    "##### If there are unexpected results, what is your solution?"
   ]
  }
 ],
 "metadata": {
  "kernelspec": {
   "display_name": "Python 3 (ipykernel)",
   "language": "python",
   "name": "python3"
  },
  "language_info": {
   "codemirror_mode": {
    "name": "ipython",
    "version": 3
   },
   "file_extension": ".py",
   "mimetype": "text/x-python",
   "name": "python",
   "nbconvert_exporter": "python",
   "pygments_lexer": "ipython3",
   "version": "3.8.12"
  }
 },
 "nbformat": 4,
 "nbformat_minor": 5
}

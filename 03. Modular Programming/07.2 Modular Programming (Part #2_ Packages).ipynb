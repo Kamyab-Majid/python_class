{
 "cells": [
  {
   "cell_type": "markdown",
   "id": "involved-factor",
   "metadata": {},
   "source": [
    "# 07.2 Modular Programming (Part #2: Packages)"
   ]
  },
  {
   "cell_type": "markdown",
   "id": "metropolitan-teacher",
   "metadata": {},
   "source": [
    "TOC:\n",
    "* [1. Packages](#packages)\n",
    "* [2. Package Initialization](#package_init)\n",
    "* [3. Importing `*` from a Package](#package_import_*)\n",
    "* [4. Subpackages](#subpackages)\n",
    "* [4. Summary](#summary)"
   ]
  },
  {
   "cell_type": "markdown",
   "id": "capital-extent",
   "metadata": {},
   "source": [
    "<a class=\"anchor\" id=\"packages\"></a>\n",
    "## 1. Packages"
   ]
  },
  {
   "cell_type": "markdown",
   "id": "front-india",
   "metadata": {},
   "source": [
    "Suppose you have developed a very large application that includes many modules. As the number of modules grows, it becomes difficult to keep track of them all if they are dumped into one location. This is particularly so if they have similar names or functionality. You might wish for a means of grouping and organizing them."
   ]
  },
  {
   "cell_type": "markdown",
   "id": "guided-metro",
   "metadata": {},
   "source": [
    "**Packages** allow for a hierarchical structuring of the module namespace using **dot notation**.\n",
    "\n",
    "- **Modules** help avoid collisions between global variable names.\n",
    "- **Packages** help avoid collisions between module names."
   ]
  },
  {
   "attachments": {
    "e4f3db38-a157-402e-8f15-4ca61c563335.png": {
     "image/png": "[encoded data removed]"
    }
   },
   "cell_type": "markdown",
   "id": "imposed-statistics",
   "metadata": {},
   "source": [
    "![package.png](attachment:e4f3db38-a157-402e-8f15-4ca61c563335.png)Creating a package is quite straightforward, since it makes use of the operating system’s inherent hierarchical file structure. Consider the following arrangement:\n",
    "\n",
    "<img src=\"../images/package.png\" alt=\"package\" width=200 align=\"left\" />"
   ]
  },
  {
   "cell_type": "markdown",
   "id": "aboriginal-amendment",
   "metadata": {},
   "source": [
    "Here, there is a directory named `pkg` that contains two modules, `mod1.py` and `mod2.py`. The contents of the modules are:"
   ]
  },
  {
   "cell_type": "code",
   "execution_count": 41,
   "id": "120ab751-93d1-454d-81bb-c632c6a6587d",
   "metadata": {},
   "outputs": [],
   "source": [
    "!mkdir pkg"
   ]
  },
  {
   "cell_type": "code",
   "execution_count": 42,
   "id": "crude-syracuse",
   "metadata": {
    "tags": []
   },
   "outputs": [
    {
     "name": "stdout",
     "output_type": "stream",
     "text": [
      "Writing pkg/mod1.py\n"
     ]
    }
   ],
   "source": [
    "%%writefile pkg/mod1.py\n",
    "def add(a, b):\n",
    "    return a + b\n",
    "\n",
    "class Foo:\n",
    "    pass"
   ]
  },
  {
   "cell_type": "code",
   "execution_count": 43,
   "id": "d78d3c78-e803-4ee7-8238-bedd31643ede",
   "metadata": {},
   "outputs": [
    {
     "name": "stdout",
     "output_type": "stream",
     "text": [
      "'07.1 Modular Programming (Part #1_ Modules).ipynb'    pkg\n",
      "'07.2 Modular Programming (Part #2_ Packages).ipynb'\n"
     ]
    }
   ],
   "source": [
    "!ls"
   ]
  },
  {
   "cell_type": "code",
   "execution_count": 44,
   "id": "alternate-amber",
   "metadata": {},
   "outputs": [
    {
     "name": "stdout",
     "output_type": "stream",
     "text": [
      "Writing pkg/mod2.py\n"
     ]
    }
   ],
   "source": [
    "%%writefile pkg/mod2.py\n",
    "def multiply(a, b):\n",
    "    return a * b\n",
    "\n",
    "class Bar:\n",
    "    pass"
   ]
  },
  {
   "cell_type": "markdown",
   "id": "honest-riverside",
   "metadata": {},
   "source": [
    "Given this structure, if the `pkg` directory resides in a location where it can be found (in one of the directories contained in sys.path), you can refer to the two modules with **dot notation** (`pkg.mod1`, `pkg.mod2`) and import them with the syntax you are already familiar with:"
   ]
  },
  {
   "cell_type": "markdown",
   "id": "oriented-shark",
   "metadata": {},
   "source": [
    "You can technically import the package:"
   ]
  },
  {
   "cell_type": "code",
   "execution_count": 6,
   "id": "continued-works",
   "metadata": {},
   "outputs": [],
   "source": [
    "import pkg"
   ]
  },
  {
   "cell_type": "code",
   "execution_count": 7,
   "id": "charitable-nutrition",
   "metadata": {},
   "outputs": [
    {
     "data": {
      "text/plain": [
       "<module 'pkg' from '/mnt/d/class/python_class/03. Modular Programming/pkg/__init__.py'>"
      ]
     },
     "execution_count": 7,
     "metadata": {},
     "output_type": "execute_result"
    }
   ],
   "source": [
    "pkg"
   ]
  },
  {
   "cell_type": "markdown",
   "id": "generic-sharp",
   "metadata": {},
   "source": [
    "Though this is, strictly speaking, a syntactically correct Python statement, it doesn’t do much of anything useful. In particular, it does not place any of the modules in `pkg` into the local namespace:"
   ]
  },
  {
   "cell_type": "code",
   "execution_count": 12,
   "id": "invisible-palace",
   "metadata": {},
   "outputs": [
    {
     "data": {
      "text/plain": [
       "<module 'pkg.mod1' from '/mnt/d/class/python_class/03. Modular Programming/pkg/mod1.py'>"
      ]
     },
     "execution_count": 12,
     "metadata": {},
     "output_type": "execute_result"
    }
   ],
   "source": [
    "pkg.mod1"
   ]
  },
  {
   "cell_type": "code",
   "execution_count": 13,
   "id": "orange-registrar",
   "metadata": {},
   "outputs": [
    {
     "ename": "TypeError",
     "evalue": "add() missing 2 required positional arguments: 'a' and 'b'",
     "output_type": "error",
     "traceback": [
      "\u001b[0;31m---------------------------------------------------------------------------\u001b[0m",
      "\u001b[0;31mTypeError\u001b[0m                                 Traceback (most recent call last)",
      "\u001b[0;32m/tmp/ipykernel_1768/2455731441.py\u001b[0m in \u001b[0;36m<module>\u001b[0;34m\u001b[0m\n\u001b[0;32m----> 1\u001b[0;31m \u001b[0mpkg\u001b[0m\u001b[0;34m.\u001b[0m\u001b[0mmod1\u001b[0m\u001b[0;34m.\u001b[0m\u001b[0madd\u001b[0m\u001b[0;34m(\u001b[0m\u001b[0;34m)\u001b[0m\u001b[0;34m\u001b[0m\u001b[0;34m\u001b[0m\u001b[0m\n\u001b[0m",
      "\u001b[0;31mTypeError\u001b[0m: add() missing 2 required positional arguments: 'a' and 'b'"
     ]
    }
   ],
   "source": [
    "pkg.mod1.add()"
   ]
  },
  {
   "cell_type": "markdown",
   "id": "internal-mixture",
   "metadata": {},
   "source": [
    "To actually import the modules or their contents, you need to use one of the forms shown below:"
   ]
  },
  {
   "cell_type": "code",
   "execution_count": 14,
   "id": "judicial-dakota",
   "metadata": {},
   "outputs": [
    {
     "data": {
      "text/plain": [
       "12"
      ]
     },
     "execution_count": 14,
     "metadata": {},
     "output_type": "execute_result"
    }
   ],
   "source": [
    "import pkg.mod1, pkg.mod2\n",
    "\n",
    "pkg.mod1.add(6, 5)\n",
    "pkg.mod2.multiply(3, 4)"
   ]
  },
  {
   "cell_type": "code",
   "execution_count": 15,
   "id": "foster-terrain",
   "metadata": {},
   "outputs": [
    {
     "data": {
      "text/plain": [
       "11"
      ]
     },
     "execution_count": 15,
     "metadata": {},
     "output_type": "execute_result"
    }
   ],
   "source": [
    "from pkg.mod1 import add\n",
    "\n",
    "add(6, 5)"
   ]
  },
  {
   "cell_type": "code",
   "execution_count": 16,
   "id": "standing-military",
   "metadata": {},
   "outputs": [
    {
     "data": {
      "text/plain": [
       "11"
      ]
     },
     "execution_count": 16,
     "metadata": {},
     "output_type": "execute_result"
    }
   ],
   "source": [
    "from pkg.mod1 import add as add_numbers\n",
    "\n",
    "add_numbers(6, 5)"
   ]
  },
  {
   "cell_type": "markdown",
   "id": "bronze-conflict",
   "metadata": {},
   "source": [
    "<a class=\"anchor\" id=\"package_init\"></a>\n",
    "## 2. Package Initialization"
   ]
  },
  {
   "cell_type": "code",
   "execution_count": 17,
   "id": "fabulous-central",
   "metadata": {},
   "outputs": [],
   "source": [
    "# removing previously imported modules and packages\n",
    "del pkg, add, add_numbers"
   ]
  },
  {
   "cell_type": "markdown",
   "id": "rising-greece",
   "metadata": {},
   "source": [
    "If a file named `__init__.py` is present in a package directory, it is invoked when the package or a module in the package is imported. This can be used for execution of package initialization code, such as initialization of package-level data."
   ]
  },
  {
   "cell_type": "markdown",
   "id": "color-compatibility",
   "metadata": {},
   "source": [
    "For example, consider the following `__init__.py` file:"
   ]
  },
  {
   "cell_type": "code",
   "execution_count": 19,
   "id": "furnished-person",
   "metadata": {},
   "outputs": [
    {
     "name": "stdout",
     "output_type": "stream",
     "text": [
      "Writing pkg/__init__.py\n"
     ]
    }
   ],
   "source": [
    "%%writefile pkg/__init__.py\n",
    "print(f'Invoking __init__.py for {__name__}')\n",
    "A = ['item_1', 'item_2', 'item_3']"
   ]
  },
  {
   "cell_type": "markdown",
   "id": "confirmed-break",
   "metadata": {},
   "source": [
    "Let’s add this file to the `pkg` directory from the above example:\n",
    "\n",
    "<img src=\"../images/init.png\" alt=\"init\" width=200 align=\"left\" />"
   ]
  },
  {
   "cell_type": "code",
   "execution_count": 20,
   "id": "closing-cutting",
   "metadata": {},
   "outputs": [],
   "source": [
    "import pkg"
   ]
  },
  {
   "cell_type": "code",
   "execution_count": 21,
   "id": "advanced-liquid",
   "metadata": {},
   "outputs": [
    {
     "name": "stdout",
     "output_type": "stream",
     "text": [
      "Invoking __init__.py for pkg\n"
     ]
    },
    {
     "data": {
      "text/plain": [
       "<module 'pkg' from '/mnt/d/class/python_class/03. Modular Programming/pkg/__init__.py'>"
      ]
     },
     "execution_count": 21,
     "metadata": {},
     "output_type": "execute_result"
    }
   ],
   "source": [
    "# pkg is loaded already, so we have to reload it to make __init__.py be executed again.\n",
    "from importlib import reload\n",
    "\n",
    "reload(pkg)"
   ]
  },
  {
   "cell_type": "markdown",
   "id": "pending-compilation",
   "metadata": {},
   "source": [
    "Now when the package is imported, the global list `A` is initialized:"
   ]
  },
  {
   "cell_type": "code",
   "execution_count": 22,
   "id": "assigned-lodge",
   "metadata": {},
   "outputs": [
    {
     "data": {
      "text/plain": [
       "['item_1', 'item_2', 'item_3']"
      ]
     },
     "execution_count": 22,
     "metadata": {},
     "output_type": "execute_result"
    }
   ],
   "source": [
    "pkg.A"
   ]
  },
  {
   "cell_type": "markdown",
   "id": "express-length",
   "metadata": {},
   "source": [
    "A module in the package can access the global variable by importing it in turn:"
   ]
  },
  {
   "cell_type": "code",
   "execution_count": 25,
   "id": "deadly-laundry",
   "metadata": {},
   "outputs": [
    {
     "name": "stdout",
     "output_type": "stream",
     "text": [
      "Overwriting pkg/mod1.py\n"
     ]
    }
   ],
   "source": [
    "%%writefile pkg/mod1.py\n",
    "from pkg import A\n",
    "print(A)\n",
    "\n",
    "def add(a, b):\n",
    "    return a + b\n",
    "\n",
    "class Foo:\n",
    "    pass"
   ]
  },
  {
   "cell_type": "code",
   "execution_count": 26,
   "id": "sitting-collective",
   "metadata": {},
   "outputs": [],
   "source": [
    "from pkg import mod1"
   ]
  },
  {
   "cell_type": "code",
   "execution_count": 27,
   "id": "formal-alabama",
   "metadata": {},
   "outputs": [
    {
     "name": "stdout",
     "output_type": "stream",
     "text": [
      "['item_1', 'item_2', 'item_3']\n"
     ]
    },
    {
     "data": {
      "text/plain": [
       "<module 'pkg.mod1' from '/mnt/d/class/python_class/03. Modular Programming/pkg/mod1.py'>"
      ]
     },
     "execution_count": 27,
     "metadata": {},
     "output_type": "execute_result"
    }
   ],
   "source": [
    "# mod1 is already imported, reloading it to show how print(A) works.\n",
    "reload(mod1)"
   ]
  },
  {
   "cell_type": "code",
   "execution_count": 30,
   "id": "coordinated-white",
   "metadata": {},
   "outputs": [
    {
     "data": {
      "text/plain": [
       "5"
      ]
     },
     "execution_count": 30,
     "metadata": {},
     "output_type": "execute_result"
    }
   ],
   "source": [
    "mod1.add(2, 3)"
   ]
  },
  {
   "cell_type": "code",
   "execution_count": 31,
   "id": "06542b84-6e4e-46f3-aafa-3ec6c933c16b",
   "metadata": {},
   "outputs": [
    {
     "data": {
      "text/plain": [
       "['A',\n",
       " '__builtins__',\n",
       " '__cached__',\n",
       " '__doc__',\n",
       " '__file__',\n",
       " '__loader__',\n",
       " '__name__',\n",
       " '__package__',\n",
       " '__path__',\n",
       " '__spec__',\n",
       " 'mod1',\n",
       " 'mod2']"
      ]
     },
     "execution_count": 31,
     "metadata": {},
     "output_type": "execute_result"
    }
   ],
   "source": [
    "dir(pkg)"
   ]
  },
  {
   "cell_type": "markdown",
   "id": "synthetic-disclaimer",
   "metadata": {},
   "source": [
    "`__init__.py` can also be used to effect automatic importing of modules from a package. For example, earlier you saw that the statement `import pkg` only places the name `pkg` in the caller’s local symbol table and doesn’t import any modules. But if `__init__.py` in the `pkg` directory contains the following:"
   ]
  },
  {
   "cell_type": "code",
   "execution_count": 1,
   "id": "random-intention",
   "metadata": {},
   "outputs": [
    {
     "name": "stdout",
     "output_type": "stream",
     "text": [
      "Overwriting pkg/__init__.py\n"
     ]
    }
   ],
   "source": [
    "%%writefile pkg/__init__.py\n",
    "print(f'Invoking __init__.py for {__name__}')\n",
    "A = ['item_1', 'item_2', 'item_3']\n",
    "# import pkg.mod1, pkg.mod2\n",
    "from pkg import mod1, mod2\n",
    "# import mod1, mod2"
   ]
  },
  {
   "cell_type": "code",
   "execution_count": 3,
   "id": "e432502b-5399-4a47-8b22-fc52e7c4e354",
   "metadata": {},
   "outputs": [],
   "source": [
    "import pkg"
   ]
  },
  {
   "cell_type": "code",
   "execution_count": 4,
   "id": "3876a660-7f23-40aa-ae61-d30283a9cf40",
   "metadata": {},
   "outputs": [
    {
     "data": {
      "text/plain": [
       "3"
      ]
     },
     "execution_count": 4,
     "metadata": {},
     "output_type": "execute_result"
    }
   ],
   "source": [
    "pkg.mod1.add(1,2)"
   ]
  },
  {
   "cell_type": "markdown",
   "id": "56180113-e72d-44fc-b822-5ca047f2fa63",
   "metadata": {},
   "source": [
    "# question???"
   ]
  },
  {
   "cell_type": "markdown",
   "id": "9aa485d3-b8a0-45bb-94fc-b415208318f3",
   "metadata": {},
   "source": [
    " import mod1, mod2 !!!!!!! why this doesnt work"
   ]
  },
  {
   "cell_type": "markdown",
   "id": "cordless-fisher",
   "metadata": {},
   "source": [
    "Then when you execute `import pkg`, modules `mod1` and `mod2` are imported automatically."
   ]
  },
  {
   "cell_type": "code",
   "execution_count": 35,
   "id": "isolated-leather",
   "metadata": {},
   "outputs": [
    {
     "name": "stdout",
     "output_type": "stream",
     "text": [
      "Invoking __init__.py for pkg\n"
     ]
    },
    {
     "data": {
      "text/plain": [
       "<module 'pkg' from '/mnt/d/class/python_class/03. Modular Programming/pkg/__init__.py'>"
      ]
     },
     "execution_count": 35,
     "metadata": {},
     "output_type": "execute_result"
    }
   ],
   "source": [
    "# pkg is loaded already, so we have to reload it to make __init__.py be executed again.\n",
    "from importlib import reload\n",
    "import pkg\n",
    "reload(pkg)\n"
   ]
  },
  {
   "cell_type": "markdown",
   "id": "crude-mailing",
   "metadata": {},
   "source": [
    "**Note:** Much of the Python documentation states that an `__init__.py` file must be present in the package directory when creating a package. This was once true. It used to be that the very presence of `__init__.py` signified to Python that a package was being defined. The file could contain initialization code or even be empty, but **it had to be present**.\n",
    "\n",
    "Starting with **Python 3.3**, Implicit Namespace Packages were introduced. These allow for the creation of a package without any __init__.py file. Of course, **it can still be present if package initialization is needed**. But it is no longer required."
   ]
  },
  {
   "cell_type": "markdown",
   "id": "capable-drove",
   "metadata": {},
   "source": [
    "<a class=\"anchor\" id=\"package_import_*\"></a>\n",
    "## 3. Importing `*` From a Package"
   ]
  },
  {
   "cell_type": "markdown",
   "id": "delayed-settle",
   "metadata": {},
   "source": [
    "You have already seen that when import * is used for a module, all objects from the module are imported into the local symbol table, except those whose names begin with an underscore, as always"
   ]
  },
  {
   "cell_type": "markdown",
   "id": "mounted-daily",
   "metadata": {},
   "source": [
    "The analogous statement for a **package** is this:\n",
    "\n",
    "```python\n",
    "from <package_name> import *\n",
    "```"
   ]
  },
  {
   "cell_type": "code",
   "execution_count": 13,
   "id": "difficult-description",
   "metadata": {},
   "outputs": [
    {
     "ename": "NameError",
     "evalue": "name 'mod1' is not defined",
     "output_type": "error",
     "traceback": [
      "\u001b[0;31m---------------------------------------------------------------------------\u001b[0m",
      "\u001b[0;31mNameError\u001b[0m                                 Traceback (most recent call last)",
      "\u001b[0;32m<ipython-input-13-ed08db10d81e>\u001b[0m in \u001b[0;36m<module>\u001b[0;34m\u001b[0m\n\u001b[0;32m----> 1\u001b[0;31m \u001b[0;32mdel\u001b[0m \u001b[0mmod1\u001b[0m\u001b[0;34m,\u001b[0m \u001b[0mmod2\u001b[0m\u001b[0;34m\u001b[0m\u001b[0;34m\u001b[0m\u001b[0m\n\u001b[0m",
      "\u001b[0;31mNameError\u001b[0m: name 'mod1' is not defined"
     ]
    }
   ],
   "source": [
    "del mod1, mod2"
   ]
  },
  {
   "cell_type": "code",
   "execution_count": 13,
   "id": "global-segment",
   "metadata": {},
   "outputs": [
    {
     "name": "stdout",
     "output_type": "stream",
     "text": [
      "Overwriting pkg/__init__.py\n"
     ]
    }
   ],
   "source": [
    "%%writefile pkg/__init__.py\n",
    "print(f'Invoking __init__.py for {__name__}')\n",
    "A = ['item_1', 'item_2', 'item_3']"
   ]
  },
  {
   "cell_type": "code",
   "execution_count": 14,
   "id": "guilty-coverage",
   "metadata": {},
   "outputs": [
    {
     "data": {
      "text/plain": [
       "3"
      ]
     },
     "execution_count": 14,
     "metadata": {},
     "output_type": "execute_result"
    }
   ],
   "source": [
    "pkg.mod1.add(1,2)"
   ]
  },
  {
   "cell_type": "code",
   "execution_count": 9,
   "id": "julian-passport",
   "metadata": {
    "collapsed": true,
    "jupyter": {
     "outputs_hidden": true
    },
    "tags": []
   },
   "outputs": [
    {
     "data": {
      "text/plain": [
       "['A',\n",
       " 'In',\n",
       " 'Out',\n",
       " '_',\n",
       " '_4',\n",
       " '_8',\n",
       " '__',\n",
       " '___',\n",
       " '__builtin__',\n",
       " '__builtins__',\n",
       " '__doc__',\n",
       " '__loader__',\n",
       " '__name__',\n",
       " '__package__',\n",
       " '__spec__',\n",
       " '_dh',\n",
       " '_i',\n",
       " '_i1',\n",
       " '_i2',\n",
       " '_i3',\n",
       " '_i4',\n",
       " '_i5',\n",
       " '_i6',\n",
       " '_i7',\n",
       " '_i8',\n",
       " '_i9',\n",
       " '_ih',\n",
       " '_ii',\n",
       " '_iii',\n",
       " '_oh',\n",
       " 'exit',\n",
       " 'get_ipython',\n",
       " 'mod1',\n",
       " 'mod2',\n",
       " 'pkg',\n",
       " 'quit']"
      ]
     },
     "execution_count": 9,
     "metadata": {},
     "output_type": "execute_result"
    }
   ],
   "source": [
    "dir()"
   ]
  },
  {
   "cell_type": "code",
   "execution_count": 10,
   "id": "ad9641e2-7674-47a2-aa6a-2f2098e43c47",
   "metadata": {},
   "outputs": [
    {
     "data": {
      "text/plain": [
       "3"
      ]
     },
     "execution_count": 10,
     "metadata": {},
     "output_type": "execute_result"
    }
   ],
   "source": [
    "mod1.add(1,2)"
   ]
  },
  {
   "cell_type": "markdown",
   "id": "gorgeous-basic",
   "metadata": {},
   "source": [
    "You might have expected (assuming you had any expectations at all) that Python would dive down into the package directory, find all the modules it could, and import them all. But as you can see, by default that is not what happens."
   ]
  },
  {
   "cell_type": "markdown",
   "id": "enclosed-escape",
   "metadata": {},
   "source": [
    "Instead, Python follows this convention: if the `__init__.py` file in the package directory contains a list named `__all__`, it is taken to be a list of modules that should be imported when the statement from `<package_name>` import `*` is encountered."
   ]
  },
  {
   "cell_type": "code",
   "execution_count": 15,
   "id": "strategic-entrepreneur",
   "metadata": {},
   "outputs": [
    {
     "name": "stdout",
     "output_type": "stream",
     "text": [
      "Overwriting pkg/__init__.py\n"
     ]
    }
   ],
   "source": [
    "%%writefile pkg/__init__.py\n",
    "print(f'Invoking __init__.py for {__name__}')\n",
    "A = ['item_1', 'item_2', 'item_3']\n",
    "\n",
    "__all__ = ['mod1']"
   ]
  },
  {
   "cell_type": "code",
   "execution_count": 1,
   "id": "abstract-container",
   "metadata": {},
   "outputs": [
    {
     "name": "stdout",
     "output_type": "stream",
     "text": [
      "Invoking __init__.py for pkg\n",
      "['item_1', 'item_2', 'item_3']\n"
     ]
    }
   ],
   "source": [
    "from pkg import *"
   ]
  },
  {
   "cell_type": "code",
   "execution_count": 2,
   "id": "atomic-tokyo",
   "metadata": {},
   "outputs": [
    {
     "data": {
      "text/plain": [
       "['In',\n",
       " 'Out',\n",
       " '_',\n",
       " '__',\n",
       " '___',\n",
       " '__builtin__',\n",
       " '__builtins__',\n",
       " '__doc__',\n",
       " '__loader__',\n",
       " '__name__',\n",
       " '__package__',\n",
       " '__spec__',\n",
       " '_dh',\n",
       " '_i',\n",
       " '_i1',\n",
       " '_i2',\n",
       " '_ih',\n",
       " '_ii',\n",
       " '_iii',\n",
       " '_oh',\n",
       " 'exit',\n",
       " 'get_ipython',\n",
       " 'mod1',\n",
       " 'quit']"
      ]
     },
     "execution_count": 2,
     "metadata": {},
     "output_type": "execute_result"
    }
   ],
   "source": [
    "dir()"
   ]
  },
  {
   "cell_type": "markdown",
   "id": "actual-enhancement",
   "metadata": {},
   "source": [
    "Using `import *` still isn’t considered terrific form, any more for packages than for modules. But this facility at least gives the creator of the package some control over what happens when `import *` is specified. (In fact, it provides the capability to disallow it entirely, simply by declining to define `__all__` at all. As you have seen, the default behavior for packages is to import nothing.)"
   ]
  },
  {
   "cell_type": "markdown",
   "id": "skilled-advance",
   "metadata": {},
   "source": [
    "By the way, `__all__` can be defined in a module as well and serves the same purpose: to control what is imported with import `*`. For example, modify `mod1.py` as follows:"
   ]
  },
  {
   "cell_type": "code",
   "execution_count": 39,
   "id": "monthly-strength",
   "metadata": {},
   "outputs": [
    {
     "name": "stdout",
     "output_type": "stream",
     "text": [
      "Overwriting pkg/mod1.py\n"
     ]
    }
   ],
   "source": [
    "%%writefile pkg/mod1.py\n",
    "__all__ = ['foo']\n",
    "\n",
    "def foo():\n",
    "    print('[mod1] foo()')\n",
    "\n",
    "class Foo:\n",
    "    pass"
   ]
  },
  {
   "cell_type": "markdown",
   "id": "sensitive-royal",
   "metadata": {},
   "source": [
    "Now `from pkg.mod1 import *` statement from pkg.mod1 will only import what is contained in `__all__`."
   ]
  },
  {
   "cell_type": "markdown",
   "id": "selective-buffalo",
   "metadata": {},
   "source": [
    "**Summary:**\n",
    "\n",
    "`__all__` is used by both packages and modules to control what is imported when `import *` is specified. But the default behavior differs:\n",
    "\n",
    "- For a package, when `__all__` is not defined, `import *` does not import anything.\n",
    "- For a module, when `__all__` is not defined, `import *` imports everything (except—you guessed it—names starting with an underscore)."
   ]
  },
  {
   "cell_type": "markdown",
   "id": "exotic-yugoslavia",
   "metadata": {},
   "source": [
    "<a class=\"anchor\" id=\"subpackages\"></a>\n",
    "## 4. Subpackages"
   ]
  },
  {
   "cell_type": "markdown",
   "id": "adjusted-affiliation",
   "metadata": {},
   "source": [
    "Packages can contain nested subpackages to arbitrary depth. For example, let’s make one more modification to the example package directory as follows:\n",
    "\n",
    "<img src=\"../images/sub_pkg.png\" alt=\"subpackage\" width=500 align=\"left\" />"
   ]
  },
  {
   "cell_type": "markdown",
   "id": "exempt-breach",
   "metadata": {},
   "source": [
    "Importing still works the same as shown previously. Syntax is similar, but additional **dot notation** is used to separate **package** name from **subpackage** name:"
   ]
  },
  {
   "cell_type": "code",
   "execution_count": 3,
   "id": "faced-coverage",
   "metadata": {},
   "outputs": [],
   "source": [
    "!mkdir pkg/sub_pkg_1"
   ]
  },
  {
   "cell_type": "code",
   "execution_count": 6,
   "id": "collect-husband",
   "metadata": {},
   "outputs": [
    {
     "name": "stdout",
     "output_type": "stream",
     "text": [
      "Overwriting pkg/sub_pkg_1/mod3.py\n"
     ]
    }
   ],
   "source": [
    "%%writefile pkg/sub_pkg_1/mod3.py\n",
    "def sub_foo():\n",
    "    print('[mod3.py] foo()')\n",
    "\n",
    "class SubFoo:\n",
    "    pass"
   ]
  },
  {
   "cell_type": "code",
   "execution_count": 7,
   "id": "gothic-beaver",
   "metadata": {},
   "outputs": [],
   "source": [
    "import pkg.sub_pkg_1.mod3"
   ]
  },
  {
   "cell_type": "markdown",
   "id": "aquatic-trade",
   "metadata": {},
   "source": [
    "In addition, a module in one subpackage can reference objects in a **sibling subpackage** (in the event that the sibling contains some functionality that you need). For example, suppose you want to import and execute function foo() (defined in module mod1) from within module mod3. You can either use an **absolute import**:"
   ]
  },
  {
   "cell_type": "code",
   "execution_count": 12,
   "id": "aboriginal-melbourne",
   "metadata": {},
   "outputs": [
    {
     "name": "stdout",
     "output_type": "stream",
     "text": [
      "Overwriting pkg/sub_pkg_1/mod4.py\n"
     ]
    }
   ],
   "source": [
    "%%writefile pkg/sub_pkg_1/mod4.py\n",
    "def sub_bar():\n",
    "    print('[mod2.py] baz()')\n",
    "\n",
    "class SubBar:\n",
    "    pass\n",
    "\n",
    "from pkg.sub_pkg_1.mod3 import sub_foo\n",
    "sub_foo()"
   ]
  },
  {
   "cell_type": "code",
   "execution_count": 1,
   "id": "available-chester",
   "metadata": {},
   "outputs": [
    {
     "name": "stdout",
     "output_type": "stream",
     "text": [
      "Invoking __init__.py for pkg\n",
      "[mod3.py] foo()\n"
     ]
    }
   ],
   "source": [
    "from pkg.sub_pkg_1 import mod4"
   ]
  },
  {
   "cell_type": "markdown",
   "id": "retired-destruction",
   "metadata": {},
   "source": [
    "Or you can use a **relative import**, where `..` refers to the package one level up. From within `mod1.py`, which is in subpackage `sub_pkg`,\n",
    "\n",
    "- `..` evaluates to the parent package (`pkg`), and\n",
    "- `..sub_pkg` evaluates to subpackage `sub_pkg` of the parent package."
   ]
  },
  {
   "cell_type": "code",
   "execution_count": 2,
   "id": "ahead-mobility",
   "metadata": {},
   "outputs": [],
   "source": [
    "!mkdir pkg/sub_pkg_2"
   ]
  },
  {
   "cell_type": "code",
   "execution_count": 4,
   "id": "designed-electricity",
   "metadata": {},
   "outputs": [
    {
     "name": "stdout",
     "output_type": "stream",
     "text": [
      "Overwriting pkg/sub_pkg_2/mod5.py\n"
     ]
    }
   ],
   "source": [
    "%%writefile pkg/sub_pkg_2/mod5.py\n",
    "from .. import sub_pkg_1\n",
    "print(sub_pkg_1)\n",
    "\n",
    "from ..sub_pkg_1.mod3 import sub_foo\n",
    "sub_foo()"
   ]
  },
  {
   "cell_type": "code",
   "execution_count": 5,
   "id": "smaller-disposal",
   "metadata": {},
   "outputs": [
    {
     "name": "stdout",
     "output_type": "stream",
     "text": [
      "<module 'pkg.sub_pkg_1' (namespace)>\n",
      "[mod3.py] foo()\n"
     ]
    }
   ],
   "source": [
    "from pkg.sub_pkg_2 import mod5"
   ]
  },
  {
   "cell_type": "markdown",
   "id": "initial-liquid",
   "metadata": {},
   "source": [
    "<a class=\"anchor\" id=\"summary\"></a>\n",
    "## Summary"
   ]
  },
  {
   "cell_type": "markdown",
   "id": "single-closure",
   "metadata": {},
   "source": [
    "In modularization section, the following topics are covered:\n",
    "\n",
    "- How to create a Python module\n",
    "- Locations where the Python interpreter searches for a module\n",
    "- How to obtain access to the objects defined in a module with the import statement\n",
    "- How to create a module that is executable as a standalone script\n",
    "- How to organize modules into packages and subpackages\n",
    "- How to control package initialization"
   ]
  },
  {
   "cell_type": "code",
   "execution_count": null,
   "id": "e992bcd1-39a3-43ba-b41e-bf9d81b16494",
   "metadata": {},
   "outputs": [],
   "source": []
  },
  {
   "cell_type": "code",
   "execution_count": null,
   "id": "2b23005a-184f-4f2b-aa7c-14b0dc3a31fc",
   "metadata": {},
   "outputs": [],
   "source": []
  }
 ],
 "metadata": {
  "kernelspec": {
   "display_name": "Python 3 (ipykernel)",
   "language": "python",
   "name": "python3"
  },
  "language_info": {
   "codemirror_mode": {
    "name": "ipython",
    "version": 3
   },
   "file_extension": ".py",
   "mimetype": "text/x-python",
   "name": "python",
   "nbconvert_exporter": "python",
   "pygments_lexer": "ipython3",
   "version": "3.8.12"
  }
 },
 "nbformat": 4,
 "nbformat_minor": 5
}

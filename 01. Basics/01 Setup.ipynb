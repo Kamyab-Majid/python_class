{
 "cells": [
  {
   "cell_type": "markdown",
   "metadata": {},
   "source": [
    "# Python 3 Installation & Setup Guide\n",
    "\n",
    "## Table of Contents\n",
    "* [1. Operating System Setup](#os-setup)\n",
    "* [2. Setting up Python with Conda](#python-setup-with-conda)"
   ]
  },
  {
   "cell_type": "markdown",
   "metadata": {},
   "source": [
    "Installing or updating Python on your computer is the first step to becoming a Python programmer. There are a multitude of installation methods: you can download official Python distributions from Python.org, install from a package manager, and even install specialized distributions for scientific computing, Internet of Things, and embedded systems."
   ]
  },
  {
   "cell_type": "markdown",
   "metadata": {},
   "source": [
    "This tutorial focuses on install from a package manager, as they’re generally the best option for full control in programming with python."
   ]
  },
  {
   "cell_type": "markdown",
   "metadata": {},
   "source": [
    "<a class=\"anchor\" id=\"os-setup\"></a>\n",
    "## 1. Operating System Setup"
   ]
  },
  {
   "cell_type": "markdown",
   "metadata": {},
   "source": [
    "### Windows"
   ]
  },
  {
   "cell_type": "markdown",
   "metadata": {},
   "source": [
    "There are three installation methods on Windows:\n",
    "\n",
    "- **The Microsoft Store:** Microsoft Store package: The most straightforward installation method on Windows involves installing from the Microsoft Store app. This is recommended for beginner Python users looking for an easy-to-set-up interactive experience.\n",
    "\n",
    "- **Full Installer:** This approach involves downloading Python directly from the [Python.org](https://www.python.org/) website. This is recommended for intermediate and advanced developers who need more control during the setup process.\n",
    "\n",
    "- **Windows Subsystem for Linux (WSL):** The WSL allows you to run a Linux environment directly in Windows. You can learn how to enable the WSL by reading the[ Windows Subsystem for Linux Installation Guide for Windows 10](https://docs.microsoft.com/en-us/windows/wsl/install-win10)."
   ]
  },
  {
   "cell_type": "markdown",
   "metadata": {},
   "source": [
    "In these series of tutorials, we follow the 3rd method by running Linux in Windows. The WSL allows you to run a Linux environment directly in Windows. You can also learn how to enable the WSL by reading the [Windows Subsystem for Linux Installation Guide for Windows 10](https://docs.microsoft.com/en-us/windows/wsl/install-win10) or follow the line above, both are good quality guides."
   ]
  },
  {
   "cell_type": "markdown",
   "metadata": {},
   "source": [
    "After installing WSL, follow the next section on **Conda Environments**."
   ]
  },
  {
   "cell_type": "markdown",
   "metadata": {},
   "source": [
    "### Linux and Mac"
   ]
  },
  {
   "cell_type": "markdown",
   "metadata": {},
   "source": [
    "If you are in Mac or Linux, you are already set up and ready to go to the next section on **Conda Environments**."
   ]
  },
  {
   "cell_type": "markdown",
   "metadata": {},
   "source": [
    "<a class=\"anchor\" id=\"python-setup-with-conda\"></a>\n",
    "## 2. Setting up Python with Conda\n",
    "\n",
    "Python has been largely used for numerical and scientific applications in the last years. However, to perform numerical computations in an efficient manner, Python relies on external libraries, sometimes implemented in other languages, such as the NumPy library, which is partly implemented using the Fortran language."
   ]
  },
  {
   "cell_type": "markdown",
   "metadata": {},
   "source": [
    "Due to these dependencies, sometimes it isn’t trivial to set up an environment for numerical computations, linking all the necessary libraries. It’s common for people to struggle to get things working in workshops involving the use of Python for machine learning, especially when they are using an operating system that lacks a package management system, such as Windows."
   ]
  },
  {
   "cell_type": "markdown",
   "metadata": {},
   "source": [
    "### Introducing Anaconda and Conda"
   ]
  },
  {
   "cell_type": "markdown",
   "metadata": {},
   "source": [
    "Since 2011, Python has included [`pip`](https://pypi.org/project/pip/), a package management system used to install and manage software packages written in Python. However, for numerical computations, there are several dependencies that are not written in Python, so the initial releases of pip could not solve the problem by themselves."
   ]
  },
  {
   "cell_type": "markdown",
   "metadata": {},
   "source": [
    "To circumvent this problem, Continuum Analytics released [Anaconda](https://www.anaconda.com/distribution/), a Python distribution focused on scientific applications and [Conda](https://conda.io/), a package and environment management system, which is used by the Anaconda distribution. It’s worth noticing that the more recent versions of pip can handle external dependencies using [wheels](https://www.python.org/dev/peps/pep-0427/), but, by using Anaconda, you’ll be able to install critical libraries for data science more smoothly. (You can read more on this discussion [here](http://jakevdp.github.io/blog/2016/08/25/conda-myths-and-misconceptions/#Myth-#6:-Now-that-pip-uses-wheels,-conda-is-no-longer-necessary).)"
   ]
  },
  {
   "cell_type": "markdown",
   "metadata": {},
   "source": [
    "Although Conda is tightly coupled to the Anaconda Python Distribution, the two are distinct projects with different goals:"
   ]
  },
  {
   "cell_type": "markdown",
   "metadata": {},
   "source": [
    "- [**Anaconda**](https://www.anaconda.com/distribution/) is a full distribution of the software in the [PyData](https://pydata.org/) ecosystem, including Python itself along with binaries for several third-party open-source projects. Besides Anaconda, there’s also [Miniconda](https://conda.io/miniconda.html), which is a minimal Python distribution including basically Conda and its dependencies so that you can install only the packages you need, from scratch"
   ]
  },
  {
   "cell_type": "markdown",
   "metadata": {},
   "source": [
    "- [**Conda**](https://conda.io/) is a package, dependency, and environment management system that could be installed without the Anaconda or Miniconda distribution. It runs on Windows, macOS, and Linux and was created for Python programs, but it can package and distribute software for any language. The main purpose is to solve external dependencies issues in an easy way, by downloading pre-compiled versions of software.\n",
    "\n",
    "    In this sense, it is more like a cross-platform version of a general purpose package manager such as [APT](https://en.wikipedia.org/wiki/APT_(Debian)) or [YUM](https://en.wikipedia.org/wiki/Yum_(software)), which helps to find and install packages in a language-agnostic way. Also, Conda is an environment manager, so if you need a package that requires a different version of Python, by using Conda, it is possible to set up a separate environment with a totally different version of Python, maintaining your usual version of Python on your default environment."
   ]
  },
  {
   "cell_type": "markdown",
   "metadata": {},
   "source": [
    "There’s a lot of discussion regarding the creation of another package management system for the Python ecosystem. It’s worth mentioning that Conda’s creators pushed Python standard packaging to the limit and only created a second tool when it was clear that it was the only reasonable way forward."
   ]
  },
  {
   "cell_type": "markdown",
   "metadata": {},
   "source": [
    "Anaconda and Miniconda have become the most popular Python distributions, widely used for data science and machine learning in various companies and research laboratories. They are free and open source projects and currently include 1400+ packages in the repository. In the following section, we’ll go through the installation of the Miniconda Python distribution on a Windows machine."
   ]
  },
  {
   "cell_type": "markdown",
   "metadata": {},
   "source": [
    "### How to install **Anaconda**\n",
    "\n",
    "1. Install Anaconda for your OS:\n",
    "    - [Anaconda Installation Tutorial for Ubuntu](https://www.digitalocean.com/community/tutorials/how-to-install-the-anaconda-python-distribution-on-ubuntu-20-04)\n",
    "    - [Anaconda Installation Tutorial for Mac](https://docs.anaconda.com/anaconda/install/mac-os/)\n",
    "\n",
    "Anaconda installs Python and is an easy to use development environment and navigator launch tool.\n",
    "\n",
    "You will learn how to interact with conda and install python and packages in the next section."
   ]
  },
  {
   "cell_type": "markdown",
   "metadata": {},
   "source": [
    "In case `conda` is not recognized after installation like the image below, run the following commands:\n",
    "- `source ~/anaconda3/etc/profile.d/conda.sh`\n",
    "- `conda init bash`\n",
    "\n",
    "and restart your terminal."
   ]
  },
  {
   "cell_type": "markdown",
   "metadata": {},
   "source": [
    "<img src=\"./images/conda-not-found.png\" alt=\"notebook\" width=400 align=\"center\" />"
   ]
  }
 ],
 "metadata": {
  "kernelspec": {
   "display_name": "Python 3",
   "language": "python",
   "name": "python3"
  },
  "language_info": {
   "codemirror_mode": {
    "name": "ipython",
    "version": 3
   },
   "file_extension": ".py",
   "mimetype": "text/x-python",
   "name": "python",
   "nbconvert_exporter": "python",
   "pygments_lexer": "ipython3",
   "version": "3.8.10"
  }
 },
 "nbformat": 4,
 "nbformat_minor": 4
}

{
 "cells": [
  {
   "cell_type": "code",
   "execution_count": 9,
   "id": "112ba5a4-b43d-4a0c-b1bc-adbfca39c1dd",
   "metadata": {},
   "outputs": [],
   "source": [
    "def zero_minus_positive(my_list):\n",
    "    \n",
    "    zero_count = [sum]"
   ]
  },
  {
   "cell_type": "code",
   "execution_count": 11,
   "id": "2d63da9d-6aec-4989-bdfd-153924008a3f",
   "metadata": {
    "tags": []
   },
   "outputs": [
    {
     "name": "stdout",
     "output_type": "stream",
     "text": [
      "1 zero, 99 positive, 10 negative\n"
     ]
    }
   ],
   "source": [
    "my_list = [i for i in range(-10,100)]\n",
    "zero_minus_positive(my_list)\n"
   ]
  },
  {
   "cell_type": "code",
   "execution_count": 6,
   "id": "7d913316-1c1c-4188-aebb-d060dfd1c751",
   "metadata": {},
   "outputs": [
    {
     "name": "stdout",
     "output_type": "stream",
     "text": [
      "0 zero, 0 positive, 0 negative\n"
     ]
    }
   ],
   "source": [
    "zero_count = 0\n",
    "positive_count = 0\n",
    "negative_count = 0\n",
    "print(f'{zero_count} zero, {positive_count} positive, {negative_count} negative')"
   ]
  },
  {
   "cell_type": "code",
   "execution_count": 12,
   "id": "ef3c74e1-03f3-4864-bdd5-c4638c6e386e",
   "metadata": {},
   "outputs": [
    {
     "name": "stdout",
     "output_type": "stream",
     "text": [
      "00:05:45\n"
     ]
    }
   ],
   "source": [
    "#!/bin/python3\n",
    "\n",
    "import math\n",
    "import os\n",
    "import random\n",
    "import re\n",
    "import sys\n",
    "\n",
    "#\n",
    "# Complete the 'timeConversion' function below.\n",
    "#\n",
    "# The function is expected to return a STRING.\n",
    "# The function accepts STRING s as parameter.\n",
    "#\n",
    "\n",
    "\n",
    "def timeConversion(s):\n",
    "    hr = int(s[0:2])\n",
    "    min_sec = s[3:8]\n",
    "    pm_am = s[-2:]\n",
    "    if hr == 12:\n",
    "        if pm_am == \"AM\":\n",
    "            hr = 0\n",
    "    elif pm_am == \"PM\":\n",
    "        hr = hr + 12\n",
    "    if hr < 10:\n",
    "        hr = \"0\" + str(hr)\n",
    "    else:\n",
    "        hr = str(hr)\n",
    "    return hr + \":\" + min_sec\n",
    "\n",
    "\n",
    "if __name__ == \"__main__\":\n",
    "\n",
    "    s = \"12:05:45AM\"\n",
    "\n",
    "    result = timeConversion(s)\n",
    "    print(result)\n"
   ]
  },
  {
   "cell_type": "code",
   "execution_count": null,
   "id": "217eb34b-12af-4580-afa9-6204b438e732",
   "metadata": {},
   "outputs": [],
   "source": []
  }
 ],
 "metadata": {
  "kernelspec": {
   "display_name": "Python 3",
   "language": "python",
   "name": "python3"
  },
  "language_info": {
   "codemirror_mode": {
    "name": "ipython",
    "version": 3
   },
   "file_extension": ".py",
   "mimetype": "text/x-python",
   "name": "python",
   "nbconvert_exporter": "python",
   "pygments_lexer": "ipython3",
   "version": "3.8.12"
  }
 },
 "nbformat": 4,
 "nbformat_minor": 5
}

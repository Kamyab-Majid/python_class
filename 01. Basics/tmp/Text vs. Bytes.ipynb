{
 "cells": [
  {
   "cell_type": "markdown",
   "id": "reliable-western",
   "metadata": {},
   "source": [
    "# Text vs. Bytes\n",
    "\n",
    "Python 3 introduced a sharp distinction between strings of human text and sequences of raw bytes. Implicit conversion of byte sequences to Unicode text is a thing of the past. This chapter deals with Unicode strings, binary sequences, and the encodings used to convert between them."
   ]
  },
  {
   "cell_type": "markdown",
   "id": "younger-louisiana",
   "metadata": {},
   "source": [
    "Depending on your Python programming context, a deeper understanding of Unicode may or may not be of vital importance to you. In the end, most of the issues covered in this chapter do not affect programmers who deal only with ASCII text. But even if that is your case, there is no escaping the str versus byte divide. As a bonus, you’ll find that the specialized binary sequence types provide features that the “all-purpose” Python 2 str type does not have."
   ]
  },
  {
   "cell_type": "markdown",
   "id": "humanitarian-gallery",
   "metadata": {},
   "source": [
    "## Character Issues\n",
    "\n",
    "The concept of “string” is simple enough: a string is a sequence of characters. The problem lies in the definition of “character.”"
   ]
  },
  {
   "cell_type": "markdown",
   "id": "radio-palestine",
   "metadata": {},
   "source": [
    "In 2015, the best definition of “character” we have is a Unicode character. Accordingly, the items you get out of a Python 3 str are Unicode characters, just like the items of a `unicode` object in Python 2—and not the raw bytes you get from a Python 2 str."
   ]
  },
  {
   "cell_type": "code",
   "execution_count": null,
   "id": "pleased-ordinary",
   "metadata": {},
   "outputs": [],
   "source": []
  }
 ],
 "metadata": {
  "kernelspec": {
   "display_name": "Python 3",
   "language": "python",
   "name": "python3"
  },
  "language_info": {
   "codemirror_mode": {
    "name": "ipython",
    "version": 3
   },
   "file_extension": ".py",
   "mimetype": "text/x-python",
   "name": "python",
   "nbconvert_exporter": "python",
   "pygments_lexer": "ipython3",
   "version": "3.7.9"
  }
 },
 "nbformat": 4,
 "nbformat_minor": 5
}

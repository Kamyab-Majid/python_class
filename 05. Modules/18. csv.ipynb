{
 "cells": [
  {
   "cell_type": "markdown",
   "id": "apart-pottery",
   "metadata": {},
   "source": [
    "# csv"
   ]
  },
  {
   "cell_type": "markdown",
   "id": "opened-philosophy",
   "metadata": {},
   "source": [
    "Let’s face it: you need to get information into and out of your programs through more than just the keyboard and console. Exchanging information through text files is a common way to share info between programs. One of the most popular formats for exchanging data is the CSV format. But how do you use it?"
   ]
  },
  {
   "cell_type": "markdown",
   "id": "chronic-blowing",
   "metadata": {},
   "source": [
    "Let’s get one thing clear: you don’t have to (and you won’t) build your own CSV parser from scratch. There are several perfectly acceptable libraries you can use. The Python [`csv` library](https://docs.python.org/3/library/csv.html) will work for most cases. If your work requires lots of data or numerical analysis, the [`pandas` library](http://pandas.pydata.org/) has CSV parsing capabilities as well, which should handle the rest."
   ]
  },
  {
   "cell_type": "markdown",
   "id": "listed-vaccine",
   "metadata": {},
   "source": [
    "In this article, you’ll learn how to read, process, and parse CSV from text files using Python. You’ll see how CSV files work, learn the all-important `csv` library built into Python, and see how CSV parsing works using the pandas library."
   ]
  },
  {
   "cell_type": "markdown",
   "id": "sustainable-tournament",
   "metadata": {},
   "source": [
    "So let’s get started!"
   ]
  },
  {
   "cell_type": "markdown",
   "id": "reverse-constant",
   "metadata": {},
   "source": [
    "## What Is a CSV File?\n",
    "A CSV file (Comma Separated Values file) is a type of plain text file that uses specific structuring to arrange tabular data. Because it’s a plain text file, it can contain only actual text data—in other words, printable ASCII or Unicode characters."
   ]
  },
  {
   "cell_type": "markdown",
   "id": "brave-gender",
   "metadata": {},
   "source": [
    "The structure of a CSV file is given away by its name. Normally, CSV files use a comma to separate each specific data value. Here’s what that structure looks like:\n",
    "\n",
    "```\n",
    "column 1 name,column 2 name, column 3 name\n",
    "first row data 1,first row data 2,first row data 3\n",
    "second row data 1,second row data 2,second row data 3\n",
    "...\n",
    "```"
   ]
  },
  {
   "cell_type": "markdown",
   "id": "appointed-enzyme",
   "metadata": {},
   "source": [
    "Notice how each piece of data is separated by a comma. Normally, the first line identifies each piece of data—in other words, the name of a data column. Every subsequent line after that is actual data and is limited only by file size constraints."
   ]
  },
  {
   "cell_type": "markdown",
   "id": "multiple-hollow",
   "metadata": {},
   "source": [
    "In general, the separator character is called a **delimiter**, and the comma is not the only one used. Other popular delimiters include the tab (`\\t`), colon (`:`) and semi-colon (`;`) characters. Properly parsing a CSV file requires us to know which delimiter is being used."
   ]
  },
  {
   "cell_type": "markdown",
   "id": "serious-sterling",
   "metadata": {},
   "source": [
    "### Where Do CSV Files Come From?\n",
    "\n",
    "CSV files are normally created by programs that handle large amounts of data. They are a convenient way to export data from spreadsheets and databases as well as import or use it in other programs. For example, you might export the results of a data mining program to a CSV file and then import that into a spreadsheet to analyze the data, generate graphs for a presentation, or prepare a report for publication."
   ]
  },
  {
   "cell_type": "markdown",
   "id": "acquired-background",
   "metadata": {},
   "source": [
    "CSV files are very easy to work with programmatically. Any language that supports text file input and string manipulation (like Python) can work with CSV files directly."
   ]
  },
  {
   "cell_type": "markdown",
   "id": "together-simple",
   "metadata": {},
   "source": [
    "> Excel vs CSV [TO ADD]"
   ]
  },
  {
   "cell_type": "code",
   "execution_count": 12,
   "id": "completed-director",
   "metadata": {},
   "outputs": [
    {
     "name": "stdout",
     "output_type": "stream",
     "text": [
      "Overwriting employee_birthday.csv\n"
     ]
    }
   ],
   "source": [
    "%%writefile employee_birthday.csv\n",
    "name, department, birthday month\n",
    "John Smith, Accounting, November, 6\n",
    "Erica Meyers, IT, March"
   ]
  },
  {
   "cell_type": "markdown",
   "id": "close-directive",
   "metadata": {},
   "source": [
    "## Parsing CSV Files With Python’s Built-in CSV Library\n",
    "\n",
    "The `csv` library provides functionality to both read from and write to CSV files. Designed to work out of the box with Excel-generated CSV files, it is easily adapted to work with a variety of CSV formats. The csv library contains objects and other code to read, write, and process data from and to CSV files."
   ]
  },
  {
   "cell_type": "markdown",
   "id": "billion-google",
   "metadata": {},
   "source": [
    "### Reading CSV Files With `csv`\n",
    "\n",
    "Reading from a CSV file is done using the `reader` object. The CSV file is opened as a text file with Python’s built-in `open()` function, which returns a file object. This is then passed to the reader, which does the heavy lifting."
   ]
  },
  {
   "cell_type": "markdown",
   "id": "acting-special",
   "metadata": {},
   "source": [
    "Here’s the `employee_birthday.txt` file:"
   ]
  },
  {
   "cell_type": "code",
   "execution_count": 32,
   "id": "velvet-plaza",
   "metadata": {},
   "outputs": [
    {
     "name": "stdout",
     "output_type": "stream",
     "text": [
      "Overwriting employee_birthday.txt\n"
     ]
    }
   ],
   "source": [
    "%%writefile employee_birthday.txt\n",
    "name,department,birthday month\n",
    "John Smith,Accounting,November\n",
    "Erica Meyers,IT,March"
   ]
  },
  {
   "cell_type": "markdown",
   "id": "cognitive-thesis",
   "metadata": {},
   "source": [
    "Here’s code to read it:"
   ]
  },
  {
   "cell_type": "code",
   "execution_count": 34,
   "id": "portuguese-contest",
   "metadata": {},
   "outputs": [
    {
     "name": "stdout",
     "output_type": "stream",
     "text": [
      "Column names are name, department, birthday month\n",
      "\tJohn Smith works in the Accounting department, and was born in November.\n",
      "\tErica Meyers works in the IT department, and was born in March.\n",
      "Processed 3 lines.\n"
     ]
    }
   ],
   "source": [
    "import csv\n",
    "\n",
    "with open('employee_birthday.txt') as csv_file:\n",
    "    csv_reader = csv.reader(csv_file, delimiter=',')\n",
    "    line_count = 0\n",
    "    for row in csv_reader:\n",
    "        if line_count == 0:\n",
    "            print(f'Column names are {\", \".join(row)}')\n",
    "            line_count += 1\n",
    "        else:\n",
    "            print(f'\\t{row[0]} works in the {row[1]} department, and was born in {row[2]}.')\n",
    "            line_count += 1\n",
    "    print(f'Processed {line_count} lines.')"
   ]
  },
  {
   "cell_type": "markdown",
   "id": "afraid-venture",
   "metadata": {},
   "source": [
    "Each row returned by the reader is a list of `String` elements containing the data found by removing the delimiters. The first row returned contains the column names, which is handled in a special way."
   ]
  },
  {
   "cell_type": "markdown",
   "id": "underlying-cattle",
   "metadata": {},
   "source": [
    "### Reading CSV Files Into a Dictionary With `csv`\n",
    "\n",
    "Rather than deal with a list of individual String elements, you can read CSV data directly into a dictionary (technically, an Ordered Dictionary) as well."
   ]
  },
  {
   "cell_type": "markdown",
   "id": "recreational-cannon",
   "metadata": {},
   "source": [
    "Here’s the code to read it in as a dictionary this time:"
   ]
  },
  {
   "cell_type": "code",
   "execution_count": 49,
   "id": "short-revelation",
   "metadata": {},
   "outputs": [
    {
     "name": "stdout",
     "output_type": "stream",
     "text": [
      "Column names are name, department, birthday month\n",
      "\tJohn Smith works in the Accounting department, and was born in November.\n",
      "\tErica Meyers works in the IT department, and was born in March.\n",
      "Processed 3 lines.\n"
     ]
    }
   ],
   "source": [
    "import csv\n",
    "\n",
    "with open('employee_birthday.txt', mode='r') as csv_file:\n",
    "    csv_reader = csv.DictReader(csv_file)\n",
    "    line_count = 0\n",
    "    for row in csv_reader:\n",
    "        if line_count == 0:\n",
    "            print(f'Column names are {\", \".join(row)}')\n",
    "            line_count += 1\n",
    "        print(f'\\t{row[\"name\"]} works in the {row[\"department\"]} department, and was born in {row[\"birthday month\"]}.')\n",
    "        line_count += 1\n",
    "    print(f'Processed {line_count} lines.')"
   ]
  },
  {
   "cell_type": "markdown",
   "id": "greater-pearl",
   "metadata": {},
   "source": [
    "Where did the dictionary keys come from? The first line of the CSV file is assumed to contain the keys to use to build the dictionary. If you don’t have these in your CSV file, you should specify your own keys by setting the `fieldnames` optional parameter to a list containing them."
   ]
  },
  {
   "cell_type": "markdown",
   "id": "stuck-dynamics",
   "metadata": {},
   "source": [
    "## Optional Python CSV reader Parameters\n",
    "\n",
    "The reader object can handle different styles of CSV files by specifying [additional parameters](https://docs.python.org/3/library/csv.html?highlight=csv#csv-fmt-params), some of which are shown below:\n",
    "\n",
    "- `delimiter` specifies the character used to separate each field. The default is the comma (`','`).\n",
    "\n",
    "- `quotechar` specifies the character used to surround fields that contain the delimiter character. The default is a double quote (`' \" '`).\n",
    "\n",
    "- `escapechar` specifies the character used to escape the delimiter character, in case quotes aren’t used. The default is no escape character."
   ]
  },
  {
   "cell_type": "markdown",
   "id": "acting-translator",
   "metadata": {},
   "source": [
    "These parameters deserve some more explanation. Suppose you’re working with the following employee_addresses.txt file:"
   ]
  },
  {
   "cell_type": "code",
   "execution_count": 92,
   "id": "portuguese-proceeding",
   "metadata": {},
   "outputs": [
    {
     "name": "stdout",
     "output_type": "stream",
     "text": [
      "Overwriting employee_addresses.txt\n"
     ]
    }
   ],
   "source": [
    "%%writefile employee_addresses.txt\n",
    "name,address,date joined\n",
    "john smith,1132 Anywhere Lane Hoboken NJ\\, 07030,Jan 4\n",
    "erica meyers,1234 Smith Lane Hoboken NJ\\, 07030,March 2"
   ]
  },
  {
   "cell_type": "code",
   "execution_count": 93,
   "id": "simple-startup",
   "metadata": {},
   "outputs": [
    {
     "name": "stdout",
     "output_type": "stream",
     "text": [
      "['name', 'address', 'date joined']\n",
      "['john smith', '1132 Anywhere Lane Hoboken NJ, 07030', 'Jan 4']\n",
      "['erica meyers', '1234 Smith Lane Hoboken NJ, 07030', 'March 2']\n"
     ]
    }
   ],
   "source": [
    "with open('employee_addresses.txt', mode='r') as csv_file:\n",
    "    csv_reader = csv.reader(csv_file, escapechar='\\\\')\n",
    "    line_count = 0\n",
    "    for row in csv_reader:\n",
    "        print(row)"
   ]
  },
  {
   "cell_type": "markdown",
   "id": "fifteen-combat",
   "metadata": {},
   "source": [
    "This CSV file contains three fields: `name`, `address`, and `date joined`, which are delimited by commas. The problem is that the data for the address field also contains a comma to signify the zip code."
   ]
  },
  {
   "cell_type": "markdown",
   "id": "occupational-photography",
   "metadata": {},
   "source": [
    "There are three different ways to handle this situation:\n",
    "\n",
    "- **Use a different delimiter**\n",
    "That way, the comma can safely be used in the data itself. You use the `delimiter` optional parameter to specify the new delimiter.\n",
    "\n",
    "- **Wrap the data in quotes**\n",
    "The special nature of your chosen delimiter is ignored in quoted strings. Therefore, you can specify the character used for quoting with the quotechar optional parameter. As long as that character also doesn’t appear in the data, you’re fine.\n",
    "\n",
    "- **Escape the delimiter characters in the data**\n",
    "Escape characters work just as they do in format strings, nullifying the interpretation of the character being escaped (in this case, the delimiter). If an escape character is used, it must be specified using the escapechar optional parameter."
   ]
  },
  {
   "cell_type": "markdown",
   "id": "absent-sleeping",
   "metadata": {},
   "source": [
    "## Writing CSV Files With csv\n",
    "\n",
    "You can also write to a CSV file using a writer object and the `.write_row()` method:"
   ]
  },
  {
   "cell_type": "code",
   "execution_count": 115,
   "id": "scenic-egypt",
   "metadata": {},
   "outputs": [],
   "source": [
    "import csv\n",
    "\n",
    "with open('employee_file.csv', mode='w') as employee_file:\n",
    "    employee_writer = csv.writer(\n",
    "        employee_file,\n",
    "        delimiter=',',\n",
    "        quotechar='\"',\n",
    "        quoting=csv.QUOTE_MINIMAL\n",
    "    )\n",
    "\n",
    "    employee_writer.writerow(['John Smith', 'Accounting', 'November'])\n",
    "    employee_writer.writerow(['Erica Meyers', 'IT', 'March'])"
   ]
  },
  {
   "cell_type": "markdown",
   "id": "secondary-owner",
   "metadata": {},
   "source": [
    "The `quotechar` optional parameter tells the writer which character to use to quote fields when writing. Whether quoting is used or not, however, is determined by the quoting optional parameter:\n",
    "\n",
    "- If `quoting` is set to `csv.QUOTE_MINIMAL`, then `.writerow()` will quote fields only if they contain the `delimiter` or the `quotechar`. This is the default case.\n",
    "- If `quoting` is set to `csv.QUOTE_ALL`, then `.writerow()` will quote all fields.\n",
    "- If `quoting` is set to `csv.QUOTE_NONNUMERIC`, then `.writerow()` will quote all fields containing text data and convert all numeric fields to the `float` data type.\n",
    "- If `quoting` is set to `csv.QUOTE_NONE`, then `.writerow()` will escape delimiters instead of quoting them. In this case, you also must provide a value for the `escapechar` optional parameter."
   ]
  },
  {
   "cell_type": "markdown",
   "id": "assured-sheep",
   "metadata": {},
   "source": [
    "## Writing CSV File From a Dictionary With csv"
   ]
  },
  {
   "cell_type": "markdown",
   "id": "stylish-layout",
   "metadata": {},
   "source": [
    "Since you can read our data into a dictionary, it’s only fair that you should be able to write it out from a dictionary as well:"
   ]
  },
  {
   "cell_type": "code",
   "execution_count": 13,
   "id": "external-bonus",
   "metadata": {},
   "outputs": [],
   "source": [
    "import csv\n",
    "\n",
    "with open('employee_file2.csv', mode='w') as csv_file:\n",
    "    fieldnames = ['emp_name', 'dept', 'birth_month']\n",
    "    writer = csv.DictWriter(csv_file, fieldnames=fieldnames)\n",
    "\n",
    "    writer.writeheader()\n",
    "    writer.writerow({'emp_name': 'John Smith', 'dept': 'Accounting', 'birth_month': 'November'})\n",
    "    writer.writerow({'emp_name': 'Erica Meyers', 'dept': 'IT', 'birth_month': 'March'})"
   ]
  },
  {
   "cell_type": "markdown",
   "id": "growing-persian",
   "metadata": {},
   "source": [
    "Unlike `DictReader`, the `fieldnames` parameter is required when writing a dictionary. This makes sense, when you think about it: without a list of `fieldnames`, the `DictWriter` can’t know which keys to use to retrieve values from your dictionaries. It also uses the keys in `fieldnames` to write out the first row as column names."
   ]
  },
  {
   "cell_type": "markdown",
   "id": "built-labor",
   "metadata": {},
   "source": [
    "## Conclusion\n",
    "\n",
    "If you understand the basics of reading CSV files, then you won’t ever be caught flat footed when you need to deal with importing data. Most CSV reading, processing, and writing tasks can be easily handled by the basic csv Python library. If you have a lot of data to read and process, the `pandas` library provides quick and easy CSV handling capabilities as well. This will be covered in Data Science Course section."
   ]
  }
 ],
 "metadata": {
  "kernelspec": {
   "display_name": "Python 3",
   "language": "python",
   "name": "python3"
  },
  "language_info": {
   "codemirror_mode": {
    "name": "ipython",
    "version": 3
   },
   "file_extension": ".py",
   "mimetype": "text/x-python",
   "name": "python",
   "nbconvert_exporter": "python",
   "pygments_lexer": "ipython3",
   "version": "3.7.9"
  }
 },
 "nbformat": 4,
 "nbformat_minor": 5
}

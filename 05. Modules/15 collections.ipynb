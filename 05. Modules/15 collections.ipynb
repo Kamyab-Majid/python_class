{
 "cells": [
  {
   "cell_type": "markdown",
   "id": "minimal-majority",
   "metadata": {},
   "source": [
    "# `collections`\n",
    "\n",
    "Collections in Python are containers that are used to store collections of data, for example, list, dict, set, tuple etc. These are built-in collections. Several modules have been developed that provide additional data structures to store collections of data. One such module is the Python [`collections`](https://docs.python.org/2/library/collections.html) module.\n",
    "\n",
    "Python `collections` module was introduced to improve the functionalities of the built-in collection containers. Python collections module was first introduced in its 2.4 release."
   ]
  },
  {
   "cell_type": "markdown",
   "id": "sealed-attention",
   "metadata": {},
   "source": [
    "Sequences in python:\n",
    "- Flat: string, numpy array\n",
    "- Container: list, collection.*"
   ]
  },
  {
   "cell_type": "markdown",
   "id": "round-missile",
   "metadata": {},
   "source": [
    "## Collections Module\n",
    "\n",
    "In this tutorial we will discuss 6 of the most commonly used data structures from the Python collections module. They are as follows:\n",
    "\n",
    "- `Counter`\n",
    "- `defaultdict`\n",
    "- `OrderedDict`\n",
    "- `deque`\n",
    "- `ChainMap`\n",
    "- `namedtuple()`"
   ]
  },
  {
   "cell_type": "markdown",
   "id": "suspended-qualification",
   "metadata": {},
   "source": [
    "## `collections.Counter`"
   ]
  },
  {
   "cell_type": "code",
   "execution_count": 15,
   "id": "joined-ozone",
   "metadata": {},
   "outputs": [],
   "source": [
    "from collections import Counter"
   ]
  },
  {
   "cell_type": "markdown",
   "id": "ecological-license",
   "metadata": {},
   "source": [
    "Counter is a subclass of dictionary object. The `Counter()` function in collections module takes an iterable or a mapping as the argument and returns a Dictionary. In this dictionary, a key is an element in the iterable or the mapping and value is the number of times that element exists in the iterable or the mapping."
   ]
  },
  {
   "cell_type": "markdown",
   "id": "assigned-lunch",
   "metadata": {},
   "source": [
    "There are multiple ways to create counter objects. The simplest way is to use `Counter()` function without any arguments."
   ]
  },
  {
   "cell_type": "code",
   "execution_count": 52,
   "id": "united-blend",
   "metadata": {},
   "outputs": [],
   "source": [
    "cnt = Counter()"
   ]
  },
  {
   "cell_type": "markdown",
   "id": "rental-escape",
   "metadata": {},
   "source": [
    "You can pass an iterable (`list`) to `Counter()` function to create a counter object."
   ]
  },
  {
   "cell_type": "code",
   "execution_count": 53,
   "id": "finnish-variation",
   "metadata": {},
   "outputs": [
    {
     "data": {
      "text/plain": [
       "Counter({1: 3, 2: 2, 3: 2, 4: 1, 6: 1, 7: 1, 8: 1})"
      ]
     },
     "execution_count": 53,
     "metadata": {},
     "output_type": "execute_result"
    }
   ],
   "source": [
    "mylist = [1,2,3,4,1,2,6,7,3,8,1]\n",
    "Counter(mylist)"
   ]
  },
  {
   "cell_type": "markdown",
   "id": "incorporate-jesus",
   "metadata": {},
   "source": [
    "Finally, the `Counter()` function can take a dictionary as an argument. In this dictionary, the value of a key should be the 'count' of that key."
   ]
  },
  {
   "cell_type": "markdown",
   "id": "tight-field",
   "metadata": {},
   "source": [
    "You can access any counter item with its key as shown below:"
   ]
  },
  {
   "cell_type": "code",
   "execution_count": 6,
   "id": "limiting-carroll",
   "metadata": {},
   "outputs": [
    {
     "name": "stdout",
     "output_type": "stream",
     "text": [
      "3\n"
     ]
    }
   ],
   "source": [
    "mylist = [1,2,3,4,1,2,6,7,3,8,1]\n",
    "cnt = Counter(mylist)\n",
    "print(cnt[1])"
   ]
  },
  {
   "cell_type": "markdown",
   "id": "challenging-murder",
   "metadata": {},
   "source": [
    "In the above examples, cnt is an object of Counter class which is a subclass of dict. So it has all the methods of dict class."
   ]
  },
  {
   "cell_type": "markdown",
   "id": "outstanding-french",
   "metadata": {},
   "source": [
    "Apart from that, Counter has three additional functions:\n",
    "\n",
    "- Elements\n",
    "- `most_common([n])`\n",
    "- Subtract([interable-or-mapping])"
   ]
  },
  {
   "cell_type": "code",
   "execution_count": 68,
   "id": "touched-little",
   "metadata": {},
   "outputs": [
    {
     "name": "stdout",
     "output_type": "stream",
     "text": [
      "[1, 1, 1, 2, 2, 2, 2]\n"
     ]
    }
   ],
   "source": [
    "cnt = Counter({1:3,2:4})\n",
    "print(list(cnt.elements()))"
   ]
  },
  {
   "cell_type": "code",
   "execution_count": 69,
   "id": "excessive-georgia",
   "metadata": {},
   "outputs": [],
   "source": [
    "mylist = [1,2,3,4,1,2,6,7,3,8,1]\n",
    "cnt = Counter(mylist)"
   ]
  },
  {
   "cell_type": "markdown",
   "id": "complicated-finder",
   "metadata": {},
   "source": [
    "The `Counter()` function returns a dictionary which is unordered. You can sort it according to the number of counts in each element using `most_common()` function of the Counter object."
   ]
  },
  {
   "cell_type": "code",
   "execution_count": 74,
   "id": "divine-thanks",
   "metadata": {},
   "outputs": [
    {
     "data": {
      "text/plain": [
       "[(1, 3), (2, 2), (3, 2), (4, 1), (6, 1), (7, 1), (8, 1)]"
      ]
     },
     "execution_count": 74,
     "metadata": {},
     "output_type": "execute_result"
    }
   ],
   "source": [
    "cnt.most_common()"
   ]
  },
  {
   "cell_type": "code",
   "execution_count": 16,
   "id": "loving-society",
   "metadata": {},
   "outputs": [
    {
     "data": {
      "text/plain": [
       "[(1, 3), (2, 2), (3, 2)]"
      ]
     },
     "execution_count": 16,
     "metadata": {},
     "output_type": "execute_result"
    }
   ],
   "source": [
    "cnt.most_common(3)"
   ]
  },
  {
   "cell_type": "markdown",
   "id": "gentle-skirt",
   "metadata": {},
   "source": [
    "The `subtract()` takes iterable (list) or a mapping (dictionary) as an argument and deducts elements count using that argument. Check the following example:"
   ]
  },
  {
   "cell_type": "code",
   "execution_count": 17,
   "id": "demanding-trademark",
   "metadata": {},
   "outputs": [],
   "source": [
    "cnt = Counter({1:3,2:4})\n",
    "deduct = {1:1, 2:2}\n",
    "cnt.subtract(deduct)"
   ]
  },
  {
   "cell_type": "code",
   "execution_count": 19,
   "id": "vocal-extension",
   "metadata": {},
   "outputs": [
    {
     "data": {
      "text/plain": [
       "Counter({1: 2, 2: 2})"
      ]
     },
     "execution_count": 19,
     "metadata": {},
     "output_type": "execute_result"
    }
   ],
   "source": [
    "cnt"
   ]
  },
  {
   "cell_type": "markdown",
   "id": "roman-myrtle",
   "metadata": {},
   "source": [
    "## `collections.defaultdict`"
   ]
  },
  {
   "cell_type": "code",
   "execution_count": 1,
   "id": "certain-hawaiian",
   "metadata": {},
   "outputs": [],
   "source": [
    "from collections import defaultdict"
   ]
  },
  {
   "cell_type": "markdown",
   "id": "alone-northern",
   "metadata": {},
   "source": [
    "The defaultdict works exactly like a python dictionary, except for it does not throw `KeyError` when you try to access a non-existent key.\n",
    "\n",
    "Instead, it initializes the key with the element of the data type that you pass as an argument at the creation of `defaultdict`. The data type is called `default_factory`."
   ]
  },
  {
   "cell_type": "markdown",
   "id": "cubic-snapshot",
   "metadata": {},
   "source": [
    "You can create a defaultdict with the `defaultdict()` constructor. You have to specify a data type as an argument. Check the following code:"
   ]
  },
  {
   "cell_type": "code",
   "execution_count": 115,
   "id": "concerned-kruger",
   "metadata": {},
   "outputs": [],
   "source": [
    "nums = defaultdict(int)\n",
    "nums['one'] = 1\n",
    "nums['two'] = 2"
   ]
  },
  {
   "cell_type": "code",
   "execution_count": 22,
   "id": "gothic-webcam",
   "metadata": {},
   "outputs": [
    {
     "data": {
      "text/plain": [
       "0"
      ]
     },
     "execution_count": 22,
     "metadata": {},
     "output_type": "execute_result"
    }
   ],
   "source": [
    "nums['three']"
   ]
  },
  {
   "cell_type": "markdown",
   "id": "combined-monte",
   "metadata": {},
   "source": [
    "n this example, int is passed as the `default_factory`. Notice that you only pass `int`, not `int()`. Next, the values are defined for the two keys, namely, `'one'` and `'two'`, but in the next line we try to access a key that has not been defined yet."
   ]
  },
  {
   "cell_type": "markdown",
   "id": "paperback-observation",
   "metadata": {},
   "source": [
    "In a normal dictionary, this will force a `KeyError`. But defaultdict initialize the new key with `default_factory`'s default value which is `0` for `int`. Hence, when the program is executed, and `0` will be printed. This particular feature of initializing non-existent keys can be exploited in various situations."
   ]
  },
  {
   "cell_type": "markdown",
   "id": "metropolitan-armstrong",
   "metadata": {},
   "source": [
    "For example, let's say you want the count of each name in a list of names given as `\"Mike, John, Mike, Anna, Mike, John, John, Mike, Mike, Britney, Smith, Anna, Smith\"`."
   ]
  },
  {
   "cell_type": "code",
   "execution_count": 124,
   "id": "respiratory-atlas",
   "metadata": {},
   "outputs": [],
   "source": [
    "from collections import defaultdict\n",
    "\n",
    "count = defaultdict(int)\n",
    "names_list = \"Mike John Mike Anna Mike John John Mike Mike Britney Smith Anna Smith\".split()\n",
    "for names in names_list:\n",
    "    count[names] += 1"
   ]
  },
  {
   "cell_type": "markdown",
   "id": "further-profile",
   "metadata": {},
   "source": [
    "## `collections.OrderedDict`"
   ]
  },
  {
   "cell_type": "code",
   "execution_count": 147,
   "id": "discrete-kernel",
   "metadata": {},
   "outputs": [],
   "source": [
    "from collections import OrderedDict"
   ]
  },
  {
   "cell_type": "markdown",
   "id": "muslim-dinner",
   "metadata": {},
   "source": [
    "`OrderedDict` is a dictionary where keys maintain the order in which they are inserted, which means if you change the value of a key later, it will not change the position of the key."
   ]
  },
  {
   "cell_type": "code",
   "execution_count": 160,
   "id": "final-porter",
   "metadata": {},
   "outputs": [],
   "source": [
    "od = OrderedDict()\n",
    "od['a'] = 1\n",
    "od['b'] = 2\n",
    "od['c'] = 3"
   ]
  },
  {
   "cell_type": "code",
   "execution_count": 161,
   "id": "loose-right",
   "metadata": {},
   "outputs": [
    {
     "data": {
      "text/plain": [
       "OrderedDict([('a', 1), ('b', 2), ('c', 3)])"
      ]
     },
     "execution_count": 161,
     "metadata": {},
     "output_type": "execute_result"
    }
   ],
   "source": [
    "od"
   ]
  },
  {
   "cell_type": "markdown",
   "id": "metropolitan-gather",
   "metadata": {},
   "source": [
    "You can access each element using a loop as well. Take a look at the following code:"
   ]
  },
  {
   "cell_type": "code",
   "execution_count": 28,
   "id": "outstanding-chinese",
   "metadata": {},
   "outputs": [
    {
     "name": "stdout",
     "output_type": "stream",
     "text": [
      "a 1\n",
      "b 2\n",
      "c 3\n"
     ]
    }
   ],
   "source": [
    "for key, value in od.items():\n",
    "    print(key, value)"
   ]
  },
  {
   "cell_type": "markdown",
   "id": "applicable-telling",
   "metadata": {},
   "source": [
    "Following example is an interesting use case of `OrderedDict` with Counter. Here, we create a `Counter` from a `list` and insert element to an `OrderedDict` based on their count."
   ]
  },
  {
   "cell_type": "code",
   "execution_count": 162,
   "id": "healthy-sleeve",
   "metadata": {},
   "outputs": [
    {
     "name": "stdout",
     "output_type": "stream",
     "text": [
      "a 4\n",
      "c 3\n",
      "b 2\n"
     ]
    }
   ],
   "source": [
    "mylist = [\"a\",\"c\",\"c\",\"a\",\"b\",\"a\",\"a\",\"b\",\"c\"]\n",
    "cnt = Counter(mylist)\n",
    "od = OrderedDict(cnt.most_common())\n",
    "for key, value in od.items():\n",
    "    print(key, value)"
   ]
  },
  {
   "cell_type": "markdown",
   "id": "corrected-fiber",
   "metadata": {},
   "source": [
    "## `collections.deque`"
   ]
  },
  {
   "cell_type": "code",
   "execution_count": 163,
   "id": "comprehensive-thing",
   "metadata": {},
   "outputs": [],
   "source": [
    "from collections import deque"
   ]
  },
  {
   "cell_type": "markdown",
   "id": "tight-reggae",
   "metadata": {},
   "source": [
    "The `deque` is a list optimized for inserting and removing items. You can create a deque with `deque()` constructor. You have to pass a `list` as an argument:"
   ]
  },
  {
   "cell_type": "code",
   "execution_count": 180,
   "id": "scheduled-loading",
   "metadata": {},
   "outputs": [],
   "source": [
    "list = [\"a\",\"b\",\"c\"]\n",
    "deq = deque(list)"
   ]
  },
  {
   "cell_type": "code",
   "execution_count": 181,
   "id": "covered-patch",
   "metadata": {},
   "outputs": [
    {
     "data": {
      "text/plain": [
       "deque(['a', 'b', 'c'])"
      ]
     },
     "execution_count": 181,
     "metadata": {},
     "output_type": "execute_result"
    }
   ],
   "source": [
    "deq"
   ]
  },
  {
   "cell_type": "markdown",
   "id": "upper-helmet",
   "metadata": {},
   "source": [
    "### Inserting Elements to deque\n",
    "You can easily insert an element to the `deq` we created at either of the ends. To add an element to the right of the deque, you have to use `append()` method."
   ]
  },
  {
   "cell_type": "markdown",
   "id": "together-guest",
   "metadata": {},
   "source": [
    "If you want to add an element to the start of the deque, you have to use `appendleft()` method."
   ]
  },
  {
   "cell_type": "code",
   "execution_count": 182,
   "id": "practical-insert",
   "metadata": {},
   "outputs": [],
   "source": [
    "deq.append(\"d\")\n",
    "deq.appendleft(\"e\")"
   ]
  },
  {
   "cell_type": "code",
   "execution_count": 183,
   "id": "inclusive-heather",
   "metadata": {},
   "outputs": [
    {
     "data": {
      "text/plain": [
       "deque(['e', 'a', 'b', 'c', 'd'])"
      ]
     },
     "execution_count": 183,
     "metadata": {},
     "output_type": "execute_result"
    }
   ],
   "source": [
    "deq"
   ]
  },
  {
   "cell_type": "markdown",
   "id": "utility-status",
   "metadata": {},
   "source": [
    "### Removing Elements from the deque"
   ]
  },
  {
   "cell_type": "markdown",
   "id": "ahead-empire",
   "metadata": {},
   "source": [
    "Removing elements is similar to inserting elements. You can remove an element the similar way you insert elements. To remove an element from the right end, you can use `pop()` function and to remove an element from left, you can use `popleft()`."
   ]
  },
  {
   "cell_type": "code",
   "execution_count": 184,
   "id": "random-calculation",
   "metadata": {},
   "outputs": [
    {
     "data": {
      "text/plain": [
       "'d'"
      ]
     },
     "execution_count": 184,
     "metadata": {},
     "output_type": "execute_result"
    }
   ],
   "source": [
    "deq.pop()"
   ]
  },
  {
   "cell_type": "code",
   "execution_count": 185,
   "id": "referenced-arnold",
   "metadata": {},
   "outputs": [
    {
     "data": {
      "text/plain": [
       "'e'"
      ]
     },
     "execution_count": 185,
     "metadata": {},
     "output_type": "execute_result"
    }
   ],
   "source": [
    "deq.popleft()"
   ]
  },
  {
   "cell_type": "code",
   "execution_count": 186,
   "id": "moderate-collector",
   "metadata": {},
   "outputs": [
    {
     "data": {
      "text/plain": [
       "deque(['a', 'b', 'c'])"
      ]
     },
     "execution_count": 186,
     "metadata": {},
     "output_type": "execute_result"
    }
   ],
   "source": [
    "deq"
   ]
  },
  {
   "cell_type": "markdown",
   "id": "alive-research",
   "metadata": {},
   "source": [
    "### Counting Elements in a deque\n",
    "\n",
    "If you want to find the count of a specific element, use `count(x)` function. You have to specify the element for which you need to find the count, as the argument."
   ]
  },
  {
   "cell_type": "code",
   "execution_count": 187,
   "id": "authorized-intake",
   "metadata": {},
   "outputs": [
    {
     "data": {
      "text/plain": [
       "1"
      ]
     },
     "execution_count": 187,
     "metadata": {},
     "output_type": "execute_result"
    }
   ],
   "source": [
    "deq.count(\"a\")"
   ]
  },
  {
   "cell_type": "markdown",
   "id": "superior-parker",
   "metadata": {},
   "source": [
    "### Clearing a deque\n",
    "\n",
    "If you want to remove all elements from a deque, you can use `clear()` function."
   ]
  },
  {
   "cell_type": "code",
   "execution_count": 53,
   "id": "missing-mississippi",
   "metadata": {},
   "outputs": [],
   "source": [
    "mylist = [\"a\",\"b\",\"c\"]\n",
    "deq = deque(mylist)"
   ]
  },
  {
   "cell_type": "code",
   "execution_count": 54,
   "id": "bearing-viewer",
   "metadata": {},
   "outputs": [],
   "source": [
    "deq.clear()"
   ]
  },
  {
   "cell_type": "code",
   "execution_count": 58,
   "id": "dietary-budget",
   "metadata": {},
   "outputs": [
    {
     "data": {
      "text/plain": [
       "deque([])"
      ]
     },
     "execution_count": 58,
     "metadata": {},
     "output_type": "execute_result"
    }
   ],
   "source": [
    "deq"
   ]
  },
  {
   "cell_type": "markdown",
   "id": "latest-burst",
   "metadata": {},
   "source": [
    "## `collections.namedtuple()`"
   ]
  },
  {
   "cell_type": "code",
   "execution_count": 188,
   "id": "material-authority",
   "metadata": {},
   "outputs": [],
   "source": [
    "from collections import namedtuple"
   ]
  },
  {
   "cell_type": "markdown",
   "id": "greek-forward",
   "metadata": {},
   "source": [
    "The `namedtuple()` returns a tuple with names for each position in the tuple. One of the biggest problems with ordinary tuples is that you have to remember the index of each field of a tuple object. This is obviously difficult. The `namedtuple` was introduced to solve this problem."
   ]
  },
  {
   "cell_type": "code",
   "execution_count": 262,
   "id": "brief-record",
   "metadata": {},
   "outputs": [],
   "source": [
    "Student = namedtuple('Student', 'fname lname age')\n",
    "\n",
    "# identical to\n",
    "# Student = namedtuple('Student', ['fname', 'lname', 'age'])"
   ]
  },
  {
   "cell_type": "code",
   "execution_count": 251,
   "id": "general-jumping",
   "metadata": {},
   "outputs": [],
   "source": [
    "s1 = Student('John', 'Clarke', '13')"
   ]
  },
  {
   "cell_type": "code",
   "execution_count": 252,
   "id": "sustained-newcastle",
   "metadata": {},
   "outputs": [
    {
     "data": {
      "text/plain": [
       "'John'"
      ]
     },
     "execution_count": 252,
     "metadata": {},
     "output_type": "execute_result"
    }
   ],
   "source": [
    "s1.fname"
   ]
  },
  {
   "cell_type": "code",
   "execution_count": 253,
   "id": "korean-setting",
   "metadata": {},
   "outputs": [
    {
     "data": {
      "text/plain": [
       "'Clarke'"
      ]
     },
     "execution_count": 253,
     "metadata": {},
     "output_type": "execute_result"
    }
   ],
   "source": [
    "s1.lname"
   ]
  },
  {
   "cell_type": "code",
   "execution_count": 254,
   "id": "signed-chapter",
   "metadata": {},
   "outputs": [
    {
     "data": {
      "text/plain": [
       "'13'"
      ]
     },
     "execution_count": 254,
     "metadata": {},
     "output_type": "execute_result"
    }
   ],
   "source": [
    "s1.age"
   ]
  },
  {
   "cell_type": "markdown",
   "id": "corresponding-framework",
   "metadata": {},
   "source": [
    "In this example, a namedtuple object Student has been declared. You can access the fields of any instance of a Student class by the defined field name."
   ]
  },
  {
   "cell_type": "markdown",
   "id": "increasing-shock",
   "metadata": {},
   "source": [
    "### Creating a namedtuple Using List\n",
    "\n",
    "The `namedtuple()` function requires each value to be passed to it separately. Instead, you can use `_make()` to create a namedtuple instance with a list. Check the following code:"
   ]
  },
  {
   "cell_type": "code",
   "execution_count": 263,
   "id": "immune-lodge",
   "metadata": {},
   "outputs": [],
   "source": [
    "mylist = ['Adam','joe','18']"
   ]
  },
  {
   "cell_type": "code",
   "execution_count": 266,
   "id": "synthetic-reservoir",
   "metadata": {},
   "outputs": [],
   "source": [
    "# identical to: Student(*['Adam','joe','18'])\n",
    "s2 = Student._make(['Adam','joe','18'])"
   ]
  },
  {
   "cell_type": "code",
   "execution_count": 267,
   "id": "breeding-situation",
   "metadata": {},
   "outputs": [
    {
     "data": {
      "text/plain": [
       "'Adam'"
      ]
     },
     "execution_count": 267,
     "metadata": {},
     "output_type": "execute_result"
    }
   ],
   "source": [
    "s2.fname"
   ]
  },
  {
   "cell_type": "markdown",
   "id": "arranged-mentor",
   "metadata": {},
   "source": [
    "### Create a New Instance Using Existing Instance\n",
    "\n",
    "The `_asdict()` function can be used to create an `OrderedDict` instance from an existing instance."
   ]
  },
  {
   "cell_type": "code",
   "execution_count": 273,
   "id": "threaded-cathedral",
   "metadata": {},
   "outputs": [
    {
     "data": {
      "text/plain": [
       "OrderedDict([('fname', 'John'), ('lname', 'Clarke'), ('age', '13')])"
      ]
     },
     "execution_count": 273,
     "metadata": {},
     "output_type": "execute_result"
    }
   ],
   "source": [
    "s1._asdict()"
   ]
  },
  {
   "cell_type": "markdown",
   "id": "close-comedy",
   "metadata": {},
   "source": [
    "### Changing Field Values with `_replace()` Function\n",
    "\n",
    "To change the value of a field of an instance, the `_replace()` function is used. Remember that, `_replace()` function creates a new instance. It does not change the value of existing instance."
   ]
  },
  {
   "cell_type": "code",
   "execution_count": 281,
   "id": "great-gregory",
   "metadata": {},
   "outputs": [],
   "source": [
    "s1 = s1._replace(age='14')"
   ]
  },
  {
   "cell_type": "code",
   "execution_count": 282,
   "id": "vanilla-butter",
   "metadata": {},
   "outputs": [
    {
     "data": {
      "text/plain": [
       "Student(fname='John', lname='Clarke', age='14')"
      ]
     },
     "execution_count": 282,
     "metadata": {},
     "output_type": "execute_result"
    }
   ],
   "source": [
    "s1"
   ]
  },
  {
   "cell_type": "markdown",
   "id": "corrected-banner",
   "metadata": {},
   "source": [
    "### Have spaces in field names?"
   ]
  },
  {
   "cell_type": "markdown",
   "id": "assigned-riverside",
   "metadata": {},
   "source": [
    "The second argument of `nametuple()` can either be a space-separated string or a list of strings like"
   ]
  },
  {
   "cell_type": "code",
   "execution_count": 83,
   "id": "african-bachelor",
   "metadata": {},
   "outputs": [
    {
     "ename": "ValueError",
     "evalue": "Type names and field names must be valid identifiers: 'What is typically the main dish at your Thanksgiving dinner?'",
     "output_type": "error",
     "traceback": [
      "\u001b[0;31m---------------------------------------------------------------------------\u001b[0m",
      "\u001b[0;31mValueError\u001b[0m                                Traceback (most recent call last)",
      "\u001b[0;32m<ipython-input-83-2ff6269370a2>\u001b[0m in \u001b[0;36m<module>\u001b[0;34m\u001b[0m\n\u001b[1;32m      1\u001b[0m columns = namedtuple(\n\u001b[1;32m      2\u001b[0m     \u001b[0;34m'columns'\u001b[0m\u001b[0;34m,\u001b[0m\u001b[0;34m\u001b[0m\u001b[0;34m\u001b[0m\u001b[0m\n\u001b[0;32m----> 3\u001b[0;31m     \u001b[0;34m[\u001b[0m\u001b[0;34m'What is typically the main dish at your Thanksgiving dinner?'\u001b[0m\u001b[0;34m,\u001b[0m \u001b[0;34m'other column'\u001b[0m\u001b[0;34m]\u001b[0m\u001b[0;34m\u001b[0m\u001b[0;34m\u001b[0m\u001b[0m\n\u001b[0m\u001b[1;32m      4\u001b[0m )\n",
      "\u001b[0;32m~/anaconda3/envs/test/lib/python3.7/collections/__init__.py\u001b[0m in \u001b[0;36mnamedtuple\u001b[0;34m(typename, field_names, rename, defaults, module)\u001b[0m\n\u001b[1;32m    359\u001b[0m             \u001b[0;32mraise\u001b[0m \u001b[0mTypeError\u001b[0m\u001b[0;34m(\u001b[0m\u001b[0;34m'Type names and field names must be strings'\u001b[0m\u001b[0;34m)\u001b[0m\u001b[0;34m\u001b[0m\u001b[0;34m\u001b[0m\u001b[0m\n\u001b[1;32m    360\u001b[0m         \u001b[0;32mif\u001b[0m \u001b[0;32mnot\u001b[0m \u001b[0mname\u001b[0m\u001b[0;34m.\u001b[0m\u001b[0misidentifier\u001b[0m\u001b[0;34m(\u001b[0m\u001b[0;34m)\u001b[0m\u001b[0;34m:\u001b[0m\u001b[0;34m\u001b[0m\u001b[0;34m\u001b[0m\u001b[0m\n\u001b[0;32m--> 361\u001b[0;31m             raise ValueError('Type names and field names must be valid '\n\u001b[0m\u001b[1;32m    362\u001b[0m                              f'identifiers: {name!r}')\n\u001b[1;32m    363\u001b[0m         \u001b[0;32mif\u001b[0m \u001b[0m_iskeyword\u001b[0m\u001b[0;34m(\u001b[0m\u001b[0mname\u001b[0m\u001b[0;34m)\u001b[0m\u001b[0;34m:\u001b[0m\u001b[0;34m\u001b[0m\u001b[0;34m\u001b[0m\u001b[0m\n",
      "\u001b[0;31mValueError\u001b[0m: Type names and field names must be valid identifiers: 'What is typically the main dish at your Thanksgiving dinner?'"
     ]
    }
   ],
   "source": [
    "columns = namedtuple(\n",
    "    'columns', \n",
    "    ['What is typically the main dish at your Thanksgiving dinner?', 'other column']\n",
    ")"
   ]
  },
  {
   "cell_type": "markdown",
   "id": "external-stations",
   "metadata": {},
   "source": [
    "However, doing so will fail `ValueError`:"
   ]
  },
  {
   "cell_type": "markdown",
   "id": "computational-register",
   "metadata": {},
   "source": [
    "This is because columns (which you should capitalize as Columns) will be an object with `'What is typically...'` as an identifier and identifiers can't have spaces."
   ]
  },
  {
   "cell_type": "markdown",
   "id": "irish-designation",
   "metadata": {},
   "source": [
    "You can however ask ‍`namedtuple` to rename invalid identifiers:"
   ]
  },
  {
   "cell_type": "code",
   "execution_count": 296,
   "id": "aggregate-ireland",
   "metadata": {},
   "outputs": [],
   "source": [
    "Columns = namedtuple('columns', ['what is this?', 'this is a aftabe pelastiki?', 'this'], rename=True)"
   ]
  },
  {
   "cell_type": "code",
   "execution_count": 297,
   "id": "spanish-bones",
   "metadata": {},
   "outputs": [
    {
     "data": {
      "text/plain": [
       "('_0', '_1', 'this')"
      ]
     },
     "execution_count": 297,
     "metadata": {},
     "output_type": "execute_result"
    }
   ],
   "source": [
    "Columns._fields"
   ]
  },
  {
   "cell_type": "code",
   "execution_count": 299,
   "id": "nearby-onion",
   "metadata": {},
   "outputs": [],
   "source": [
    "col = Columns('field 0', 'field 1', 'field 2')"
   ]
  },
  {
   "cell_type": "code",
   "execution_count": 300,
   "id": "satisfactory-berkeley",
   "metadata": {},
   "outputs": [
    {
     "data": {
      "text/plain": [
       "'field 0'"
      ]
     },
     "execution_count": 300,
     "metadata": {},
     "output_type": "execute_result"
    }
   ],
   "source": [
    "col._0  # ugly but valid"
   ]
  },
  {
   "cell_type": "code",
   "execution_count": 301,
   "id": "driven-marks",
   "metadata": {},
   "outputs": [
    {
     "data": {
      "text/plain": [
       "'field 2'"
      ]
     },
     "execution_count": 301,
     "metadata": {},
     "output_type": "execute_result"
    }
   ],
   "source": [
    "col.this"
   ]
  },
  {
   "cell_type": "markdown",
   "id": "utility-certificate",
   "metadata": {},
   "source": [
    "## `collections.ChainMap`"
   ]
  },
  {
   "cell_type": "code",
   "execution_count": 312,
   "id": "recreational-correspondence",
   "metadata": {},
   "outputs": [],
   "source": [
    "from collections import ChainMap"
   ]
  },
  {
   "cell_type": "markdown",
   "id": "tender-madonna",
   "metadata": {},
   "source": [
    "`ChainMap` is used to combine several dictionaries or mappings. It returns a list of dictionaries."
   ]
  },
  {
   "cell_type": "code",
   "execution_count": 313,
   "id": "hourly-tampa",
   "metadata": {},
   "outputs": [],
   "source": [
    "dict1 = { 'a' : 1, 'b' : 2 }\n",
    "dict2 = { 'c' : 3, 'b' : 4 }"
   ]
  },
  {
   "cell_type": "code",
   "execution_count": 314,
   "id": "sublime-layout",
   "metadata": {},
   "outputs": [],
   "source": [
    "chain_map = ChainMap(dict1, dict2)"
   ]
  },
  {
   "cell_type": "code",
   "execution_count": 315,
   "id": "placed-russia",
   "metadata": {},
   "outputs": [
    {
     "data": {
      "text/plain": [
       "[{'a': 1, 'b': 2}, {'c': 3, 'b': 4}]"
      ]
     },
     "execution_count": 315,
     "metadata": {},
     "output_type": "execute_result"
    }
   ],
   "source": [
    "chain_map.maps"
   ]
  },
  {
   "cell_type": "code",
   "execution_count": 316,
   "id": "golden-folks",
   "metadata": {},
   "outputs": [
    {
     "data": {
      "text/plain": [
       "1"
      ]
     },
     "execution_count": 316,
     "metadata": {},
     "output_type": "execute_result"
    }
   ],
   "source": [
    "chain_map['a']"
   ]
  },
  {
   "cell_type": "markdown",
   "id": "hundred-graduate",
   "metadata": {},
   "source": [
    "### Adding a New Dictionary to ChainMap\n",
    "\n",
    "If you want to add a new dictionary to an existing `ChainMap`, use `new_child()` function. It creates a new `ChainMap` with the newly added dictionary."
   ]
  },
  {
   "cell_type": "code",
   "execution_count": 317,
   "id": "lyric-outreach",
   "metadata": {},
   "outputs": [
    {
     "name": "stdout",
     "output_type": "stream",
     "text": [
      "ChainMap({'e': 5, 'f': 6}, {'a': 1, 'b': 2}, {'c': 3, 'b': 4})\n"
     ]
    }
   ],
   "source": [
    "dict3 = {'e' : 5, 'f' : 6}\n",
    "new_chain_map = chain_map.new_child(dict3)\n",
    "print(new_chain_map)"
   ]
  },
  {
   "cell_type": "markdown",
   "id": "commercial-assault",
   "metadata": {},
   "source": [
    "Notice that new dictionary is added to the beginning of `ChainMap` list."
   ]
  },
  {
   "cell_type": "markdown",
   "id": "featured-details",
   "metadata": {},
   "source": [
    "> **Note:** For practical usage of `ChainMap` in Python see [here](https://florimond.dev/en/posts/2018/07/a-practical-usage-of-chainmap-in-python/)"
   ]
  }
 ],
 "metadata": {
  "kernelspec": {
   "display_name": "Python 3",
   "language": "python",
   "name": "python3"
  },
  "language_info": {
   "codemirror_mode": {
    "name": "ipython",
    "version": 3
   },
   "file_extension": ".py",
   "mimetype": "text/x-python",
   "name": "python",
   "nbconvert_exporter": "python",
   "pygments_lexer": "ipython3",
   "version": "3.7.9"
  }
 },
 "nbformat": 4,
 "nbformat_minor": 5
}

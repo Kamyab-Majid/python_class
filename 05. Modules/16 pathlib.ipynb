{
 "cells": [
  {
   "cell_type": "markdown",
   "id": "liked-royal",
   "metadata": {},
   "source": [
    "# `pathlib` Module: Taming the File System"
   ]
  },
  {
   "cell_type": "markdown",
   "id": "structured-jacket",
   "metadata": {},
   "source": [
    "Have you struggled with file path handling in Python? In Python 3.4 and above, the struggle is now over! You no longer need to scratch your head over code like:\n",
    "\n",
    "```python\n",
    "path.rsplit('\\\\', maxsplit=1)[0]\n",
    "```"
   ]
  },
  {
   "cell_type": "markdown",
   "id": "cellular-galaxy",
   "metadata": {},
   "source": [
    "Or cringe at the verbosity of:\n",
    "\n",
    "```python\n",
    "os.path.isfile(os.path.join(os.path.expanduser('~'), 'realpython.txt'))\n",
    "```"
   ]
  },
  {
   "cell_type": "markdown",
   "id": "careful-proportion",
   "metadata": {},
   "source": [
    "In this tutorial, you will see how to work with file paths—names of directories and files—in Python. You will learn new ways to read and write files, manipulate paths and the underlying file system, as well as see some examples of how to list files and iterate over them. Using the pathlib module, the two examples above can be rewritten using elegant, readable, and Pythonic code like:\n",
    "\n",
    "```python\n",
    "path.parent\n",
    "(pathlib.Path.home() / 'realpython.txt').is_file()\n",
    "```"
   ]
  },
  {
   "cell_type": "markdown",
   "id": "constitutional-greene",
   "metadata": {},
   "source": [
    "## The Problem With Python File Path Handling"
   ]
  },
  {
   "cell_type": "markdown",
   "id": "increasing-foster",
   "metadata": {},
   "source": [
    "Working with files and interacting with the file system are important for many different reasons. The simplest cases may involve only reading or writing files, but sometimes more complex tasks are at hand. Maybe you need to list all files in a directory of a given type, find the parent directory of a given file, or create a unique file name that does not already exist."
   ]
  },
  {
   "cell_type": "markdown",
   "id": "inner-crime",
   "metadata": {},
   "source": [
    "Traditionally, Python has represented file paths using regular text strings. With support from the [`os.path`](https://docs.python.org/3/library/os.path.html) standard library, this has been adequate although a bit cumbersome (as the second example in the introduction shows). However, since paths are not strings, important functionality is spread all around the standard library, including libraries like os, glob, and shutil. The following example needs three import statements just to move all text files to an archive directory:"
   ]
  },
  {
   "cell_type": "code",
   "execution_count": 2,
   "id": "similar-policy",
   "metadata": {},
   "outputs": [],
   "source": [
    "import glob\n",
    "import os\n",
    "import shutil\n",
    "\n",
    "for file_name in glob.glob('*.txt'):\n",
    "    print(file_name)\n",
    "    new_path = os.path.join('archive', file_name)\n",
    "    shutil.move(file_name, new_path)"
   ]
  },
  {
   "cell_type": "markdown",
   "id": "continent-maintenance",
   "metadata": {},
   "source": [
    "With paths represented by strings, it is possible, but usually a bad idea, to use regular string methods. For instance, instead of joining two paths with + like regular strings, you should use `os.path.join()`, which joins paths using the correct path separator on the operating system. Recall that Windows uses `\\` while Mac and Linux use `/` as a separator. This difference can lead to hard-to-spot errors, such as our first example in the introduction working for only Windows paths."
   ]
  },
  {
   "cell_type": "markdown",
   "id": "comparative-muslim",
   "metadata": {},
   "source": [
    "The `pathlib` module was introduced in Python 3.4 (PEP 428) to deal with these challenges. It gathers the necessary functionality in one place and makes it available through methods and properties on an easy-to-use Path object."
   ]
  },
  {
   "cell_type": "markdown",
   "id": "lesbian-surfing",
   "metadata": {},
   "source": [
    "Early on, other packages still used strings for file paths, but as of Python 3.6, the `pathlib` module is supported throughout the standard library, partly due to the addition of a file system path protocol. If you are stuck on legacy Python, there is also a backport available for Python 2."
   ]
  },
  {
   "cell_type": "markdown",
   "id": "sexual-france",
   "metadata": {},
   "source": [
    "## Creating Paths\n",
    "\n",
    "All you really need to know about is the pathlib.Path class. There are a few different ways of creating a path. First of all, there are classmethods like `.cwd()` (Current Working Directory) and `.home()` (your user’s home directory):"
   ]
  },
  {
   "cell_type": "code",
   "execution_count": 8,
   "id": "lonely-vinyl",
   "metadata": {},
   "outputs": [
    {
     "data": {
      "text/plain": [
       "PosixPath('/mnt/c/Users/hejaz/OneDrive/Desktop/CS-Tutorial/Python/05. Modules')"
      ]
     },
     "execution_count": 8,
     "metadata": {},
     "output_type": "execute_result"
    }
   ],
   "source": [
    "import pathlib\n",
    "\n",
    "pathlib.Path.cwd()"
   ]
  },
  {
   "cell_type": "markdown",
   "id": "noble-reception",
   "metadata": {},
   "source": [
    "> Note: Throughout this tutorial, we will assume that `pathlib` has been imported, without spelling out `import pathlib` as above. As you will mainly be using the `Path` class, you can also do `from pathlib import Path` and write `Path` instead of `pathlib.Path`."
   ]
  },
  {
   "cell_type": "markdown",
   "id": "chemical-trainer",
   "metadata": {},
   "source": [
    "A path can also be explicitly created from its string representation:"
   ]
  },
  {
   "cell_type": "code",
   "execution_count": 12,
   "id": "occasional-japanese",
   "metadata": {},
   "outputs": [
    {
     "data": {
      "text/plain": [
       "PosixPath('C:\\\\Users\\\\gahjelle\\\\realpython\\\\file.txt')"
      ]
     },
     "execution_count": 12,
     "metadata": {},
     "output_type": "execute_result"
    }
   ],
   "source": [
    "pathlib.Path(r'C:\\Users\\gahjelle\\realpython\\file.txt')"
   ]
  },
  {
   "cell_type": "markdown",
   "id": "iraqi-green",
   "metadata": {},
   "source": [
    "A little tip for dealing with Windows paths: on Windows, the path separator is a backslash, `\\`. However, in many contexts, backslash is also used as an escape character in order to represent non-printable characters. To avoid problems, use raw string literals to represent Windows paths. These are string literals that have an `r` prepended to them. In raw string literals the `\\` represents a literal backslash: `r'C:\\Users'`."
   ]
  },
  {
   "cell_type": "markdown",
   "id": "micro-compound",
   "metadata": {},
   "source": [
    "A third way to construct a path is to join the parts of the path using the special operator `/`. The forward slash operator is used independently of the actual path separator on the platform:"
   ]
  },
  {
   "cell_type": "code",
   "execution_count": 10,
   "id": "likely-williams",
   "metadata": {},
   "outputs": [
    {
     "data": {
      "text/plain": [
       "PosixPath('/home/ali/python/scripts/test.py')"
      ]
     },
     "execution_count": 10,
     "metadata": {},
     "output_type": "execute_result"
    }
   ],
   "source": [
    "pathlib.Path.home() / 'python' / 'scripts' / 'test.py'"
   ]
  },
  {
   "cell_type": "markdown",
   "id": "magnetic-burning",
   "metadata": {},
   "source": [
    "The `/` can join several paths or a mix of paths and strings (as above) as long as there is at least one Path object. If you do not like the special `/` notation, you can do the same thing with the `.joinpath()` method:"
   ]
  },
  {
   "cell_type": "code",
   "execution_count": 11,
   "id": "sunset-example",
   "metadata": {},
   "outputs": [
    {
     "data": {
      "text/plain": [
       "PosixPath('/home/ali/python/scripts/test.py')"
      ]
     },
     "execution_count": 11,
     "metadata": {},
     "output_type": "execute_result"
    }
   ],
   "source": [
    "pathlib.Path.home().joinpath('python', 'scripts', 'test.py')"
   ]
  },
  {
   "cell_type": "code",
   "execution_count": 14,
   "id": "antique-silence",
   "metadata": {},
   "outputs": [
    {
     "data": {
      "text/plain": [
       "PosixPath('prefix/path')"
      ]
     },
     "execution_count": 14,
     "metadata": {},
     "output_type": "execute_result"
    }
   ],
   "source": [
    "\"prefix\" / pathlib.Path(\"./path\")"
   ]
  },
  {
   "cell_type": "markdown",
   "id": "alien-meter",
   "metadata": {},
   "source": [
    "Note that in the preceding examples, the ‍‍`pathlib.Path‍` is represented by either a `WindowsPath` or a `PosixPath`. The actual object representing the path depends on the underlying operating system. (That is, the `WindowsPath` example was run on Windows, while the `PosixPath` examples have been run on Mac or Linux.) See the section Operating System Differences for more information."
   ]
  },
  {
   "cell_type": "markdown",
   "id": "continuous-asian",
   "metadata": {},
   "source": [
    "## Reading and Writing Files\n",
    "\n",
    "Traditionally, the way to read or write a file in Python has been to use the built-in `open()` function. This is still true as the `open()` function can use `Path` objects directly. The following example finds all headers in a Markdown file and prints them:"
   ]
  },
  {
   "cell_type": "code",
   "execution_count": 32,
   "id": "contained-corrections",
   "metadata": {},
   "outputs": [],
   "source": [
    "path = pathlib.Path.cwd() / 'test.md'\n",
    "with open(path, mode='w') as f:\n",
    "    f.write(\"Hello World from pathlib!\")"
   ]
  },
  {
   "cell_type": "markdown",
   "id": "excellent-enterprise",
   "metadata": {},
   "source": [
    "An equivalent alternative is to call `.open()` on the Path object:"
   ]
  },
  {
   "cell_type": "code",
   "execution_count": 33,
   "id": "deluxe-newsletter",
   "metadata": {},
   "outputs": [
    {
     "name": "stdout",
     "output_type": "stream",
     "text": [
      "Hello World from pathlib!\n"
     ]
    }
   ],
   "source": [
    "with path.open(mode='r') as f:\n",
    "    print(f.read())"
   ]
  },
  {
   "cell_type": "markdown",
   "id": "intimate-spain",
   "metadata": {},
   "source": [
    "In fact, `Path.open()` is calling the built-in `open()` behind the scenes. Which option you use is mainly a matter of taste.\n",
    "\n",
    "For simple reading and writing of files, there are a couple of convenience methods in the `pathlib` library:\n",
    "\n",
    "- `.read_text()`: open the path in text mode and return the contents as a string.\n",
    "- `.read_bytes()`: open the path in binary/bytes mode and return the contents as a bytestring.\n",
    "- `.write_text()`: open the path and write string data to it.\n",
    "- `.write_bytes()`: open the path in binary/bytes mode and write data to it."
   ]
  },
  {
   "cell_type": "markdown",
   "id": "reverse-country",
   "metadata": {},
   "source": [
    "Each of these methods handles the opening and closing of the file, making them trivial to use, for instance:"
   ]
  },
  {
   "cell_type": "code",
   "execution_count": 56,
   "id": "scientific-monday",
   "metadata": {},
   "outputs": [
    {
     "data": {
      "text/plain": [
       "'Hello World from pathlib!'"
      ]
     },
     "execution_count": 56,
     "metadata": {},
     "output_type": "execute_result"
    }
   ],
   "source": [
    "path = pathlib.Path.cwd() / 'test.md'\n",
    "path.read_text()"
   ]
  },
  {
   "cell_type": "markdown",
   "id": "editorial-charter",
   "metadata": {},
   "source": [
    "Paths can also be specified as simple file names, in which case they are interpreted relative to the current working directory. The following example is equivalent to the previous one:"
   ]
  },
  {
   "cell_type": "code",
   "execution_count": 19,
   "id": "exceptional-swedish",
   "metadata": {},
   "outputs": [
    {
     "data": {
      "text/plain": [
       "'Hello World from pathlib!'"
      ]
     },
     "execution_count": 19,
     "metadata": {},
     "output_type": "execute_result"
    }
   ],
   "source": [
    "pathlib.Path('test.md').read_text()"
   ]
  },
  {
   "cell_type": "markdown",
   "id": "continued-refund",
   "metadata": {},
   "source": [
    "The `.resolve()` method will find the full path. Below, we confirm that the current working directory is used for simple file names:"
   ]
  },
  {
   "cell_type": "code",
   "execution_count": 48,
   "id": "working-divide",
   "metadata": {},
   "outputs": [
    {
     "data": {
      "text/plain": [
       "PosixPath('/mnt/c/Users/hejaz/OneDrive/Desktop/CS-Tutorial/Python/05. Modules/test.md')"
      ]
     },
     "execution_count": 48,
     "metadata": {},
     "output_type": "execute_result"
    }
   ],
   "source": [
    "path = pathlib.Path('test.md')\n",
    "path.resolve()"
   ]
  },
  {
   "cell_type": "code",
   "execution_count": 49,
   "id": "separated-guinea",
   "metadata": {},
   "outputs": [
    {
     "data": {
      "text/plain": [
       "True"
      ]
     },
     "execution_count": 49,
     "metadata": {},
     "output_type": "execute_result"
    }
   ],
   "source": [
    "path.resolve().parent == pathlib.Path.cwd()"
   ]
  },
  {
   "cell_type": "code",
   "execution_count": 50,
   "id": "korean-avenue",
   "metadata": {},
   "outputs": [
    {
     "data": {
      "text/plain": [
       "False"
      ]
     },
     "execution_count": 50,
     "metadata": {},
     "output_type": "execute_result"
    }
   ],
   "source": [
    "path.parent == pathlib.Path.cwd()"
   ]
  },
  {
   "cell_type": "markdown",
   "id": "strange-sudan",
   "metadata": {},
   "source": [
    "Note that when paths are compared, it is their representations that are compared. In the example above, `path.parent` is not equal to `pathlib.Path.cwd()`, because path.parent is represented by `'.'` while `pathlib.Path.cwd()` is represented by `'/home/gahjelle/realpython/'`."
   ]
  },
  {
   "cell_type": "markdown",
   "id": "collaborative-iceland",
   "metadata": {},
   "source": [
    "## Picking Out Components of a Path"
   ]
  },
  {
   "cell_type": "markdown",
   "id": "laden-things",
   "metadata": {},
   "source": [
    "The different parts of a path are conveniently available as properties. Basic examples include:\n",
    "\n",
    "- `.name`: the file name without any directory\n",
    "- `.parent`: the directory containing the file, or the parent directory if path is a directory\n",
    "- `.stem`: the file name without the suffix\n",
    "- `.suffix`: the file extension\n",
    "- `.anchor`: the part of the path before the directories"
   ]
  },
  {
   "cell_type": "code",
   "execution_count": 51,
   "id": "federal-penny",
   "metadata": {},
   "outputs": [
    {
     "data": {
      "text/plain": [
       "PosixPath('test.md')"
      ]
     },
     "execution_count": 51,
     "metadata": {},
     "output_type": "execute_result"
    }
   ],
   "source": [
    "path"
   ]
  },
  {
   "cell_type": "code",
   "execution_count": 55,
   "id": "protective-pilot",
   "metadata": {},
   "outputs": [
    {
     "data": {
      "text/plain": [
       "'test.md'"
      ]
     },
     "execution_count": 55,
     "metadata": {},
     "output_type": "execute_result"
    }
   ],
   "source": [
    "path.name"
   ]
  },
  {
   "cell_type": "code",
   "execution_count": 57,
   "id": "economic-offense",
   "metadata": {},
   "outputs": [
    {
     "data": {
      "text/plain": [
       "'test'"
      ]
     },
     "execution_count": 57,
     "metadata": {},
     "output_type": "execute_result"
    }
   ],
   "source": [
    "path.stem"
   ]
  },
  {
   "cell_type": "code",
   "execution_count": 58,
   "id": "fancy-douglas",
   "metadata": {},
   "outputs": [
    {
     "data": {
      "text/plain": [
       "'.md'"
      ]
     },
     "execution_count": 58,
     "metadata": {},
     "output_type": "execute_result"
    }
   ],
   "source": [
    "path.suffix"
   ]
  },
  {
   "cell_type": "code",
   "execution_count": 59,
   "id": "distinguished-metropolitan",
   "metadata": {},
   "outputs": [
    {
     "data": {
      "text/plain": [
       "PosixPath('.')"
      ]
     },
     "execution_count": 59,
     "metadata": {},
     "output_type": "execute_result"
    }
   ],
   "source": [
    "path.parent"
   ]
  },
  {
   "cell_type": "code",
   "execution_count": 60,
   "id": "sought-saying",
   "metadata": {},
   "outputs": [
    {
     "data": {
      "text/plain": [
       "PosixPath('.')"
      ]
     },
     "execution_count": 60,
     "metadata": {},
     "output_type": "execute_result"
    }
   ],
   "source": [
    "path.parent.parent"
   ]
  },
  {
   "cell_type": "code",
   "execution_count": 61,
   "id": "individual-korea",
   "metadata": {},
   "outputs": [
    {
     "data": {
      "text/plain": [
       "''"
      ]
     },
     "execution_count": 61,
     "metadata": {},
     "output_type": "execute_result"
    }
   ],
   "source": [
    "path.anchor"
   ]
  },
  {
   "cell_type": "code",
   "execution_count": 73,
   "id": "conventional-webster",
   "metadata": {},
   "outputs": [
    {
     "data": {
      "text/plain": [
       "'/'"
      ]
     },
     "execution_count": 73,
     "metadata": {},
     "output_type": "execute_result"
    }
   ],
   "source": [
    "path.home().anchor"
   ]
  },
  {
   "cell_type": "markdown",
   "id": "straight-hartford",
   "metadata": {},
   "source": [
    "Note that .parent returns a new `Path` object, whereas the other properties return strings. This means for instance that `.parent` can be chained as in the last example or even combined with `/` to create completely new paths:"
   ]
  },
  {
   "cell_type": "code",
   "execution_count": 34,
   "id": "similar-makeup",
   "metadata": {},
   "outputs": [
    {
     "data": {
      "text/plain": [
       "PosixPath('new.md')"
      ]
     },
     "execution_count": 34,
     "metadata": {},
     "output_type": "execute_result"
    }
   ],
   "source": [
    "path.parent.parent / ('new' + path.suffix)"
   ]
  },
  {
   "cell_type": "markdown",
   "id": "cutting-flexibility",
   "metadata": {},
   "source": [
    "The excellent [Pathlib Cheatsheet](https://github.com/chris1610/pbpython/blob/master/extras/Pathlib-Cheatsheet.pdf) provides a visual representation of these and other properties and methods."
   ]
  },
  {
   "cell_type": "markdown",
   "id": "third-maryland",
   "metadata": {},
   "source": [
    "## Moving and Deleting Files\n",
    "\n",
    "Through `pathlib`, you also have access to basic file system level operations like moving, updating, and even deleting files. For the most part, these methods do not give a warning or wait for confirmation before information or files are lost. Be careful when using these methods."
   ]
  },
  {
   "cell_type": "markdown",
   "id": "hundred-paragraph",
   "metadata": {},
   "source": [
    "To move a file, use `.replace()`. Note that if the destination already exists, `.replace()` will overwrite it. Unfortunately, pathlib does not explicitly support safe moving of files. To avoid possibly overwriting the destination path, the simplest is to test whether the destination exists before replacing:\n",
    "\n",
    "```python\n",
    "if not destination.exists():\n",
    "    source.replace(destination)\n",
    "```    "
   ]
  },
  {
   "cell_type": "markdown",
   "id": "comparable-attraction",
   "metadata": {},
   "source": [
    "When you are renaming files, useful methods might be `.with_name()` and `.with_suffix()`. They both return the original path but with the name or the suffix replaced, respectively.\n",
    "\n",
    "For instance:"
   ]
  },
  {
   "cell_type": "code",
   "execution_count": 58,
   "id": "biological-match",
   "metadata": {},
   "outputs": [
    {
     "data": {
      "text/plain": [
       "PosixPath('/mnt/c/Users/hejaz/OneDrive/Desktop/CS-Tutorial/Python/05. Modules/test.py')"
      ]
     },
     "execution_count": 58,
     "metadata": {},
     "output_type": "execute_result"
    }
   ],
   "source": [
    "path.with_suffix('.py')"
   ]
  },
  {
   "cell_type": "code",
   "execution_count": 59,
   "id": "colored-physics",
   "metadata": {},
   "outputs": [],
   "source": [
    "path.replace(path.with_suffix('.py'))"
   ]
  },
  {
   "cell_type": "markdown",
   "id": "broad-brazil",
   "metadata": {},
   "source": [
    "Directories and files can be deleted using `.rmdir()` and `.unlink()` respectively. (Again, be careful!)"
   ]
  },
  {
   "cell_type": "code",
   "execution_count": 86,
   "id": "popular-swift",
   "metadata": {},
   "outputs": [
    {
     "data": {
      "text/plain": [
       "PosixPath('/mnt/c/Users/hejaz/OneDrive/Desktop/CS-Tutorial/Python/05. Modules/main.py')"
      ]
     },
     "execution_count": 86,
     "metadata": {},
     "output_type": "execute_result"
    }
   ],
   "source": [
    "Path.cwd() / \"main.py\""
   ]
  },
  {
   "cell_type": "markdown",
   "id": "theoretical-summit",
   "metadata": {},
   "source": [
    "## Examples\n",
    "\n",
    "In this section, you will see some examples of how to use `pathlib` to deal with simple challenges."
   ]
  },
  {
   "cell_type": "markdown",
   "id": "global-report",
   "metadata": {},
   "source": [
    "### Counting Files\n",
    "\n",
    "There are a few different ways to list many files. The simplest is the `.iterdir()` method, which iterates over all files in the given directory. The following example combines `.iterdir()` with the `collections.Counter` class to count how many files there are of each filetype in the current directory:"
   ]
  },
  {
   "cell_type": "code",
   "execution_count": 64,
   "id": "after-language",
   "metadata": {},
   "outputs": [
    {
     "data": {
      "text/plain": [
       "Counter({'': 1, '.ipynb': 4, '.yaml': 1, '.py': 1})"
      ]
     },
     "execution_count": 64,
     "metadata": {},
     "output_type": "execute_result"
    }
   ],
   "source": [
    "import collections\n",
    "\n",
    "collections.Counter(p.suffix for p in pathlib.Path.cwd().iterdir())"
   ]
  },
  {
   "cell_type": "markdown",
   "id": "whole-appointment",
   "metadata": {},
   "source": [
    "## Find the Last Modified File\n",
    "\n",
    "To find the file in a directory that was last modified, you can use the `.stat()` method to get information about the underlying files. For instance, `.stat().st_mtime` gives the time of last modification of a file:"
   ]
  },
  {
   "cell_type": "code",
   "execution_count": 116,
   "id": "forced-variance",
   "metadata": {},
   "outputs": [],
   "source": [
    "from datetime import datetime"
   ]
  },
  {
   "cell_type": "code",
   "execution_count": 126,
   "id": "subtle-boring",
   "metadata": {},
   "outputs": [
    {
     "data": {
      "text/plain": [
       "os.stat_result(st_mode=33188, st_ino=3377699720870481, st_dev=14, st_nlink=1, st_uid=1000, st_gid=1000, st_size=25, st_atime=1621214763, st_mtime=1621214762, st_ctime=1621214766)"
      ]
     },
     "execution_count": 126,
     "metadata": {},
     "output_type": "execute_result"
    }
   ],
   "source": [
    "path.resolve().stat()"
   ]
  },
  {
   "cell_type": "code",
   "execution_count": 119,
   "id": "competitive-adobe",
   "metadata": {},
   "outputs": [
    {
     "data": {
      "text/plain": [
       "[(1621206494.6305218, PosixPath('.ipynb_checkpoints')),\n",
       " (1621213214.6805825, PosixPath('14.1 json.ipynb')),\n",
       " (1621213214.6876798, PosixPath('14.2 pickle.ipynb')),\n",
       " (1621212512.615489, PosixPath('14.3 yaml.ipynb')),\n",
       " (1621206166.2721207, PosixPath('collections.ipynb')),\n",
       " (1621210977.7855675, PosixPath('input.txt')),\n",
       " (1621210958.4577336, PosixPath('learn_yaml.yaml')),\n",
       " (1621213340.4888136, PosixPath('main.py')),\n",
       " (1621214693.9817107, PosixPath('pathlib.ipynb')),\n",
       " (1621214762.334, PosixPath('test.md')),\n",
       " (1621208346.1684408, PosixPath('time.ipynb'))]"
      ]
     },
     "execution_count": 119,
     "metadata": {},
     "output_type": "execute_result"
    }
   ],
   "source": [
    "[(f.stat().st_mtime, f) for f in path.parent.iterdir()]"
   ]
  },
  {
   "cell_type": "code",
   "execution_count": 120,
   "id": "international-woman",
   "metadata": {},
   "outputs": [],
   "source": [
    "time, file_path = max((f.stat().st_mtime, f) for f in path.parent.iterdir())"
   ]
  },
  {
   "cell_type": "markdown",
   "id": "silver-grounds",
   "metadata": {},
   "source": [
    "You can even get the contents of the file that was last modified with a similar expression:"
   ]
  },
  {
   "cell_type": "code",
   "execution_count": 121,
   "id": "outside-rings",
   "metadata": {},
   "outputs": [
    {
     "name": "stdout",
     "output_type": "stream",
     "text": [
      "2021-05-16 21:26:02.334000 test.md\n"
     ]
    }
   ],
   "source": [
    "print(datetime.fromtimestamp(time), file_path)"
   ]
  },
  {
   "cell_type": "markdown",
   "id": "minus-arbor",
   "metadata": {},
   "source": [
    "The timestamp returned from the different `.stat().st_ properties` represents seconds since **January 1st, 1970**. In addition to `datetime.fromtimestamp`, `time.localtime` or `time.ctime` may be used to convert the timestamp to something more usable."
   ]
  },
  {
   "cell_type": "markdown",
   "id": "quarterly-bunch",
   "metadata": {},
   "source": [
    "### Create a Unique File Name\n",
    "\n",
    "The last example will show how to construct a unique numbered file name based on a template. First, specify a pattern for the file name, with room for a counter. Then, check the existence of the file path created by joining a directory and the file name (with a value for the counter). If it already exists, increase the counter and try again:"
   ]
  },
  {
   "cell_type": "code",
   "execution_count": 129,
   "id": "intended-copyright",
   "metadata": {},
   "outputs": [],
   "source": [
    "def unique_path(directory, name_pattern):\n",
    "    counter = 0\n",
    "    while True:\n",
    "        counter += 1\n",
    "        path = directory / name_pattern.format(counter)\n",
    "        if not path.exists():\n",
    "            return path\n",
    "\n",
    "path = unique_path(pathlib.Path.cwd(), 'test{:03d}.txt')"
   ]
  },
  {
   "cell_type": "code",
   "execution_count": 130,
   "id": "specific-rochester",
   "metadata": {},
   "outputs": [
    {
     "data": {
      "text/plain": [
       "PosixPath('/mnt/c/Users/hejaz/OneDrive/Desktop/CS-Tutorial/Python/05. Modules/test001.txt')"
      ]
     },
     "execution_count": 130,
     "metadata": {},
     "output_type": "execute_result"
    }
   ],
   "source": [
    "path"
   ]
  },
  {
   "cell_type": "markdown",
   "id": "executed-clarity",
   "metadata": {},
   "source": [
    "If the directory already contains the files `test001.txt` and `test002.txt`, the above code will set path to `test003.txt`."
   ]
  },
  {
   "cell_type": "markdown",
   "id": "modern-secret",
   "metadata": {},
   "source": [
    "## Conclusion\n",
    "\n",
    "Since Python 3.4, pathlib has been available in the standard library. With pathlib, file paths can be represented by proper Path objects instead of plain strings as before. These objects make code dealing with file paths:\n",
    "\n",
    "- Easier to read, especially because `/` is used to join paths together\n",
    "- More powerful, with most necessary methods and properties available directly on the object\n",
    "- More consistent across operating systems, as peculiarities of the different systems are hidden by the `Path` object\n",
    "\n",
    "In this tutorial, you have seen how to create Path objects, read and write files, manipulate paths and the underlying file system, as well as some examples of how to iterate over many file paths."
   ]
  }
 ],
 "metadata": {
  "kernelspec": {
   "display_name": "Python 3",
   "language": "python",
   "name": "python3"
  },
  "language_info": {
   "codemirror_mode": {
    "name": "ipython",
    "version": 3
   },
   "file_extension": ".py",
   "mimetype": "text/x-python",
   "name": "python",
   "nbconvert_exporter": "python",
   "pygments_lexer": "ipython3",
   "version": "3.7.9"
  }
 },
 "nbformat": 4,
 "nbformat_minor": 5
}

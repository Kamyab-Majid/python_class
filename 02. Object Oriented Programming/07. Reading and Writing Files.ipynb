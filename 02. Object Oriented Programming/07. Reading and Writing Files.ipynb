{
 "cells": [
  {
   "cell_type": "markdown",
   "id": "0997b15e",
   "metadata": {},
   "source": [
    "# Reading and Writing Files"
   ]
  },
  {
   "cell_type": "markdown",
   "id": "f2de8858",
   "metadata": {},
   "source": [
    "One of the most common tasks that you can do with Python is reading and writing files. Whether it’s writing to a simple text file, reading a complicated server log, or even analyzing raw byte data, all of these situations require reading or writing a file."
   ]
  },
  {
   "cell_type": "markdown",
   "id": "e7ba00a3",
   "metadata": {},
   "source": [
    "## What Is a File?\n",
    "Before we can go into how to work with files in Python, it’s important to understand what exactly a file is and how modern operating systems handle some of their aspects."
   ]
  },
  {
   "cell_type": "markdown",
   "id": "cfa2aa1e",
   "metadata": {},
   "source": [
    "At its core, a file is a contiguous set of bytes [used to store data](https://en.wikipedia.org/wiki/Computer_file). This data is organized in a specific format and can be anything as simple as a text file or as complicated as a program executable. In the end, these byte files are then translated into binary 1 and 0 for easier processing by the computer."
   ]
  },
  {
   "cell_type": "markdown",
   "id": "cb6ff149",
   "metadata": {},
   "source": [
    "Files on most modern file systems are composed of three main parts:\n",
    "\n",
    "- **Header**: metadata about the contents of the file (file name, size, type, and so on)\n",
    "- **Data**: contents of the file as written by the creator or editor\n",
    "- **End of file (EOF)**: special character that indicates the end of the file"
   ]
  },
  {
   "cell_type": "markdown",
   "id": "705c2371",
   "metadata": {},
   "source": [
    "<img src=\"./images/fileformat.webp\" alt=\"file format\" style=\"width: 200px;\" align=\"left\"/>"
   ]
  },
  {
   "cell_type": "markdown",
   "id": "fc3fca71",
   "metadata": {},
   "source": [
    "What this data represents depends on the format specification used, which is typically represented by an extension. For example, a file that has an extension of `.gif` most likely conforms to the [Graphics Interchange Format](https://en.wikipedia.org/wiki/GIF) specification. There are hundreds, if not thousands, of file extensions out there. For this section, you’ll only deal with `.txt` file extensions."
   ]
  },
  {
   "cell_type": "markdown",
   "id": "863944db",
   "metadata": {},
   "source": [
    "### File Paths\n",
    "When you access a file on an operating system, a file path is required. The file path is a string that represents the location of a file. It’s broken up into three major parts:\n",
    "\n",
    "1. **Folder Path:** the file folder location on the file system where subsequent folders are separated by a forward slash `/` (Unix) or backslash `\\` (Windows)\n",
    "2. **File Name:** the actual name of the file\n",
    "3. **Extension:** the end of the file path pre-pended with a period (`.`) used to indicate the file type"
   ]
  },
  {
   "cell_type": "markdown",
   "id": "add1a0f9",
   "metadata": {},
   "source": [
    "Here’s a quick example. Let’s say you have a file located within a file structure like this:\n",
    "\n",
    "```\n",
    "/\n",
    "│\n",
    "├── path/\n",
    "|   │\n",
    "│   ├── to/\n",
    "│   │   └── cats.gif\n",
    "│   │\n",
    "│   └── dog_breeds.txt\n",
    "|\n",
    "└── animals.csv\n",
    "```"
   ]
  },
  {
   "cell_type": "markdown",
   "id": "5b9b7f5f",
   "metadata": {},
   "source": [
    "Now let’s say that your current location or current working directory (cwd) is in the to folder of our example folder structure. Instead of referring to the `cats.gif` by the full path of `path/to/cats.gif`, the file can be simply referenced by the file name and extension `cats.gif`.\n",
    "\n",
    "```\n",
    "/\n",
    "│\n",
    "├── path/\n",
    "|   │\n",
    "|   ├── to/  ← Your current working directory (cwd) is here\n",
    "|   │   └── cats.gif  ← Accessing this file\n",
    "|   │\n",
    "|   └── dog_breeds.txt\n",
    "|\n",
    "└── animals.csv\n",
    "```"
   ]
  },
  {
   "cell_type": "markdown",
   "id": "145af880",
   "metadata": {},
   "source": [
    "But what about `dog_breeds.txt`? How would you access that without using the full path? You can use the special characters double-dot (`..`) to move one directory up. This means that `../dog_breeds.txt` will reference the `dog_breeds.txt` file from the directory of to:\n",
    "\n",
    "```\n",
    "/\n",
    "│\n",
    "├── path/  ← Referencing this parent folder\n",
    "|   │\n",
    "|   ├── to/  ← Current working directory (cwd)\n",
    "|   │   └── cats.gif\n",
    "|   │\n",
    "|   └── dog_breeds.txt  ← Accessing this file\n",
    "|\n",
    "└── animals.csv\n",
    "```"
   ]
  },
  {
   "cell_type": "markdown",
   "id": "d3cf3cd5",
   "metadata": {},
   "source": [
    "The double-dot (`..`) can be chained together to traverse multiple directories above the current directory. For example, to access `animals.csv` from the to folder, you would use `../../animals.csv`."
   ]
  },
  {
   "cell_type": "markdown",
   "id": "d0289b8c",
   "metadata": {},
   "source": [
    "### Line Endings\n",
    "One problem often encountered when working with file data is the representation of a new line or line ending. The line ending has its roots from back in the Morse Code era, [when a specific pro-sign was used to communicate the end of a transmission or the end of a line](https://en.wikipedia.org/wiki/Prosigns_for_Morse_code#Official_International_Morse_code_procedure_signs)."
   ]
  },
  {
   "cell_type": "markdown",
   "id": "ed8994e4",
   "metadata": {},
   "source": [
    "Later, this [was standardized for teleprinters](https://en.wikipedia.org/wiki/Newline#History) by both the International Organization for Standardization (ISO) and the American Standards Association (ASA). ASA standard states that line endings should use the sequence of the Carriage Return (CR or \\r) and the Line Feed (LF or \\n) characters (CR+LF or \\r\\n). The ISO standard however allowed for either the CR+LF characters or just the LF character."
   ]
  },
  {
   "cell_type": "markdown",
   "id": "067965e0",
   "metadata": {},
   "source": [
    "[Windows uses the CR+LF characters](https://unix.stackexchange.com/a/411830) to indicate a new line, while Unix and the newer Mac versions use just the LF character. This can cause some complications when you’re processing files on an operating system that is different than the file’s source. Here’s a quick example. Let’s say that we examine the file `dog_breeds.txt` that was created on a Windows system:\n",
    "\n",
    "```\n",
    "Pug\\r\\n\n",
    "Jack Russell Terrier\\r\\n\n",
    "English Springer Spaniel\\r\\n\n",
    "German Shepherd\\r\\n\n",
    "Staffordshire Bull Terrier\\r\\n\n",
    "Cavalier King Charles Spaniel\\r\\n\n",
    "Golden Retriever\\r\\n\n",
    "West Highland White Terrier\\r\\n\n",
    "Boxer\\r\\n\n",
    "Border Terrier\\r\\n\n",
    "```"
   ]
  },
  {
   "cell_type": "markdown",
   "id": "73ac4fbb",
   "metadata": {},
   "source": [
    "This same output will be interpreted on a Unix device differently:\n",
    "\n",
    "```Pug\\r\n",
    "\\n\n",
    "Jack Russell Terrier\\r\n",
    "\\n\n",
    "English Springer Spaniel\\r\n",
    "\\n\n",
    "German Shepherd\\r\n",
    "\\n\n",
    "Staffordshire Bull Terrier\\r\n",
    "\\n\n",
    "Cavalier King Charles Spaniel\\r\n",
    "\\n\n",
    "Golden Retriever\\r\n",
    "\\n\n",
    "West Highland White Terrier\\r\n",
    "\\n\n",
    "Boxer\\r\n",
    "\\n\n",
    "Border Terrier\\r\n",
    "\\n\n",
    "```"
   ]
  },
  {
   "cell_type": "markdown",
   "id": "747c93b9",
   "metadata": {},
   "source": [
    "### Character Encodings\n",
    "Another common problem that you may face is the encoding of the byte data. An encoding is a translation from byte data to human readable characters. This is typically done by assigning a numerical value to represent a character. The two most common encodings are the [ASCII](https://www.ascii-code.com/) and [UNICODE](https://unicode.org/) Formats. [ASCII can only store 128 characters](https://en.wikipedia.org/wiki/ASCII), while [Unicode can contain up to 1,114,112 characters](https://en.wikipedia.org/wiki/Unicode)."
   ]
  },
  {
   "cell_type": "markdown",
   "id": "e4247222",
   "metadata": {},
   "source": [
    "ASCII is actually a subset of [Unicode](https://realpython.com/python-encodings-guide/) (UTF-8), meaning that ASCII and Unicode share the same numerical to character values. It’s important to note that parsing a file with the incorrect character encoding can lead to failures or misrepresentation of the character. For example, if a file was created using the UTF-8 encoding, and you try to parse it using the ASCII encoding, if there is a character that is outside of those 128 values, then an error will be thrown."
   ]
  },
  {
   "cell_type": "markdown",
   "id": "bee97daa",
   "metadata": {},
   "source": [
    "## Opening and Closing a File in Python"
   ]
  },
  {
   "cell_type": "markdown",
   "id": "68751b59",
   "metadata": {},
   "source": [
    "When you want to work with a file, the first thing to do is to open it. This is done by invoking the `open()` built-in function. `open()` has a single required argument that is the path to the file. `open()` has a single return, the file object:"
   ]
  },
  {
   "cell_type": "code",
   "execution_count": 9,
   "id": "bf9ef4c5",
   "metadata": {},
   "outputs": [
    {
     "name": "stdout",
     "output_type": "stream",
     "text": [
      "Overwriting myfile.txt\n"
     ]
    }
   ],
   "source": [
    "%%writefile myfile.txt\n",
    "this is line 1\n",
    "this is line 2\n",
    "this is line 3\n",
    "this is line 4\n",
    "this is line 5\n",
    "this is line 6"
   ]
  },
  {
   "cell_type": "code",
   "execution_count": 10,
   "id": "336cca04-45bd-47a1-b60d-d183839358e7",
   "metadata": {},
   "outputs": [
    {
     "name": "stdout",
     "output_type": "stream",
     "text": [
      "'01 OOP Paradigm.ipynb'\t\t '06 Data Types Methods.ipynb'\n",
      "'02 OOP in Python.ipynb'\t '07. Reading and Writing Files.ipynb'\n",
      "'03 Inheritance.ipynb'\t\t  images\n",
      "'04 Composition(not now).ipynb'   myfile.txt\n",
      "'05 Overriding(not now).ipynb'\t  myfile_reversed.txt\n"
     ]
    }
   ],
   "source": [
    "!ls"
   ]
  },
  {
   "cell_type": "code",
   "execution_count": 3,
   "id": "1396e21d",
   "metadata": {},
   "outputs": [],
   "source": [
    "file = open('myfile.txt')"
   ]
  },
  {
   "cell_type": "markdown",
   "id": "6284f411",
   "metadata": {},
   "source": [
    "After you open a file, the next thing to learn is how to close it."
   ]
  },
  {
   "cell_type": "markdown",
   "id": "cae964f2",
   "metadata": {},
   "source": [
    "> **Warning:** You should always make sure that an open file is properly closed."
   ]
  },
  {
   "cell_type": "markdown",
   "id": "87e761fc",
   "metadata": {},
   "source": [
    "It’s important to remember that it’s your responsibility to close the file. In most cases, upon termination of an application or script, a file will be closed eventually. However, there is no guarantee when exactly that will happen. This can lead to unwanted behavior including resource leaks. It’s also a best practice within Python (Pythonic) to make sure that your code behaves in a way that is well defined and reduces any unwanted behavior."
   ]
  },
  {
   "cell_type": "markdown",
   "id": "87e6315c",
   "metadata": {},
   "source": [
    "When you’re manipulating a file, there are two ways that you can use to ensure that a file is closed properly, even when encountering an error. The first way to close a file is to use the `try-finally` block:"
   ]
  },
  {
   "cell_type": "code",
   "execution_count": 11,
   "id": "b6f50f81",
   "metadata": {},
   "outputs": [],
   "source": [
    "reader = open('myfile.txt')\n",
    "try:\n",
    "    # Further file processing goes here\n",
    "    pass\n",
    "finally:\n",
    "    reader.close()"
   ]
  },
  {
   "cell_type": "markdown",
   "id": "dce9264e",
   "metadata": {},
   "source": [
    "> The `try-finally` block is covered in Error Handling section later."
   ]
  },
  {
   "cell_type": "markdown",
   "id": "db6d97e2",
   "metadata": {},
   "source": [
    "The second way to close a file is to use the `with statement`:"
   ]
  },
  {
   "cell_type": "code",
   "execution_count": 9,
   "id": "11b23508",
   "metadata": {},
   "outputs": [],
   "source": [
    "with open('myfile.txt') as reader:\n",
    "    # Further file processing goes here\n",
    "    pass"
   ]
  },
  {
   "cell_type": "markdown",
   "id": "22c32869",
   "metadata": {},
   "source": [
    "The with statement automatically takes care of closing the file once it leaves the with block, even in cases of error. I highly recommend that you use the with statement as much as possible, as it allows for cleaner code and makes handling any unexpected errors easier for you."
   ]
  },
  {
   "cell_type": "markdown",
   "id": "30e8f003",
   "metadata": {},
   "source": [
    "Most likely, you’ll also want to use the second positional argument, mode. This argument is a string that contains multiple characters to represent how you want to open the file. The default and most common is `'r'`, which represents opening the file in read-only mode as a text file:"
   ]
  },
  {
   "cell_type": "code",
   "execution_count": 10,
   "id": "39a508f8",
   "metadata": {},
   "outputs": [],
   "source": [
    "with open('myfile.txt', 'r') as reader:\n",
    "    # Further file processing goes here\n",
    "    pass"
   ]
  },
  {
   "cell_type": "markdown",
   "id": "213056fe",
   "metadata": {},
   "source": [
    "Other options for modes are [fully documented online](https://docs.python.org/3/library/functions.html#open), but the most commonly used ones are the following:\n",
    "\n",
    "|Character | Meaning|\n",
    "|:--|:--|\n",
    "|`'r'` | Open for reading (default)|\n",
    "|`'w'` | Open for writing, truncating (overwriting) the file first|\n",
    "|`'rb'` or `'wb'` | Open in binary mode (read/write using byte data)|"
   ]
  },
  {
   "cell_type": "markdown",
   "id": "a39ef1e8",
   "metadata": {},
   "source": [
    "Let’s talk a little about file objects. A file object is:\n",
    "\n",
    "> \"an object exposing a file-oriented API (with methods such as read() or write()) to an underlying resource.\" ([Source](https://docs.python.org/3/glossary.html#term-file-object))"
   ]
  },
  {
   "cell_type": "markdown",
   "id": "36313915",
   "metadata": {},
   "source": [
    "There are three different categories of file objects:\n",
    "\n",
    "- Text files\n",
    "- Buffered binary files\n",
    "- Raw binary files"
   ]
  },
  {
   "cell_type": "markdown",
   "id": "4ec0998e",
   "metadata": {},
   "source": [
    "Each of these file types are defined in the `io` module. "
   ]
  },
  {
   "cell_type": "markdown",
   "id": "97ffda2b",
   "metadata": {},
   "source": [
    "### Text File Types"
   ]
  },
  {
   "cell_type": "markdown",
   "id": "710127dc",
   "metadata": {},
   "source": [
    "A text file is the most common file that you’ll encounter. Here are some examples of how these files are opened:\n",
    "\n",
    "```python\n",
    "open('abc.txt')\n",
    "\n",
    "open('abc.txt', 'r')\n",
    "\n",
    "open('abc.txt', 'w')\n",
    "```"
   ]
  },
  {
   "cell_type": "markdown",
   "id": "700c72fd",
   "metadata": {},
   "source": [
    "With these types of files, `open()` will return a `TextIOWrapper` file object:"
   ]
  },
  {
   "cell_type": "code",
   "execution_count": 1,
   "id": "3c875aa1",
   "metadata": {},
   "outputs": [],
   "source": [
    "file = open('myfile.txt')"
   ]
  },
  {
   "cell_type": "code",
   "execution_count": 2,
   "id": "4d5bf597",
   "metadata": {},
   "outputs": [
    {
     "data": {
      "text/plain": [
       "_io.TextIOWrapper"
      ]
     },
     "execution_count": 2,
     "metadata": {},
     "output_type": "execute_result"
    }
   ],
   "source": [
    "type(file)"
   ]
  },
  {
   "cell_type": "markdown",
   "id": "03a60f0c",
   "metadata": {},
   "source": [
    "This is the default file object returned by `open()`."
   ]
  },
  {
   "cell_type": "markdown",
   "id": "cc07e624",
   "metadata": {},
   "source": [
    "### Buffered Binary File Types"
   ]
  },
  {
   "cell_type": "markdown",
   "id": "b3622ae3",
   "metadata": {},
   "source": [
    "A buffered binary file type is used for reading and writing binary files. Here are some examples of how these files are opened:"
   ]
  },
  {
   "cell_type": "code",
   "execution_count": 3,
   "id": "958e06b4",
   "metadata": {},
   "outputs": [],
   "source": [
    "file = open('myfile.txt', 'rb')"
   ]
  },
  {
   "cell_type": "code",
   "execution_count": 5,
   "id": "96a08c0c",
   "metadata": {},
   "outputs": [
    {
     "data": {
      "text/plain": [
       "_io.BufferedReader"
      ]
     },
     "execution_count": 5,
     "metadata": {},
     "output_type": "execute_result"
    }
   ],
   "source": [
    "type(file)"
   ]
  },
  {
   "cell_type": "code",
   "execution_count": 7,
   "id": "de48545d",
   "metadata": {},
   "outputs": [],
   "source": [
    "file = open('myfile.txt', 'wb')"
   ]
  },
  {
   "cell_type": "code",
   "execution_count": 8,
   "id": "95de360b",
   "metadata": {},
   "outputs": [
    {
     "data": {
      "text/plain": [
       "_io.BufferedWriter"
      ]
     },
     "execution_count": 8,
     "metadata": {},
     "output_type": "execute_result"
    }
   ],
   "source": [
    "type(file)"
   ]
  },
  {
   "cell_type": "markdown",
   "id": "804d2fc6",
   "metadata": {},
   "source": [
    "With these types of files, `open()` will return either a `BufferedReader` or `BufferedWriter` file object:"
   ]
  },
  {
   "cell_type": "markdown",
   "id": "d47d9552",
   "metadata": {},
   "source": [
    "## Reading and Writing Opened Files"
   ]
  },
  {
   "cell_type": "markdown",
   "id": "f357f312",
   "metadata": {},
   "source": [
    "Once you’ve opened up a file, you’ll want to read or write to the file. First off, let’s cover reading a file. There are multiple methods that can be called on a file object to help you out:\n",
    "\n",
    "|Method |What It Does|\n",
    "|:--|:--|\n",
    "|`.read(size=-1)` | This reads from the file based on the number of `size` bytes. If no argument is passed or `None` or `-1` is passed, then the entire file is read. |\n",
    "|`.readline(size=-1)` | This reads at most size number of characters from the line. This continues to the end of the line and then wraps back around. If no argument is passed or `None` or `-1` is passed, then the entire line (or rest of the line) is read. |\n",
    "|`.readlines()` | This reads the remaining lines from the file object and returns them as a list. |"
   ]
  },
  {
   "cell_type": "markdown",
   "id": "592765d0",
   "metadata": {},
   "source": [
    "Using the same `myfile.txt` file you used above, let’s go through some examples of how to use these methods. Here’s an example of how to open and read the entire file using `.read()`:"
   ]
  },
  {
   "cell_type": "code",
   "execution_count": 15,
   "id": "b630d758",
   "metadata": {},
   "outputs": [
    {
     "name": "stdout",
     "output_type": "stream",
     "text": [
      "Overwriting myfile.txt\n"
     ]
    }
   ],
   "source": [
    "%%writefile myfile.txt\n",
    "this is line 1\n",
    "this is line 2\n",
    "this is line 3\n",
    "this is line 4\n",
    "this is line 5\n",
    "this is line 6"
   ]
  },
  {
   "cell_type": "code",
   "execution_count": 16,
   "id": "1dec4e23",
   "metadata": {},
   "outputs": [
    {
     "name": "stdout",
     "output_type": "stream",
     "text": [
      "this is line 1\n",
      "this is line 2\n",
      "this is line 3\n",
      "this is line 4\n",
      "this is line 5\n",
      "this is line 6\n",
      "\n"
     ]
    }
   ],
   "source": [
    "with open('myfile.txt', 'r') as reader:\n",
    "    # Read & print the entire file\n",
    "    print(reader.read())"
   ]
  },
  {
   "cell_type": "markdown",
   "id": "8c77d06a",
   "metadata": {},
   "source": [
    "Here’s an example of how to read 5 bytes of a line each time using the Python `.readline()` method:"
   ]
  },
  {
   "cell_type": "code",
   "execution_count": 17,
   "id": "3caf950e",
   "metadata": {},
   "outputs": [
    {
     "name": "stdout",
     "output_type": "stream",
     "text": [
      "this \n",
      "is li\n",
      "ne 1\n",
      "\n",
      "this \n",
      "is li\n"
     ]
    }
   ],
   "source": [
    "with open('myfile.txt', 'r') as reader:\n",
    "    # Read & print the first 5 characters of the line 5 times\n",
    "    print(reader.readline(5))\n",
    "\n",
    "    # Notice that line is greater than the 5 chars and continues\n",
    "    # down the line, reading 5 chars each time until the end of the\n",
    "    # line and then \"wraps\" around\n",
    "    print(reader.readline(5))\n",
    "    print(reader.readline(5))\n",
    "    print(reader.readline(5))\n",
    "    print(reader.readline(5))"
   ]
  },
  {
   "cell_type": "markdown",
   "id": "20ef9193",
   "metadata": {},
   "source": [
    "Here’s an example of how to read the entire file as a list using the Python `.readlines()` method:"
   ]
  },
  {
   "cell_type": "code",
   "execution_count": 4,
   "id": "6ca7b61c",
   "metadata": {},
   "outputs": [
    {
     "name": "stdout",
     "output_type": "stream",
     "text": [
      "['this is line 1\\n', 'this is line 2\\n', 'this is line 3\\n', 'this is line 4\\n', 'this is line 5\\n', 'this is line 6\\n']\n"
     ]
    }
   ],
   "source": [
    "with open('myfile.txt', 'r') as f:\n",
    "    print(f.readlines())  # Returns a list object"
   ]
  },
  {
   "cell_type": "markdown",
   "id": "dff763ff",
   "metadata": {},
   "source": [
    "The above example can also be done by using `list()` to create a list out of the file object:"
   ]
  },
  {
   "cell_type": "code",
   "execution_count": 5,
   "id": "156f3fcd",
   "metadata": {},
   "outputs": [
    {
     "data": {
      "text/plain": [
       "['this is line 1\\n',\n",
       " 'this is line 2\\n',\n",
       " 'this is line 3\\n',\n",
       " 'this is line 4\\n',\n",
       " 'this is line 5\\n',\n",
       " 'this is line 6\\n']"
      ]
     },
     "execution_count": 5,
     "metadata": {},
     "output_type": "execute_result"
    }
   ],
   "source": [
    "f = open('myfile.txt')\n",
    "list(f)\n",
    "# f.close()"
   ]
  },
  {
   "cell_type": "markdown",
   "id": "9cb92565",
   "metadata": {},
   "source": [
    "### Iterating Over Each Line in the File"
   ]
  },
  {
   "cell_type": "markdown",
   "id": "c82ede65",
   "metadata": {},
   "source": [
    "A common thing to do while reading a file is to iterate over each line. Here’s an example of how to use the Python `.readline()` method to perform that iteration:"
   ]
  },
  {
   "cell_type": "code",
   "execution_count": 19,
   "id": "f9b5440a",
   "metadata": {},
   "outputs": [
    {
     "name": "stdout",
     "output_type": "stream",
     "text": [
      "this is line 1\n",
      "this is line 2\n",
      "this is line 3\n",
      "this is line 4\n",
      "this is line 5\n",
      "this is line 6\n"
     ]
    }
   ],
   "source": [
    "with open('myfile.txt', 'r') as reader:\n",
    "    # Read and print the entire file line by line\n",
    "    line = reader.readline()\n",
    "    while line != '':  # The EOF char is an empty string\n",
    "        print(line, end='')\n",
    "        line = reader.readline()"
   ]
  },
  {
   "cell_type": "markdown",
   "id": "db543f09",
   "metadata": {},
   "source": [
    "Another way you could iterate over each line in the file is to use the Python `.readlines()` method of the file object. Remember, `.readlines()` returns a list where each element in the list represents a line in the file:"
   ]
  },
  {
   "cell_type": "code",
   "execution_count": 23,
   "id": "124fe6a7",
   "metadata": {},
   "outputs": [
    {
     "name": "stdout",
     "output_type": "stream",
     "text": [
      "this is line 1\n",
      "this is line 2\n",
      "this is line 3\n",
      "this is line 4\n",
      "this is line 5\n",
      "this is line 6\n"
     ]
    }
   ],
   "source": [
    "with open('myfile.txt', 'r') as reader:\n",
    "    for line in reader.readlines():\n",
    "        print(line, end='')"
   ]
  },
  {
   "cell_type": "markdown",
   "id": "99b386da",
   "metadata": {},
   "source": [
    "However, the above examples can be further simplified by iterating over the file object itself:"
   ]
  },
  {
   "cell_type": "code",
   "execution_count": 5,
   "id": "1c3d366b",
   "metadata": {},
   "outputs": [
    {
     "name": "stdout",
     "output_type": "stream",
     "text": [
      "this is line 1\n",
      "this is line 2\n",
      "this is line 3\n",
      "this is line 4\n",
      "this is line 5\n",
      "this is line 6\n"
     ]
    }
   ],
   "source": [
    "with open('myfile.txt', 'r') as reader:\n",
    "    # Read and print the entire file line by line\n",
    "    for line in reader:\n",
    "        print(line, end='')"
   ]
  },
  {
   "cell_type": "markdown",
   "id": "6c76699a",
   "metadata": {},
   "source": [
    "This final approach is more Pythonic and can be quicker and more memory efficient. Therefore, it is suggested you use this instead."
   ]
  },
  {
   "cell_type": "markdown",
   "id": "0bba575c",
   "metadata": {},
   "source": [
    "> Note: Some of the above examples contain `print('some text', end='')`. The `end=''` is to prevent Python from adding an additional newline to the text that is being printed and only print what is being read from the file."
   ]
  },
  {
   "cell_type": "markdown",
   "id": "4b33648e",
   "metadata": {},
   "source": [
    "Now let’s dive into writing files. As with reading files, file objects have multiple methods that are useful for writing to a file:\n",
    "\n",
    "|Method\t|What It Does|\n",
    "|:--|:--|\n",
    "|`.write(string)`\t|This writes the string to the file.|\n",
    "|`.writelines(seq)`\t|This writes the sequence to the file. No line endings are appended to each sequence item. It’s up to you to add the appropriate line ending(s).|"
   ]
  },
  {
   "cell_type": "markdown",
   "id": "2bc758b0",
   "metadata": {},
   "source": [
    "Here’s a quick example of using `.write()` and `.writelines()`:"
   ]
  },
  {
   "cell_type": "code",
   "execution_count": 27,
   "id": "de298247",
   "metadata": {},
   "outputs": [
    {
     "name": "stdout",
     "output_type": "stream",
     "text": [
      "['this is line 1\\n', 'this is line 2\\n', 'this is line 3\\n', 'this is line 4\\n', 'this is line 5\\n', 'this is line 6\\n']\n",
      "['this is line 6\\n', 'this is line 5\\n', 'this is line 4\\n', 'this is line 3\\n', 'this is line 2\\n', 'this is line 1\\n']\n"
     ]
    }
   ],
   "source": [
    "with open('myfile.txt', 'r') as reader:\n",
    "    # Note: readlines doesn't trim the line endings\n",
    "    lines = reader.readlines()\n",
    "    print(lines)\n",
    "\n",
    "with open('myfile_reversed.txt', 'w') as writer:\n",
    "    # Alternatively you could use\n",
    "    # writer.writelines(reversed(dog_breeds))\n",
    "\n",
    "    # Write the dog breeds to the file in reversed order\n",
    "    for line in reversed(lines):\n",
    "        writer.write(line)\n",
    "with open('myfile_reversed.txt', 'r') as reader:\n",
    "    # Note: readlines doesn't trim the line endings\n",
    "    lines = reader.readlines()\n",
    "    print(lines)"
   ]
  },
  {
   "cell_type": "code",
   "execution_count": 6,
   "id": "e18535e4",
   "metadata": {},
   "outputs": [],
   "source": [
    "with open('myfile_reversed.txt', 'r') as reader:\n",
    "    # Note: readlines doesn't trim the line endings\n",
    "    lines = reader.readlines()"
   ]
  },
  {
   "cell_type": "code",
   "execution_count": 7,
   "id": "a649dc35",
   "metadata": {},
   "outputs": [
    {
     "data": {
      "text/plain": [
       "['this is line 7this is line 6\\n',\n",
       " 'this is line 5\\n',\n",
       " 'this is line 4\\n',\n",
       " 'this is line 3\\n',\n",
       " 'this is line 2\\n',\n",
       " 'this is line 1\\n']"
      ]
     },
     "execution_count": 7,
     "metadata": {},
     "output_type": "execute_result"
    }
   ],
   "source": [
    "lines"
   ]
  },
  {
   "cell_type": "markdown",
   "id": "6cb236bb",
   "metadata": {},
   "source": [
    "### Appending to a File"
   ]
  },
  {
   "cell_type": "markdown",
   "id": "8c7cd96a",
   "metadata": {},
   "source": [
    "Sometimes, you may want to append to a file or start writing at the end of an already populated file. This is easily done by using the `'a'` character for the mode argument:"
   ]
  },
  {
   "cell_type": "code",
   "execution_count": 7,
   "id": "a9a21a1d",
   "metadata": {},
   "outputs": [],
   "source": [
    "with open('myfile.txt', 'a') as a_writer:\n",
    "    a_writer.write('this is line 7')"
   ]
  },
  {
   "cell_type": "markdown",
   "id": "80b1d137",
   "metadata": {},
   "source": [
    "When you examine `myfile.txt` again, you’ll see that the beginning of the file is unchanged and Beagle is now added to the end of the file:"
   ]
  },
  {
   "cell_type": "code",
   "execution_count": 9,
   "id": "d1f260ed",
   "metadata": {},
   "outputs": [
    {
     "name": "stdout",
     "output_type": "stream",
     "text": [
      "this is line 1\n",
      "this is line 2\n",
      "this is line 3\n",
      "this is line 4\n",
      "this is line 5\n",
      "this is line 6\n",
      "this is line 7\n"
     ]
    }
   ],
   "source": [
    "with open('myfile.txt', 'r') as reader:\n",
    "    print(reader.read())"
   ]
  },
  {
   "cell_type": "markdown",
   "id": "01a60cf0",
   "metadata": {},
   "source": [
    "### Working With Two Files at the Same Time"
   ]
  },
  {
   "cell_type": "markdown",
   "id": "8f87750f",
   "metadata": {},
   "source": [
    "There are times when you may want to read a file and write to another file at the same time. If you use the example that was shown when you were learning how to write to a file, it can actually be combined into the following:"
   ]
  },
  {
   "cell_type": "code",
   "execution_count": 10,
   "id": "9e7d3de9",
   "metadata": {},
   "outputs": [],
   "source": [
    "d_path = 'myfile.txt'\n",
    "d_r_path = 'myfile_reversed.txt'\n",
    "with open(d_path, 'r') as reader, open(d_r_path, 'w') as writer:\n",
    "    dog_breeds = reader.readlines()\n",
    "    writer.writelines(reversed(dog_breeds))"
   ]
  }
 ],
 "metadata": {
  "kernelspec": {
   "display_name": "Python 3",
   "language": "python",
   "name": "python3"
  },
  "language_info": {
   "codemirror_mode": {
    "name": "ipython",
    "version": 3
   },
   "file_extension": ".py",
   "mimetype": "text/x-python",
   "name": "python",
   "nbconvert_exporter": "python",
   "pygments_lexer": "ipython3",
   "version": "3.8.12"
  }
 },
 "nbformat": 4,
 "nbformat_minor": 5
}

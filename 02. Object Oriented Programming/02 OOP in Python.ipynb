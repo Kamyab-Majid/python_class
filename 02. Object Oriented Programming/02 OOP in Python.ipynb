{
 "cells": [
  {
   "cell_type": "markdown",
   "id": "3c24cd04",
   "metadata": {},
   "source": [
    "# Object Oriented Programming in Python"
   ]
  },
  {
   "cell_type": "markdown",
   "id": "93eb2af8",
   "metadata": {},
   "source": [
    "Think of a program as a factory assembly line of sorts. At each step of the assembly line a system component processes some material, ultimately transforming raw material into a finished product."
   ]
  },
  {
   "cell_type": "markdown",
   "id": "7550e2d0",
   "metadata": {},
   "source": [
    "**In this section, you’ll learn how to:**\n",
    "\n",
    "- Create a **class**, which is like a blueprint for creating an object\n",
    "- Use classes to **create new objects**\n",
    "- Model systems with **class inheritance**"
   ]
  },
  {
   "cell_type": "markdown",
   "id": "3d6d9045",
   "metadata": {},
   "source": [
    "## What Is Object-Oriented Programming in Python?"
   ]
  },
  {
   "cell_type": "markdown",
   "id": "512f33b1",
   "metadata": {},
   "source": [
    "Object-oriented programming is a programming paradigm that provides a means of structuring programs so that properties and behaviors are bundled into individual **objects**."
   ]
  },
  {
   "cell_type": "markdown",
   "id": "1795e5b6",
   "metadata": {},
   "source": [
    "## Classes vs Instances"
   ]
  },
  {
   "cell_type": "markdown",
   "id": "0804782f",
   "metadata": {},
   "source": [
    "Classes are used to create user-defined data structures. Classes define functions called **methods**, which identify the behaviors and actions that an object created from the class can perform with its data."
   ]
  },
  {
   "cell_type": "markdown",
   "id": "bfb3a31e",
   "metadata": {},
   "source": [
    "In this tutorial, you’ll create a `Dog` class that stores some information about the characteristics and behaviors that an individual dog can have."
   ]
  },
  {
   "cell_type": "markdown",
   "id": "1ef585ae",
   "metadata": {},
   "source": [
    "A class is a blueprint for how something should be defined. It doesn’t necessarily contain any data. The `Dog` class specifies that a name and an age are necessary for defining a dog, but it doesn’t contain the name or age of any specific dog."
   ]
  },
  {
   "cell_type": "markdown",
   "id": "64fcf4f0",
   "metadata": {},
   "source": [
    "While the class is the blueprint, an **instance** is an object that is built from a class and contains real data. An instance of the `Dog` class is not a blueprint anymore. It’s an actual dog with a name, like Miles, who’s four years old."
   ]
  },
  {
   "cell_type": "markdown",
   "id": "33be8500",
   "metadata": {},
   "source": [
    "Put another way, a class is like a form or questionnaire. An instance is like a form that has been filled out with information. Just like many people can fill out the same form with their own unique information, many instances can be created from a single class."
   ]
  },
  {
   "cell_type": "markdown",
   "id": "18693578",
   "metadata": {},
   "source": [
    "### How to Define a Class"
   ]
  },
  {
   "cell_type": "markdown",
   "id": "9d02f371",
   "metadata": {},
   "source": [
    "All class definitions start with the ‍`class‍` keyword, which is followed by the name of the class and a colon. Any code that is indented below the class definition is considered part of the class’s body."
   ]
  },
  {
   "cell_type": "markdown",
   "id": "9622d98e",
   "metadata": {},
   "source": [
    "> **Note:** Python class names are written in CapitalizedWords notation (**Pascal** case) by convention. For example, a class for a specific breed of dog like the Jack Russell Terrier would be written as `JackRussellTerrier`."
   ]
  },
  {
   "cell_type": "markdown",
   "id": "4f6ded3c",
   "metadata": {},
   "source": [
    "The properties that all `Dog` objects must have are defined in a method called `.__init__()`. Every time a new `Dog` object is created, `.__init__()` sets the initial **state** of the object by assigning the values of the object’s properties. That is, `.__init__()` initializes each new instance of the class."
   ]
  },
  {
   "cell_type": "markdown",
   "id": "0d1d94a9",
   "metadata": {},
   "source": [
    "You can give `.__init__()` any number of parameters, but the first parameter will always be a variable called `self`. When a new class instance is created, the instance is automatically passed to the self parameter in `.__init__()` so that new **attributes** can be defined on the object."
   ]
  },
  {
   "cell_type": "code",
   "execution_count": 7,
   "id": "56506472-37c2-4054-bbda-75dc461181b8",
   "metadata": {},
   "outputs": [],
   "source": [
    "class MyCar:\n",
    "    def __init__(self, color):\n",
    "        self.color = color\n",
    "        self.leftdoor='closed'\n",
    "    def open_left(self):\n",
    "        self.leftdoor='opened'\n",
    "    def close_left(self):\n",
    "        self.leftdoor='closed'\n",
    "        "
   ]
  },
  {
   "cell_type": "code",
   "execution_count": 8,
   "id": "68c81bea-bcbe-422f-b817-da772db88647",
   "metadata": {},
   "outputs": [],
   "source": [
    "tiba = MyCar('blue')"
   ]
  },
  {
   "cell_type": "code",
   "execution_count": 9,
   "id": "95d8da84-7882-414a-a784-6a888b6e4bfd",
   "metadata": {},
   "outputs": [
    {
     "data": {
      "text/plain": [
       "'blue'"
      ]
     },
     "execution_count": 9,
     "metadata": {},
     "output_type": "execute_result"
    }
   ],
   "source": [
    "tiba.color"
   ]
  },
  {
   "cell_type": "code",
   "execution_count": 10,
   "id": "ae323f71-0036-4611-9ba0-495ae457823b",
   "metadata": {},
   "outputs": [
    {
     "data": {
      "text/plain": [
       "'closed'"
      ]
     },
     "execution_count": 10,
     "metadata": {},
     "output_type": "execute_result"
    }
   ],
   "source": [
    "tiba.leftdoor"
   ]
  },
  {
   "cell_type": "code",
   "execution_count": 13,
   "id": "5dd9fc4c-ee3f-48ed-9cfd-a3a155e3fbb5",
   "metadata": {},
   "outputs": [
    {
     "data": {
      "text/plain": [
       "'opened'"
      ]
     },
     "execution_count": 13,
     "metadata": {},
     "output_type": "execute_result"
    }
   ],
   "source": [
    "tiba.open_left()\n",
    "tiba.leftdoor"
   ]
  },
  {
   "cell_type": "code",
   "execution_count": 22,
   "id": "ba27cb0b-dbdf-4508-ae8f-70abd0d8b1ff",
   "metadata": {},
   "outputs": [
    {
     "data": {
      "text/plain": [
       "'closed'"
      ]
     },
     "execution_count": 22,
     "metadata": {},
     "output_type": "execute_result"
    }
   ],
   "source": [
    "tiba.close_left()\n",
    "tiba.leftdoor"
   ]
  },
  {
   "cell_type": "markdown",
   "id": "d9c4b1e1",
   "metadata": {},
   "source": [
    "Let’s update the `Dog` class with an `.__init__()` method that creates `.name` and `.age` attributes:"
   ]
  },
  {
   "cell_type": "code",
   "execution_count": 15,
   "id": "0491faeb",
   "metadata": {},
   "outputs": [],
   "source": [
    "class Dog:\n",
    "    def __init__(self, name, age):\n",
    "        self.name = name\n",
    "        self.age = age\n",
    "    def changename(self, new_name):\n",
    "        self.name = new_name\n"
   ]
  },
  {
   "cell_type": "code",
   "execution_count": 16,
   "id": "c9f9c7a5-0846-41e7-a264-0198890c6b7b",
   "metadata": {},
   "outputs": [],
   "source": [
    "my_dog = Dog(name='husky',age=2)"
   ]
  },
  {
   "cell_type": "code",
   "execution_count": 29,
   "id": "7a47b625-7b96-4d53-969b-4c7d24ee3a1e",
   "metadata": {},
   "outputs": [
    {
     "name": "stdout",
     "output_type": "stream",
     "text": [
      "husky 2\n"
     ]
    }
   ],
   "source": [
    "print(my_dog.name,my_dog.age)"
   ]
  },
  {
   "cell_type": "code",
   "execution_count": 17,
   "id": "bf03b54b-5d8a-48ea-833c-c97cad893436",
   "metadata": {},
   "outputs": [],
   "source": [
    "my_dog.changename('peter')"
   ]
  },
  {
   "cell_type": "code",
   "execution_count": 19,
   "id": "6b06f9cf-eb2a-4377-9d0b-19c9e7e32a52",
   "metadata": {},
   "outputs": [
    {
     "data": {
      "text/plain": [
       "'peter'"
      ]
     },
     "execution_count": 19,
     "metadata": {},
     "output_type": "execute_result"
    }
   ],
   "source": [
    "my_dog.name"
   ]
  },
  {
   "cell_type": "code",
   "execution_count": 20,
   "id": "108443b5-1ed2-4e6e-ac55-e65d16d465eb",
   "metadata": {},
   "outputs": [],
   "source": [
    "babak_dog=Dog(name='jack', age=5)"
   ]
  },
  {
   "cell_type": "code",
   "execution_count": 21,
   "id": "b448b295-0917-4183-b72c-07bc1dfaa06f",
   "metadata": {},
   "outputs": [
    {
     "data": {
      "text/plain": [
       "'jack'"
      ]
     },
     "execution_count": 21,
     "metadata": {},
     "output_type": "execute_result"
    }
   ],
   "source": [
    "babak_dog.name"
   ]
  },
  {
   "cell_type": "markdown",
   "id": "c0c4a849",
   "metadata": {},
   "source": [
    "In the body of `.__init__()`, there are two statements using the self variable:"
   ]
  },
  {
   "cell_type": "markdown",
   "id": "63142457",
   "metadata": {},
   "source": [
    "1. `self.name = name` creates an attribute called `name` and assigns to it the value of the `name` parameter.\n",
    "2. `self.age = age` creates an attribute called age and assigns to it the value of the `age` parameter."
   ]
  },
  {
   "cell_type": "markdown",
   "id": "c76c79e1",
   "metadata": {},
   "source": [
    "Attributes created in `.__init__()` are called **instance attributes**. An instance attribute’s value is specific to a particular instance of the class. All `Dog` objects have a `name` and an `age`, but the values for the `name` and `age` attributes will vary depending on the `Dog` instance."
   ]
  },
  {
   "cell_type": "markdown",
   "id": "b72bf746",
   "metadata": {},
   "source": [
    "On the other hand, **class attributes** are attributes that have the same value for all class instances. You can define a class attribute by assigning a value to a variable name outside of `.__init__()`."
   ]
  },
  {
   "cell_type": "markdown",
   "id": "6afe809c",
   "metadata": {},
   "source": [
    "For example, the following `Dog` class has a class attribute called `species` with the value `\"Canis familiaris\"`:"
   ]
  },
  {
   "cell_type": "code",
   "execution_count": 22,
   "id": "d9e5638f",
   "metadata": {},
   "outputs": [],
   "source": [
    "class Dog:\n",
    "    # Class attribute\n",
    "    species = \"Canis familiaris\"\n",
    "\n",
    "    def __init__(self, name, age):\n",
    "        self.name = name\n",
    "        self.age = age"
   ]
  },
  {
   "cell_type": "code",
   "execution_count": 23,
   "id": "0a2e2d1b-9a9a-443e-97e5-edc6139d5596",
   "metadata": {},
   "outputs": [
    {
     "data": {
      "text/plain": [
       "'Canis familiaris'"
      ]
     },
     "execution_count": 23,
     "metadata": {},
     "output_type": "execute_result"
    }
   ],
   "source": [
    "my_new_dog=Dog('peter',1)\n",
    "my_new_dog.species"
   ]
  },
  {
   "cell_type": "markdown",
   "id": "2bb7a510",
   "metadata": {},
   "source": [
    "Class attributes are defined directly beneath the first line of the class name and are indented by four spaces. They must always be assigned an initial value. When an instance of the class is created, class attributes are automatically created and assigned to their initial values."
   ]
  },
  {
   "cell_type": "markdown",
   "id": "3f7ac40a",
   "metadata": {},
   "source": [
    "Use class attributes to define properties that should have the same value for every class instance. Use instance attributes for properties that vary from one instance to another."
   ]
  },
  {
   "cell_type": "markdown",
   "id": "80786a2a",
   "metadata": {},
   "source": [
    "Now that we have a `Dog` class, let’s create some dogs!"
   ]
  },
  {
   "cell_type": "markdown",
   "id": "6c88149f",
   "metadata": {},
   "source": [
    "## Instantiate an Object in Python"
   ]
  },
  {
   "cell_type": "markdown",
   "id": "03a4060d",
   "metadata": {},
   "source": [
    "Creating a new object from a class is called **instantiating** an object. You can instantiate a new `Dog` object by typing the name of the class, followed by opening and closing parentheses:"
   ]
  },
  {
   "cell_type": "code",
   "execution_count": 25,
   "id": "e36fc679",
   "metadata": {},
   "outputs": [
    {
     "name": "stdout",
     "output_type": "stream",
     "text": [
      "<__main__.Dog object at 0x7fafc0410dc0>\n"
     ]
    }
   ],
   "source": [
    "new_dog = Dog('peter',1)\n",
    "print(new_dog)"
   ]
  },
  {
   "cell_type": "markdown",
   "id": "b8bb101d",
   "metadata": {},
   "source": [
    "You now have a new Dog object at `0x7f0b04dcac50`. This funny-looking string of letters and numbers is a **memory address** that indicates where the `Dog` object is stored in your computer’s memory. Note that the address you see on your screen will be different."
   ]
  },
  {
   "cell_type": "markdown",
   "id": "86f5c7fd",
   "metadata": {},
   "source": [
    "Now instantiate a second `Dog` object:"
   ]
  },
  {
   "cell_type": "markdown",
   "id": "cccfdb02",
   "metadata": {},
   "source": [
    "The new `Dog` instance is located at a different memory address. That’s because it’s an entirely new instance and is completely unique from the first `Dog` object that you instantiated."
   ]
  },
  {
   "cell_type": "markdown",
   "id": "a9dffcc9",
   "metadata": {},
   "source": [
    "To see this another way, type the following:"
   ]
  },
  {
   "cell_type": "code",
   "execution_count": 42,
   "id": "7e450bf3",
   "metadata": {},
   "outputs": [],
   "source": [
    "a = Dog('peter',1)"
   ]
  },
  {
   "cell_type": "code",
   "execution_count": 43,
   "id": "c2b45669",
   "metadata": {},
   "outputs": [],
   "source": [
    "b = Dog('peter',1)"
   ]
  },
  {
   "cell_type": "code",
   "execution_count": 48,
   "id": "b166973f",
   "metadata": {},
   "outputs": [
    {
     "data": {
      "text/plain": [
       "False"
      ]
     },
     "execution_count": 48,
     "metadata": {},
     "output_type": "execute_result"
    }
   ],
   "source": [
    "a == b"
   ]
  },
  {
   "cell_type": "markdown",
   "id": "d64452e0",
   "metadata": {},
   "source": [
    "In this code, you create two new `Dog` objects and assign them to the variables `a` and `b`. When you compare `a` and `b` using the `==` operator, the result is `False`. Even though `a` and `b` are both instances of the `Dog` class, they represent two distinct objects in memory."
   ]
  },
  {
   "cell_type": "markdown",
   "id": "07f50057",
   "metadata": {},
   "source": [
    "## Class and Instance Attributes"
   ]
  },
  {
   "cell_type": "markdown",
   "id": "2c32c7b4",
   "metadata": {},
   "source": [
    "Now create a new `Dog` class with a class attribute called `.species` and two instance attributes called `.name` and `.age`:"
   ]
  },
  {
   "cell_type": "code",
   "execution_count": 1,
   "id": "825d4c8d",
   "metadata": {},
   "outputs": [],
   "source": [
    "class Dog:\n",
    "    species = \"Canis familiaris\"\n",
    "    def __init__(self, name, age):\n",
    "        self.name = name\n",
    "        self.age = age"
   ]
  },
  {
   "cell_type": "markdown",
   "id": "bcaf710a",
   "metadata": {},
   "source": [
    "To instantiate objects of this `Dog` class, you need to provide values for the `name` and `age`. If you don’t, then Python raises a `TypeError`:"
   ]
  },
  {
   "cell_type": "code",
   "execution_count": 2,
   "id": "c3ac0859",
   "metadata": {},
   "outputs": [
    {
     "ename": "TypeError",
     "evalue": "__init__() missing 2 required positional arguments: 'name' and 'age'",
     "output_type": "error",
     "traceback": [
      "\u001b[0;31m---------------------------------------------------------------------------\u001b[0m",
      "\u001b[0;31mTypeError\u001b[0m                                 Traceback (most recent call last)",
      "\u001b[0;32m<ipython-input-2-2dced99f65a6>\u001b[0m in \u001b[0;36m<module>\u001b[0;34m\u001b[0m\n\u001b[0;32m----> 1\u001b[0;31m \u001b[0mDog\u001b[0m\u001b[0;34m(\u001b[0m\u001b[0;34m)\u001b[0m\u001b[0;34m\u001b[0m\u001b[0;34m\u001b[0m\u001b[0m\n\u001b[0m",
      "\u001b[0;31mTypeError\u001b[0m: __init__() missing 2 required positional arguments: 'name' and 'age'"
     ]
    }
   ],
   "source": [
    "Dog()"
   ]
  },
  {
   "cell_type": "markdown",
   "id": "8355dc0a",
   "metadata": {},
   "source": [
    "To pass arguments to the `name` and `age` parameters, put values into the parentheses after the class name:"
   ]
  },
  {
   "cell_type": "code",
   "execution_count": null,
   "id": "f3ea53fc",
   "metadata": {},
   "outputs": [],
   "source": [
    "buddy = Dog(\"Buddy\", 9)"
   ]
  },
  {
   "cell_type": "code",
   "execution_count": null,
   "id": "3a8f25af-7bed-4519-ab11-18e754e70579",
   "metadata": {},
   "outputs": [],
   "source": [
    "buddy.species"
   ]
  },
  {
   "cell_type": "code",
   "execution_count": null,
   "id": "a17acb2a",
   "metadata": {},
   "outputs": [],
   "source": [
    "miles = Dog(\"Miles\", 4)"
   ]
  },
  {
   "cell_type": "markdown",
   "id": "8751f99c",
   "metadata": {},
   "source": [
    "This creates two new `Dog` instances—one for a nine-year-old dog named Buddy and one for a four-year-old dog named Miles."
   ]
  },
  {
   "cell_type": "markdown",
   "id": "555d29c6",
   "metadata": {},
   "source": [
    "The Dog class’s `.__init__()` method has three parameters, so why are only two arguments passed to it in the example?"
   ]
  },
  {
   "cell_type": "markdown",
   "id": "53934ac4",
   "metadata": {},
   "source": [
    "When you instantiate a Dog object, Python creates a new instance and passes it to the first parameter of `.__init__()`. This essentially removes the `self` parameter, so you only need to worry about the `name` and `age` parameters."
   ]
  },
  {
   "cell_type": "markdown",
   "id": "bac6a1cd",
   "metadata": {},
   "source": [
    "After you create the `Dog` instances, you can access their instance attributes using **dot notation**:"
   ]
  },
  {
   "cell_type": "code",
   "execution_count": null,
   "id": "0b15e28e",
   "metadata": {},
   "outputs": [],
   "source": [
    "buddy.name"
   ]
  },
  {
   "cell_type": "code",
   "execution_count": null,
   "id": "5d261301",
   "metadata": {},
   "outputs": [],
   "source": [
    "buddy.age"
   ]
  },
  {
   "cell_type": "code",
   "execution_count": 19,
   "id": "211b9130",
   "metadata": {},
   "outputs": [
    {
     "data": {
      "text/plain": [
       "'Miles'"
      ]
     },
     "execution_count": 19,
     "metadata": {},
     "output_type": "execute_result"
    }
   ],
   "source": [
    "miles.name"
   ]
  },
  {
   "cell_type": "code",
   "execution_count": 20,
   "id": "d1a9ce0c",
   "metadata": {},
   "outputs": [
    {
     "data": {
      "text/plain": [
       "4"
      ]
     },
     "execution_count": 20,
     "metadata": {},
     "output_type": "execute_result"
    }
   ],
   "source": [
    "miles.age"
   ]
  },
  {
   "cell_type": "markdown",
   "id": "9c940f21",
   "metadata": {},
   "source": [
    "You can access class attributes the same way:\n",
    "\n"
   ]
  },
  {
   "cell_type": "code",
   "execution_count": 21,
   "id": "3bf9b3b1",
   "metadata": {},
   "outputs": [
    {
     "data": {
      "text/plain": [
       "'Canis familiaris'"
      ]
     },
     "execution_count": 21,
     "metadata": {},
     "output_type": "execute_result"
    }
   ],
   "source": [
    "buddy.species"
   ]
  },
  {
   "cell_type": "markdown",
   "id": "3d7dfd6c",
   "metadata": {},
   "source": [
    "One of the biggest advantages of using classes to organize data is that instances are guaranteed to have the attributes you expect. All `Dog` instances have `.species`, `.name`, and `.age` attributes, so you can use those attributes with confidence knowing that they will always return a value."
   ]
  },
  {
   "cell_type": "markdown",
   "id": "b86f730b",
   "metadata": {},
   "source": [
    "Although the attributes are guaranteed to exist, their values _can_ be changed dynamically:"
   ]
  },
  {
   "cell_type": "code",
   "execution_count": 24,
   "id": "181f2e26",
   "metadata": {},
   "outputs": [],
   "source": [
    "buddy.age = 10"
   ]
  },
  {
   "cell_type": "code",
   "execution_count": 25,
   "id": "29f37588",
   "metadata": {},
   "outputs": [
    {
     "data": {
      "text/plain": [
       "10"
      ]
     },
     "execution_count": 25,
     "metadata": {},
     "output_type": "execute_result"
    }
   ],
   "source": [
    "buddy.age"
   ]
  },
  {
   "cell_type": "code",
   "execution_count": 26,
   "id": "d627cc1d",
   "metadata": {},
   "outputs": [],
   "source": [
    "miles.species = \"Felis silvestris\""
   ]
  },
  {
   "cell_type": "code",
   "execution_count": 27,
   "id": "62367445",
   "metadata": {},
   "outputs": [
    {
     "data": {
      "text/plain": [
       "'Felis silvestris'"
      ]
     },
     "execution_count": 27,
     "metadata": {},
     "output_type": "execute_result"
    }
   ],
   "source": [
    "miles.species"
   ]
  },
  {
   "cell_type": "markdown",
   "id": "a27f5526",
   "metadata": {},
   "source": [
    "### Instance Methods"
   ]
  },
  {
   "cell_type": "markdown",
   "id": "a9440ca4",
   "metadata": {},
   "source": [
    "**Instance methods** are functions that are defined inside a class and can only be called from an instance of that class. Just like `.__init__()`, an instance method’s first parameter is always `self`."
   ]
  },
  {
   "cell_type": "code",
   "execution_count": 30,
   "id": "834ab428",
   "metadata": {},
   "outputs": [],
   "source": [
    "class Dog:\n",
    "    species = \"Canis familiaris\"\n",
    "\n",
    "    def __init__(self, name, age):\n",
    "        self.name = name\n",
    "        self.age = age\n",
    "\n",
    "    # Instance method\n",
    "    def description(self):\n",
    "        return f\"{self.name} is {self.age} years old\"\n",
    "\n",
    "    # Another instance method\n",
    "    def speak(self, sound):\n",
    "        return f\"{self.name} says {sound}\""
   ]
  },
  {
   "cell_type": "code",
   "execution_count": 31,
   "id": "b7363ce8-c6f0-4b9d-8c24-040f60aca868",
   "metadata": {},
   "outputs": [],
   "source": [
    "new_dog = Dog('peter',1)"
   ]
  },
  {
   "cell_type": "code",
   "execution_count": 32,
   "id": "58e4b47a-e81b-4eee-9ebe-cb1d9cb2755b",
   "metadata": {},
   "outputs": [
    {
     "data": {
      "text/plain": [
       "'peter says woof'"
      ]
     },
     "execution_count": 32,
     "metadata": {},
     "output_type": "execute_result"
    }
   ],
   "source": [
    "new_dog.speak('woof')\n"
   ]
  },
  {
   "cell_type": "code",
   "execution_count": 35,
   "id": "39acf26b-f82e-4991-a8d0-fecfefffcb0a",
   "metadata": {},
   "outputs": [
    {
     "data": {
      "text/plain": [
       "'peter is 1 years old'"
      ]
     },
     "execution_count": 35,
     "metadata": {},
     "output_type": "execute_result"
    }
   ],
   "source": [
    "new_dog.description()"
   ]
  },
  {
   "cell_type": "code",
   "execution_count": 56,
   "id": "9869256a-a2c5-4be7-b421-997507d7f721",
   "metadata": {},
   "outputs": [
    {
     "data": {
      "text/plain": [
       "<__main__.Dog at 0x7f5ffc494c70>"
      ]
     },
     "execution_count": 56,
     "metadata": {},
     "output_type": "execute_result"
    }
   ],
   "source": [
    "new_dog"
   ]
  },
  {
   "cell_type": "markdown",
   "id": "edd06181",
   "metadata": {},
   "source": [
    "This `Dog` class has two instance methods:\n",
    "\n",
    "1. `.description()` returns a string displaying the name and age of the dog.\n",
    "2. `.speak()` has one parameter called `sound`\n",
    "and returns a string containing the dog’s name and the sound the dog makes."
   ]
  },
  {
   "cell_type": "code",
   "execution_count": 29,
   "id": "93afc44d",
   "metadata": {},
   "outputs": [],
   "source": [
    "miles = Dog(\"Miles\", 4)"
   ]
  },
  {
   "cell_type": "code",
   "execution_count": 30,
   "id": "13274fef",
   "metadata": {},
   "outputs": [
    {
     "data": {
      "text/plain": [
       "'Miles is 4 years old'"
      ]
     },
     "execution_count": 30,
     "metadata": {},
     "output_type": "execute_result"
    }
   ],
   "source": [
    "miles.description()"
   ]
  },
  {
   "cell_type": "code",
   "execution_count": 31,
   "id": "84ce6f78",
   "metadata": {},
   "outputs": [
    {
     "data": {
      "text/plain": [
       "'Miles says Woof Woof'"
      ]
     },
     "execution_count": 31,
     "metadata": {},
     "output_type": "execute_result"
    }
   ],
   "source": [
    "miles.speak(\"Woof Woof\")"
   ]
  },
  {
   "cell_type": "code",
   "execution_count": 32,
   "id": "b551923b",
   "metadata": {},
   "outputs": [
    {
     "data": {
      "text/plain": [
       "'Miles says Bow Wow'"
      ]
     },
     "execution_count": 32,
     "metadata": {},
     "output_type": "execute_result"
    }
   ],
   "source": [
    "miles.speak(\"Bow Wow\")"
   ]
  },
  {
   "cell_type": "markdown",
   "id": "e63dc9d6",
   "metadata": {},
   "source": [
    "In the above Dog class, `.description()` returns a string containing information about the Dog instance `miles`. When writing your own classes, it’s a good idea to have a method that returns a string containing useful information about an instance of the class. However, `.description()` isn’t the most Pythonic way of doing this."
   ]
  },
  {
   "cell_type": "markdown",
   "id": "e86b1fad",
   "metadata": {},
   "source": [
    "When you create a `list` object, you can use `print()` to display a string that looks like the list:"
   ]
  },
  {
   "cell_type": "code",
   "execution_count": 33,
   "id": "e9c3f04c",
   "metadata": {},
   "outputs": [
    {
     "name": "stdout",
     "output_type": "stream",
     "text": [
      "['Fletcher', 'David', 'Dan']\n"
     ]
    }
   ],
   "source": [
    "names = [\"Fletcher\", \"David\", \"Dan\"]\n",
    "print(names)"
   ]
  },
  {
   "cell_type": "markdown",
   "id": "8c2b7451",
   "metadata": {},
   "source": [
    "Let’s see what happens when you `print()` the `miles` object:"
   ]
  },
  {
   "cell_type": "code",
   "execution_count": 34,
   "id": "444b8fc5",
   "metadata": {},
   "outputs": [
    {
     "name": "stdout",
     "output_type": "stream",
     "text": [
      "<__main__.Dog object at 0x7f0b04d5b050>\n"
     ]
    }
   ],
   "source": [
    "print(miles)"
   ]
  },
  {
   "cell_type": "markdown",
   "id": "a3560053",
   "metadata": {},
   "source": [
    "When you `print(miles)`, you get a cryptic looking message telling you that `miles` is a `Dog` object at the memory address `0x7f0b04d5b050`. This message isn’t very helpful. You can change what gets printed by defining a special instance method called `.__str__()`.\n",
    "\n",
    "```python\n",
    "class Dog:\n",
    "    # Leave other parts of Dog class as-is\n",
    "\n",
    "    # Replace .description() with __str__()\n",
    "    def __str__(self):\n",
    "        return f\"{self.name} is {self.age} years old\"\n",
    "```"
   ]
  },
  {
   "cell_type": "code",
   "execution_count": 37,
   "id": "931bc62d",
   "metadata": {},
   "outputs": [],
   "source": [
    "class Dog:\n",
    "    # ------------------------------------ #\n",
    "    # Leave other parts of Dog class as-is #\n",
    "    # ------------------------------------ #\n",
    "    species = \"Canis familiaris\"\n",
    "\n",
    "    def __init__(self, name, age):\n",
    "        self.name = name\n",
    "        self.age = age\n",
    "        self.width = 5\n",
    "\n",
    "    # Instance method\n",
    "    def description(self):\n",
    "        return f\"{self.name} is {self.age} years old\"\n",
    "\n",
    "    # Another instance method\n",
    "    def speak(self, sound):\n",
    "        return f\"{self.name} says {sound}\"\n",
    "    \n",
    "    # -------------------------------------- #\n",
    "    # Replace .description() with __str__()  #\n",
    "    # -------------------------------------- #\n",
    "    def __len__(self):\n",
    "        return self.width\n",
    "        \n",
    "    def __repr__(self):\n",
    "        return f\"{self.name} is {self.age} years old\"\n",
    "    def __str__(self):\n",
    "        return f\"{self.name} is {self.age} years old and is a good dog\" "
   ]
  },
  {
   "cell_type": "code",
   "execution_count": 38,
   "id": "a0b2f21c",
   "metadata": {},
   "outputs": [],
   "source": [
    "miles = Dog(\"Miles\", 4)"
   ]
  },
  {
   "cell_type": "code",
   "execution_count": 42,
   "id": "9adbc965",
   "metadata": {},
   "outputs": [
    {
     "data": {
      "text/plain": [
       "'2'"
      ]
     },
     "execution_count": 42,
     "metadata": {},
     "output_type": "execute_result"
    }
   ],
   "source": [
    "str(2)"
   ]
  },
  {
   "cell_type": "markdown",
   "id": "70a2dc0b",
   "metadata": {},
   "source": [
    "Methods like `.__init__()` and `.__str__()` are called **dunder methods** because they begin and end with double underscores. There are many dunder methods that you can use to customize classes in Python. Although too advanced a topic for a beginning Python tutorial, understanding dunder methods is an important part of mastering object-oriented programming in Python."
   ]
  },
  {
   "cell_type": "markdown",
   "id": "9eddb8a2",
   "metadata": {},
   "source": [
    "In the next section, you’ll see how to take your knowledge one step further and create classes from other classes."
   ]
  },
  {
   "cell_type": "markdown",
   "id": "f4032b7c",
   "metadata": {},
   "source": [
    "### How the `object.method()` Syntax Works"
   ]
  },
  {
   "cell_type": "code",
   "execution_count": 52,
   "id": "7af6a7f7",
   "metadata": {},
   "outputs": [],
   "source": [
    "class Dog:\n",
    "\n",
    "    def __init__(self, name, age):\n",
    "        self.name = name\n",
    "        self.age = age\n",
    "\n",
    "    def speak(self, sound):\n",
    "        return f\"{self.name} says {sound}\""
   ]
  },
  {
   "cell_type": "code",
   "execution_count": 53,
   "id": "28776f43",
   "metadata": {},
   "outputs": [],
   "source": [
    "buddy = Dog(\"Buddy\", 9)"
   ]
  },
  {
   "cell_type": "code",
   "execution_count": 55,
   "id": "27f974d1",
   "metadata": {},
   "outputs": [
    {
     "data": {
      "text/plain": [
       "'Buddy says Woof Woof'"
      ]
     },
     "execution_count": 55,
     "metadata": {},
     "output_type": "execute_result"
    }
   ],
   "source": [
    "buddy.speak(\"Woof Woof\")"
   ]
  },
  {
   "cell_type": "code",
   "execution_count": 57,
   "id": "a4ff7917",
   "metadata": {},
   "outputs": [
    {
     "data": {
      "text/plain": [
       "'Buddy says Woof Woof'"
      ]
     },
     "execution_count": 57,
     "metadata": {},
     "output_type": "execute_result"
    }
   ],
   "source": [
    "Dog.speak(buddy, \"Woof Woof\")"
   ]
  },
  {
   "cell_type": "markdown",
   "id": "b51e7f84",
   "metadata": {},
   "source": [
    "This example shows how instance is automatically passed to the `self` parameter."
   ]
  },
  {
   "cell_type": "markdown",
   "id": "1e4177dc",
   "metadata": {},
   "source": [
    "These two lines are actually identical:\n",
    "\n",
    "```python\n",
    "Dog.speak(buddy, \"Woof Woof\")\n",
    "buddy.speak(\"Woof Woof\")\n",
    "```\n",
    "\n",
    "The second line is simpler and often used but is just only a [**syntactic sugar**](https://en.wikipedia.org/wiki/Syntactic_sugar)."
   ]
  },
  {
   "cell_type": "markdown",
   "id": "615e0a12",
   "metadata": {},
   "source": [
    "### Check Your Understanding"
   ]
  },
  {
   "cell_type": "code",
   "execution_count": null,
   "id": "3454d197-eff8-48f3-8974-bc6b1205f8bb",
   "metadata": {},
   "outputs": [],
   "source": [
    "class car\n",
    "mileage\n"
   ]
  },
  {
   "cell_type": "markdown",
   "id": "8d27ab7a",
   "metadata": {},
   "source": [
    "> **Exercise:** Create a `Car` Class\n",
    "Create a Car class with two instance attributes:\n",
    "> \n",
    "> `.color`, which stores the name of the car’s color as a string\n",
    "> `.mileage`, which stores the number of miles on the car as an integer\n",
    "> \n",
    "> Then instantiate two `Car` objects—a blue car with 20,000 miles and a red car with 30,000 miles—and print out their colors and mileage. Your output should look like this:\n",
    "> \n",
    "> ```bash\n",
    "The blue car has 20,000 miles.\n",
    "The red car has 30,000 miles.\n",
    "```"
   ]
  },
  {
   "cell_type": "code",
   "execution_count": 45,
   "id": "e8df1b7e-3e2e-4357-9495-52e15cffe82b",
   "metadata": {},
   "outputs": [],
   "source": [
    "class Car:\n",
    "    def __init__(self, mileage):\n",
    "        self.mileage = mileage\n",
    "    def changemileage(self, new_mileage):\n",
    "        self.mileage = new_mileage"
   ]
  },
  {
   "cell_type": "code",
   "execution_count": 47,
   "id": "39e179e0-1298-4679-a8fd-18224d54e7ca",
   "metadata": {},
   "outputs": [
    {
     "data": {
      "text/plain": [
       "10001"
      ]
     },
     "execution_count": 47,
     "metadata": {},
     "output_type": "execute_result"
    }
   ],
   "source": [
    "new_car=Car(10000)\n",
    "new_car.mileage\n",
    "new_car.changemileage(10001)\n",
    "new_car.mileage"
   ]
  },
  {
   "cell_type": "markdown",
   "id": "b88803a3",
   "metadata": {
    "tags": []
   },
   "source": [
    "> **Solution:**\n",
    "> First, create a Car class with `.color` and `.mileage` instance attributes:\n",
    "> \n",
    "> ```python\n",
    "class Car:\n",
    "    def __init__(self, color, mileage):\n",
    "        self.color = color\n",
    "        self.mileage = mileage\n",
    "> ```\n",
    "> The `color` and `mileage` parameters of `.__init__()` are assigned to `self.color` and `self.mileage`, which creates the two instance attributes.\n",
    "> \n",
    "> Now you can create the two Car instances:\n",
    "> \n",
    "> ```python\n",
    "blue_car = Car(color=\"blue\", mileage=20_000)\n",
    "red_car = Car(color=\"red\", mileage=30_000)\n",
    ">```\n",
    "> \n",
    "> The `blue_car` instance is created by passing the value `\"blue\"` to the `color` parameter and `20_000` to the `mileage` parameter. Similarly, `red_car` is created with the values `\"red\"` and `30_000`.\n",
    "> \n",
    "> To print the `color` and `mileage` of each `Car` object, you can loop over a `tuple` containing both objects:\n",
    ">\n",
    "> ```python\n",
    "for car in (blue_car, red_car):\n",
    "    print(f\"The {car.color} car has {car.mileage:,} miles\")\n",
    "> ```\n",
    "> \n",
    "> The f-string in the above for loop inserts the `.color` and `.mileage` attributes into the string and uses the `:`, format specifier to print the mileage grouped by thousands and separated with a comma.\n",
    ">\n",
    "> The final output looks like this:\n",
    "> ```bash\n",
    "The blue car has 20,000 miles.\n",
    "The red car has 30,000 miles.\n",
    "> ```"
   ]
  },
  {
   "cell_type": "markdown",
   "id": "4c8faf12",
   "metadata": {},
   "source": [
    "When you’re ready, you can move on to the next section."
   ]
  }
 ],
 "metadata": {
  "kernelspec": {
   "display_name": "Python 3",
   "language": "python",
   "name": "python3"
  },
  "language_info": {
   "codemirror_mode": {
    "name": "ipython",
    "version": 3
   },
   "file_extension": ".py",
   "mimetype": "text/x-python",
   "name": "python",
   "nbconvert_exporter": "python",
   "pygments_lexer": "ipython3",
   "version": "3.8.8"
  }
 },
 "nbformat": 4,
 "nbformat_minor": 5
}
